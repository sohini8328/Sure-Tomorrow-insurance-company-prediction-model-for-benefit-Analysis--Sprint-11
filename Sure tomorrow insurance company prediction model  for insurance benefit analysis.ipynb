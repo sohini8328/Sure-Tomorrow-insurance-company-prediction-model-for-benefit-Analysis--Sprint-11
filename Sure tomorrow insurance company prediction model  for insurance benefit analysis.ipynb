{
 "cells": [
  {
   "cell_type": "markdown",
   "metadata": {},
   "source": [
    "# Project Title: \n",
    "## Sure Tomorrow insurance company prediction model on insurance benefit analysis "
   ]
  },
  {
   "cell_type": "markdown",
   "metadata": {},
   "source": [
    "## Introduction\n",
    "### The purpose of this project is to determine which model will be more successful in predicting the number of customers who will receive insurance benefits, comparing a dummy model and a prediction model using a linear regression approach.\n",
    "### Ensuring data protection to prevent breaches and maintaining the authenticity of the machine learning model."
   ]
  },
  {
   "cell_type": "markdown",
   "metadata": {},
   "source": [
    "# Data Preprocessing & Exploration\n",
    "\n",
    "## Initialization"
   ]
  },
  {
   "cell_type": "code",
   "execution_count": 1,
   "metadata": {
    "trusted": true
   },
   "outputs": [],
   "source": [
    "import numpy as np\n",
    "import pandas as pd\n",
    "\n",
    "import seaborn as sns\n",
    "import math\n",
    "import matplotlib.pyplot as plt\n",
    "\n",
    "import sklearn.linear_model \n",
    "from sklearn.metrics import accuracy_score, classification_report\n",
    "from sklearn.metrics import f1_score, r2_score\n",
    "from sklearn.neighbors import KNeighborsClassifier\n",
    "from sklearn.neighbors import NearestNeighbors\n",
    "from sklearn.preprocessing import StandardScaler\n",
    "\n",
    "from sklearn.model_selection import train_test_split\n",
    "\n",
    "from IPython.display import display"
   ]
  },
  {
   "cell_type": "markdown",
   "metadata": {},
   "source": [
    "## Load Data"
   ]
  },
  {
   "cell_type": "markdown",
   "metadata": {},
   "source": [
    "Load data and conduct a basic check that it's free from obvious issues."
   ]
  },
  {
   "cell_type": "code",
   "execution_count": 2,
   "metadata": {
    "trusted": true
   },
   "outputs": [],
   "source": [
    "df = pd.read_csv('/datasets/insurance_us.csv')"
   ]
  },
  {
   "cell_type": "markdown",
   "metadata": {},
   "source": [
    "We rename the colums to make the code look more consistent with its style."
   ]
  },
  {
   "cell_type": "code",
   "execution_count": 3,
   "metadata": {
    "trusted": true
   },
   "outputs": [],
   "source": [
    "df = df.rename(columns={'Gender': 'gender', 'Age': 'age', 'Salary': 'income', 'Family members': 'family_members', 'Insurance benefits': 'insurance_benefits'})"
   ]
  },
  {
   "cell_type": "code",
   "execution_count": 4,
   "metadata": {
    "trusted": true
   },
   "outputs": [
    {
     "data": {
      "text/html": [
       "<div>\n",
       "<style scoped>\n",
       "    .dataframe tbody tr th:only-of-type {\n",
       "        vertical-align: middle;\n",
       "    }\n",
       "\n",
       "    .dataframe tbody tr th {\n",
       "        vertical-align: top;\n",
       "    }\n",
       "\n",
       "    .dataframe thead th {\n",
       "        text-align: right;\n",
       "    }\n",
       "</style>\n",
       "<table border=\"1\" class=\"dataframe\">\n",
       "  <thead>\n",
       "    <tr style=\"text-align: right;\">\n",
       "      <th></th>\n",
       "      <th>gender</th>\n",
       "      <th>age</th>\n",
       "      <th>income</th>\n",
       "      <th>family_members</th>\n",
       "      <th>insurance_benefits</th>\n",
       "    </tr>\n",
       "  </thead>\n",
       "  <tbody>\n",
       "    <tr>\n",
       "      <th>2200</th>\n",
       "      <td>1</td>\n",
       "      <td>23.0</td>\n",
       "      <td>47700.0</td>\n",
       "      <td>2</td>\n",
       "      <td>0</td>\n",
       "    </tr>\n",
       "    <tr>\n",
       "      <th>745</th>\n",
       "      <td>0</td>\n",
       "      <td>32.0</td>\n",
       "      <td>35500.0</td>\n",
       "      <td>2</td>\n",
       "      <td>0</td>\n",
       "    </tr>\n",
       "    <tr>\n",
       "      <th>124</th>\n",
       "      <td>1</td>\n",
       "      <td>43.0</td>\n",
       "      <td>50200.0</td>\n",
       "      <td>1</td>\n",
       "      <td>1</td>\n",
       "    </tr>\n",
       "    <tr>\n",
       "      <th>928</th>\n",
       "      <td>1</td>\n",
       "      <td>21.0</td>\n",
       "      <td>30900.0</td>\n",
       "      <td>2</td>\n",
       "      <td>0</td>\n",
       "    </tr>\n",
       "    <tr>\n",
       "      <th>679</th>\n",
       "      <td>1</td>\n",
       "      <td>26.0</td>\n",
       "      <td>31100.0</td>\n",
       "      <td>1</td>\n",
       "      <td>0</td>\n",
       "    </tr>\n",
       "    <tr>\n",
       "      <th>4659</th>\n",
       "      <td>0</td>\n",
       "      <td>22.0</td>\n",
       "      <td>18300.0</td>\n",
       "      <td>1</td>\n",
       "      <td>0</td>\n",
       "    </tr>\n",
       "    <tr>\n",
       "      <th>1028</th>\n",
       "      <td>1</td>\n",
       "      <td>23.0</td>\n",
       "      <td>38800.0</td>\n",
       "      <td>3</td>\n",
       "      <td>0</td>\n",
       "    </tr>\n",
       "    <tr>\n",
       "      <th>2814</th>\n",
       "      <td>0</td>\n",
       "      <td>36.0</td>\n",
       "      <td>40100.0</td>\n",
       "      <td>1</td>\n",
       "      <td>0</td>\n",
       "    </tr>\n",
       "    <tr>\n",
       "      <th>4527</th>\n",
       "      <td>1</td>\n",
       "      <td>36.0</td>\n",
       "      <td>45100.0</td>\n",
       "      <td>0</td>\n",
       "      <td>0</td>\n",
       "    </tr>\n",
       "    <tr>\n",
       "      <th>1545</th>\n",
       "      <td>1</td>\n",
       "      <td>28.0</td>\n",
       "      <td>13000.0</td>\n",
       "      <td>1</td>\n",
       "      <td>0</td>\n",
       "    </tr>\n",
       "  </tbody>\n",
       "</table>\n",
       "</div>"
      ],
      "text/plain": [
       "      gender   age   income  family_members  insurance_benefits\n",
       "2200       1  23.0  47700.0               2                   0\n",
       "745        0  32.0  35500.0               2                   0\n",
       "124        1  43.0  50200.0               1                   1\n",
       "928        1  21.0  30900.0               2                   0\n",
       "679        1  26.0  31100.0               1                   0\n",
       "4659       0  22.0  18300.0               1                   0\n",
       "1028       1  23.0  38800.0               3                   0\n",
       "2814       0  36.0  40100.0               1                   0\n",
       "4527       1  36.0  45100.0               0                   0\n",
       "1545       1  28.0  13000.0               1                   0"
      ]
     },
     "execution_count": 4,
     "metadata": {},
     "output_type": "execute_result"
    }
   ],
   "source": [
    "df.sample(10)"
   ]
  },
  {
   "cell_type": "code",
   "execution_count": 5,
   "metadata": {
    "trusted": true
   },
   "outputs": [
    {
     "name": "stdout",
     "output_type": "stream",
     "text": [
      "<class 'pandas.core.frame.DataFrame'>\n",
      "RangeIndex: 5000 entries, 0 to 4999\n",
      "Data columns (total 5 columns):\n",
      " #   Column              Non-Null Count  Dtype  \n",
      "---  ------              --------------  -----  \n",
      " 0   gender              5000 non-null   int64  \n",
      " 1   age                 5000 non-null   float64\n",
      " 2   income              5000 non-null   float64\n",
      " 3   family_members      5000 non-null   int64  \n",
      " 4   insurance_benefits  5000 non-null   int64  \n",
      "dtypes: float64(2), int64(3)\n",
      "memory usage: 195.4 KB\n"
     ]
    }
   ],
   "source": [
    "df.info()"
   ]
  },
  {
   "cell_type": "code",
   "execution_count": 6,
   "metadata": {
    "trusted": true
   },
   "outputs": [],
   "source": [
    "# we may want to fix the age type (from float to int) though this is not critical\n",
    "df['age'] = df['age'].astype(int)\n",
    "\n",
    "# write your conversion here if you choose:\n"
   ]
  },
  {
   "cell_type": "code",
   "execution_count": 7,
   "metadata": {
    "trusted": true
   },
   "outputs": [
    {
     "name": "stdout",
     "output_type": "stream",
     "text": [
      "<class 'pandas.core.frame.DataFrame'>\n",
      "RangeIndex: 5000 entries, 0 to 4999\n",
      "Data columns (total 5 columns):\n",
      " #   Column              Non-Null Count  Dtype  \n",
      "---  ------              --------------  -----  \n",
      " 0   gender              5000 non-null   int64  \n",
      " 1   age                 5000 non-null   int64  \n",
      " 2   income              5000 non-null   float64\n",
      " 3   family_members      5000 non-null   int64  \n",
      " 4   insurance_benefits  5000 non-null   int64  \n",
      "dtypes: float64(1), int64(4)\n",
      "memory usage: 195.4 KB\n"
     ]
    }
   ],
   "source": [
    "# check to see that the conversion was successful\n",
    "df.info()"
   ]
  },
  {
   "cell_type": "code",
   "execution_count": 8,
   "metadata": {
    "trusted": true
   },
   "outputs": [
    {
     "data": {
      "text/html": [
       "<div>\n",
       "<style scoped>\n",
       "    .dataframe tbody tr th:only-of-type {\n",
       "        vertical-align: middle;\n",
       "    }\n",
       "\n",
       "    .dataframe tbody tr th {\n",
       "        vertical-align: top;\n",
       "    }\n",
       "\n",
       "    .dataframe thead th {\n",
       "        text-align: right;\n",
       "    }\n",
       "</style>\n",
       "<table border=\"1\" class=\"dataframe\">\n",
       "  <thead>\n",
       "    <tr style=\"text-align: right;\">\n",
       "      <th></th>\n",
       "      <th>gender</th>\n",
       "      <th>age</th>\n",
       "      <th>income</th>\n",
       "      <th>family_members</th>\n",
       "      <th>insurance_benefits</th>\n",
       "    </tr>\n",
       "  </thead>\n",
       "  <tbody>\n",
       "    <tr>\n",
       "      <th>count</th>\n",
       "      <td>5000.000000</td>\n",
       "      <td>5000.000000</td>\n",
       "      <td>5000.000000</td>\n",
       "      <td>5000.000000</td>\n",
       "      <td>5000.000000</td>\n",
       "    </tr>\n",
       "    <tr>\n",
       "      <th>mean</th>\n",
       "      <td>0.499000</td>\n",
       "      <td>30.952800</td>\n",
       "      <td>39916.360000</td>\n",
       "      <td>1.194200</td>\n",
       "      <td>0.148000</td>\n",
       "    </tr>\n",
       "    <tr>\n",
       "      <th>std</th>\n",
       "      <td>0.500049</td>\n",
       "      <td>8.440807</td>\n",
       "      <td>9900.083569</td>\n",
       "      <td>1.091387</td>\n",
       "      <td>0.463183</td>\n",
       "    </tr>\n",
       "    <tr>\n",
       "      <th>min</th>\n",
       "      <td>0.000000</td>\n",
       "      <td>18.000000</td>\n",
       "      <td>5300.000000</td>\n",
       "      <td>0.000000</td>\n",
       "      <td>0.000000</td>\n",
       "    </tr>\n",
       "    <tr>\n",
       "      <th>25%</th>\n",
       "      <td>0.000000</td>\n",
       "      <td>24.000000</td>\n",
       "      <td>33300.000000</td>\n",
       "      <td>0.000000</td>\n",
       "      <td>0.000000</td>\n",
       "    </tr>\n",
       "    <tr>\n",
       "      <th>50%</th>\n",
       "      <td>0.000000</td>\n",
       "      <td>30.000000</td>\n",
       "      <td>40200.000000</td>\n",
       "      <td>1.000000</td>\n",
       "      <td>0.000000</td>\n",
       "    </tr>\n",
       "    <tr>\n",
       "      <th>75%</th>\n",
       "      <td>1.000000</td>\n",
       "      <td>37.000000</td>\n",
       "      <td>46600.000000</td>\n",
       "      <td>2.000000</td>\n",
       "      <td>0.000000</td>\n",
       "    </tr>\n",
       "    <tr>\n",
       "      <th>max</th>\n",
       "      <td>1.000000</td>\n",
       "      <td>65.000000</td>\n",
       "      <td>79000.000000</td>\n",
       "      <td>6.000000</td>\n",
       "      <td>5.000000</td>\n",
       "    </tr>\n",
       "  </tbody>\n",
       "</table>\n",
       "</div>"
      ],
      "text/plain": [
       "            gender          age        income  family_members  \\\n",
       "count  5000.000000  5000.000000   5000.000000     5000.000000   \n",
       "mean      0.499000    30.952800  39916.360000        1.194200   \n",
       "std       0.500049     8.440807   9900.083569        1.091387   \n",
       "min       0.000000    18.000000   5300.000000        0.000000   \n",
       "25%       0.000000    24.000000  33300.000000        0.000000   \n",
       "50%       0.000000    30.000000  40200.000000        1.000000   \n",
       "75%       1.000000    37.000000  46600.000000        2.000000   \n",
       "max       1.000000    65.000000  79000.000000        6.000000   \n",
       "\n",
       "       insurance_benefits  \n",
       "count         5000.000000  \n",
       "mean             0.148000  \n",
       "std              0.463183  \n",
       "min              0.000000  \n",
       "25%              0.000000  \n",
       "50%              0.000000  \n",
       "75%              0.000000  \n",
       "max              5.000000  "
      ]
     },
     "execution_count": 8,
     "metadata": {},
     "output_type": "execute_result"
    }
   ],
   "source": [
    "# now have a look at the data's descriptive statistics. \n",
    "# Does everything look okay?\n",
    "df.describe()"
   ]
  },
  {
   "cell_type": "code",
   "execution_count": 9,
   "metadata": {
    "trusted": true
   },
   "outputs": [
    {
     "data": {
      "text/plain": [
       "gender                0\n",
       "age                   0\n",
       "income                0\n",
       "family_members        0\n",
       "insurance_benefits    0\n",
       "dtype: int64"
      ]
     },
     "execution_count": 9,
     "metadata": {},
     "output_type": "execute_result"
    }
   ],
   "source": [
    "df.isna().sum()"
   ]
  },
  {
   "cell_type": "code",
   "execution_count": 10,
   "metadata": {
    "trusted": true
   },
   "outputs": [
    {
     "data": {
      "text/plain": [
       "153"
      ]
     },
     "execution_count": 10,
     "metadata": {},
     "output_type": "execute_result"
    }
   ],
   "source": [
    " df.duplicated().sum()"
   ]
  },
  {
   "cell_type": "markdown",
   "metadata": {},
   "source": [
    "## EDA"
   ]
  },
  {
   "cell_type": "markdown",
   "metadata": {},
   "source": [
    "Let's quickly check whether there are certain groups of customers by looking at the pair plot."
   ]
  },
  {
   "cell_type": "code",
   "execution_count": 11,
   "metadata": {
    "trusted": true
   },
   "outputs": [
    {
     "data": {
      "image/png": "[encoded data removed]",
      "text/plain": [
       "<Figure size 1200x1200 with 30 Axes>"
      ]
     },
     "metadata": {},
     "output_type": "display_data"
    }
   ],
   "source": [
    "g = sns.pairplot(df, kind='hist')\n",
    "g.fig.set_size_inches(12, 12)"
   ]
  },
  {
   "cell_type": "markdown",
   "metadata": {},
   "source": [
    "Ok, it is a bit difficult to spot obvious groups (clusters) as it is difficult to combine several variables simultaneously (to analyze multivariate distributions). That's where LA and ML can be quite handy."
   ]
  },
  {
   "cell_type": "markdown",
   "metadata": {},
   "source": [
    "# Task 1. Similar Customers"
   ]
  },
  {
   "cell_type": "markdown",
   "metadata": {},
   "source": [
    "In the language of ML, it is necessary to develop a procedure that returns k nearest neighbors (objects) for a given object based on the distance between the objects.\n",
    "\n",
    "You may want to review the following lessons (chapter -> lesson)\n",
    "- Distance Between Vectors -> Euclidean Distance\n",
    "- Distance Between Vectors -> Manhattan Distance\n",
    "\n",
    "To solve the task, we can try different distance metrics."
   ]
  },
  {
   "cell_type": "markdown",
   "metadata": {},
   "source": [
    "Write a function that returns k nearest neighbors for an $n^{th}$ object based on a specified distance metric. The number of received insurance benefits should not be taken into account for this task. \n",
    "\n",
    "You can use a ready implementation of the kNN algorithm from scikit-learn (check [the link](https://scikit-learn.org/stable/modules/generated/sklearn.neighbors.NearestNeighbors.html#sklearn.neighbors.NearestNeighbors)) or use your own.\n",
    "\n",
    "Test it for four combination of two cases\n",
    "- Scaling\n",
    "  - the data is not scaled\n",
    "  - the data is scaled with the [MaxAbsScaler](https://scikit-learn.org/stable/modules/generated/sklearn.preprocessing.MaxAbsScaler.html) scaler\n",
    "- Distance Metrics\n",
    "  - Euclidean\n",
    "  - Manhattan\n",
    "\n",
    "Answer these questions:\n",
    "- Does the data being not scaled affect the kNN algorithm? If so, how does that appear?\n",
    "- How similar are the results using the Manhattan distance metric (regardless of the scaling)?"
   ]
  },
  {
   "cell_type": "code",
   "execution_count": 12,
   "metadata": {
    "trusted": true
   },
   "outputs": [],
   "source": [
    "feature_names = ['gender', 'age', 'income', 'family_members']"
   ]
  },
  {
   "cell_type": "code",
   "execution_count": 13,
   "metadata": {
    "trusted": true
   },
   "outputs": [
    {
     "data": {
      "text/plain": [
       "NearestNeighbors(metric='euclidean')"
      ]
     },
     "execution_count": 13,
     "metadata": {},
     "output_type": "execute_result"
    }
   ],
   "source": [
    "nbrs = NearestNeighbors(n_neighbors = 5, metric = 'euclidean')\n",
    "nbrs.fit(df[feature_names].values)"
   ]
  },
  {
   "cell_type": "code",
   "execution_count": 14,
   "metadata": {
    "trusted": true
   },
   "outputs": [],
   "source": [
    " nbrs_distances, nbrs_indices = nbrs.kneighbors(df.iloc[2][feature_names].values.reshape(1, -1), 3, return_distance=True) "
   ]
  },
  {
   "cell_type": "code",
   "execution_count": 15,
   "metadata": {
    "trusted": true
   },
   "outputs": [
    {
     "data": {
      "text/plain": [
       "array([[  0.        ,   2.44948974, 100.00499988]])"
      ]
     },
     "execution_count": 15,
     "metadata": {},
     "output_type": "execute_result"
    }
   ],
   "source": [
    "nbrs_distances"
   ]
  },
  {
   "cell_type": "code",
   "execution_count": 16,
   "metadata": {
    "trusted": true
   },
   "outputs": [
    {
     "data": {
      "text/plain": [
       "array([[   2, 4544, 2031]])"
      ]
     },
     "execution_count": 16,
     "metadata": {},
     "output_type": "execute_result"
    }
   ],
   "source": [
    "nbrs_indices"
   ]
  },
  {
   "cell_type": "markdown",
   "metadata": {},
   "source": [
    "\n",
    "<div class=\"alert alert-warning\" style=\"border-radius: 15px; box-shadow: 4px 4px 4px; border: 1px solid \">\n",
    "<h2>   Reviewer's comment </h2>\n",
    "    \n",
    "You can remove debugging cells if you don't need them anymore. </div>"
   ]
  },
  {
   "cell_type": "code",
   "execution_count": 17,
   "metadata": {
    "trusted": true
   },
   "outputs": [],
   "source": [
    "def get_knn(df, n, k, metric):\n",
    "    \n",
    "    \"\"\"\n",
    "    Returns k nearest neighbors\n",
    "\n",
    "    :param df: pandas DataFrame used to find similar objects within\n",
    "    :param n: object no for which the nearest neighbours are looked for\n",
    "    :param k: the number of the nearest neighbours to return\n",
    "    :param metric: name of distance metric\n",
    "    \"\"\"\n",
    "\n",
    "    nbrs = NearestNeighbors(n_neighbors = 5, metric= metric)\n",
    "    nbrs.fit(df[feature_names].values)\n",
    "    nbrs_distances, nbrs_indices = nbrs.kneighbors(df.iloc[n][feature_names].values.reshape(1,-1), k, return_distance=True)\n",
    "    \n",
    "    df_res = pd.concat([\n",
    "        df.iloc[nbrs_indices[0]], \n",
    "        pd.DataFrame(nbrs_distances.T, index=nbrs_indices[0], columns=['distance'])\n",
    "        ], axis=1)\n",
    "    \n",
    "    return df_res"
   ]
  },
  {
   "cell_type": "markdown",
   "metadata": {},
   "source": [
    "<div class=\"alert alert-success\" style=\"border-radius: 15px; box-shadow: 4px 4px 4px; border: 1px solid \">\n",
    "<h2>   Reviewer's comment </h2>\n",
    "    \n",
    "Correct! \n",
    "\n",
    "</div>"
   ]
  },
  {
   "cell_type": "markdown",
   "metadata": {},
   "source": [
    "Scaling the data."
   ]
  },
  {
   "cell_type": "code",
   "execution_count": 18,
   "metadata": {
    "trusted": true
   },
   "outputs": [],
   "source": [
    "feature_names = ['gender', 'age', 'income', 'family_members']\n",
    "\n",
    "transformer_mas = sklearn.preprocessing.MaxAbsScaler().fit(df[feature_names].to_numpy())\n",
    "\n",
    "df_scaled = df.copy()\n",
    "df_scaled.loc[:, feature_names] = transformer_mas.transform(df[feature_names].to_numpy())"
   ]
  },
  {
   "cell_type": "code",
   "execution_count": 19,
   "metadata": {
    "trusted": true
   },
   "outputs": [
    {
     "data": {
      "text/html": [
       "<div>\n",
       "<style scoped>\n",
       "    .dataframe tbody tr th:only-of-type {\n",
       "        vertical-align: middle;\n",
       "    }\n",
       "\n",
       "    .dataframe tbody tr th {\n",
       "        vertical-align: top;\n",
       "    }\n",
       "\n",
       "    .dataframe thead th {\n",
       "        text-align: right;\n",
       "    }\n",
       "</style>\n",
       "<table border=\"1\" class=\"dataframe\">\n",
       "  <thead>\n",
       "    <tr style=\"text-align: right;\">\n",
       "      <th></th>\n",
       "      <th>gender</th>\n",
       "      <th>age</th>\n",
       "      <th>income</th>\n",
       "      <th>family_members</th>\n",
       "      <th>insurance_benefits</th>\n",
       "    </tr>\n",
       "  </thead>\n",
       "  <tbody>\n",
       "    <tr>\n",
       "      <th>4102</th>\n",
       "      <td>1.0</td>\n",
       "      <td>0.338462</td>\n",
       "      <td>0.513924</td>\n",
       "      <td>0.000000</td>\n",
       "      <td>0</td>\n",
       "    </tr>\n",
       "    <tr>\n",
       "      <th>3080</th>\n",
       "      <td>0.0</td>\n",
       "      <td>0.476923</td>\n",
       "      <td>0.368354</td>\n",
       "      <td>0.166667</td>\n",
       "      <td>0</td>\n",
       "    </tr>\n",
       "    <tr>\n",
       "      <th>290</th>\n",
       "      <td>1.0</td>\n",
       "      <td>0.338462</td>\n",
       "      <td>0.353165</td>\n",
       "      <td>0.000000</td>\n",
       "      <td>0</td>\n",
       "    </tr>\n",
       "    <tr>\n",
       "      <th>740</th>\n",
       "      <td>1.0</td>\n",
       "      <td>0.461538</td>\n",
       "      <td>0.567089</td>\n",
       "      <td>0.500000</td>\n",
       "      <td>0</td>\n",
       "    </tr>\n",
       "    <tr>\n",
       "      <th>3449</th>\n",
       "      <td>1.0</td>\n",
       "      <td>0.476923</td>\n",
       "      <td>0.425316</td>\n",
       "      <td>0.333333</td>\n",
       "      <td>0</td>\n",
       "    </tr>\n",
       "  </tbody>\n",
       "</table>\n",
       "</div>"
      ],
      "text/plain": [
       "      gender       age    income  family_members  insurance_benefits\n",
       "4102     1.0  0.338462  0.513924        0.000000                   0\n",
       "3080     0.0  0.476923  0.368354        0.166667                   0\n",
       "290      1.0  0.338462  0.353165        0.000000                   0\n",
       "740      1.0  0.461538  0.567089        0.500000                   0\n",
       "3449     1.0  0.476923  0.425316        0.333333                   0"
      ]
     },
     "execution_count": 19,
     "metadata": {},
     "output_type": "execute_result"
    }
   ],
   "source": [
    "df_scaled.sample(5)"
   ]
  },
  {
   "cell_type": "code",
   "execution_count": 20,
   "metadata": {
    "trusted": true
   },
   "outputs": [
    {
     "data": {
      "text/html": [
       "<div>\n",
       "<style scoped>\n",
       "    .dataframe tbody tr th:only-of-type {\n",
       "        vertical-align: middle;\n",
       "    }\n",
       "\n",
       "    .dataframe tbody tr th {\n",
       "        vertical-align: top;\n",
       "    }\n",
       "\n",
       "    .dataframe thead th {\n",
       "        text-align: right;\n",
       "    }\n",
       "</style>\n",
       "<table border=\"1\" class=\"dataframe\">\n",
       "  <thead>\n",
       "    <tr style=\"text-align: right;\">\n",
       "      <th></th>\n",
       "      <th>gender</th>\n",
       "      <th>age</th>\n",
       "      <th>income</th>\n",
       "      <th>family_members</th>\n",
       "      <th>insurance_benefits</th>\n",
       "      <th>distance</th>\n",
       "    </tr>\n",
       "  </thead>\n",
       "  <tbody>\n",
       "    <tr>\n",
       "      <th>5</th>\n",
       "      <td>1</td>\n",
       "      <td>43</td>\n",
       "      <td>41000.0</td>\n",
       "      <td>2</td>\n",
       "      <td>1</td>\n",
       "      <td>0.000000</td>\n",
       "    </tr>\n",
       "    <tr>\n",
       "      <th>1995</th>\n",
       "      <td>0</td>\n",
       "      <td>45</td>\n",
       "      <td>41000.0</td>\n",
       "      <td>0</td>\n",
       "      <td>1</td>\n",
       "      <td>3.000000</td>\n",
       "    </tr>\n",
       "    <tr>\n",
       "      <th>3972</th>\n",
       "      <td>1</td>\n",
       "      <td>40</td>\n",
       "      <td>41000.0</td>\n",
       "      <td>1</td>\n",
       "      <td>0</td>\n",
       "      <td>3.162278</td>\n",
       "    </tr>\n",
       "    <tr>\n",
       "      <th>3801</th>\n",
       "      <td>0</td>\n",
       "      <td>46</td>\n",
       "      <td>41000.0</td>\n",
       "      <td>2</td>\n",
       "      <td>1</td>\n",
       "      <td>3.162278</td>\n",
       "    </tr>\n",
       "    <tr>\n",
       "      <th>4763</th>\n",
       "      <td>1</td>\n",
       "      <td>46</td>\n",
       "      <td>41000.0</td>\n",
       "      <td>1</td>\n",
       "      <td>1</td>\n",
       "      <td>3.162278</td>\n",
       "    </tr>\n",
       "  </tbody>\n",
       "</table>\n",
       "</div>"
      ],
      "text/plain": [
       "      gender  age   income  family_members  insurance_benefits  distance\n",
       "5          1   43  41000.0               2                   1  0.000000\n",
       "1995       0   45  41000.0               0                   1  3.000000\n",
       "3972       1   40  41000.0               1                   0  3.162278\n",
       "3801       0   46  41000.0               2                   1  3.162278\n",
       "4763       1   46  41000.0               1                   1  3.162278"
      ]
     },
     "execution_count": 20,
     "metadata": {},
     "output_type": "execute_result"
    }
   ],
   "source": [
    " get_knn(df,5,5, 'euclidean')"
   ]
  },
  {
   "cell_type": "code",
   "execution_count": 21,
   "metadata": {
    "trusted": true
   },
   "outputs": [
    {
     "data": {
      "text/html": [
       "<div>\n",
       "<style scoped>\n",
       "    .dataframe tbody tr th:only-of-type {\n",
       "        vertical-align: middle;\n",
       "    }\n",
       "\n",
       "    .dataframe tbody tr th {\n",
       "        vertical-align: top;\n",
       "    }\n",
       "\n",
       "    .dataframe thead th {\n",
       "        text-align: right;\n",
       "    }\n",
       "</style>\n",
       "<table border=\"1\" class=\"dataframe\">\n",
       "  <thead>\n",
       "    <tr style=\"text-align: right;\">\n",
       "      <th></th>\n",
       "      <th>gender</th>\n",
       "      <th>age</th>\n",
       "      <th>income</th>\n",
       "      <th>family_members</th>\n",
       "      <th>insurance_benefits</th>\n",
       "      <th>distance</th>\n",
       "    </tr>\n",
       "  </thead>\n",
       "  <tbody>\n",
       "    <tr>\n",
       "      <th>5</th>\n",
       "      <td>1</td>\n",
       "      <td>43</td>\n",
       "      <td>41000.0</td>\n",
       "      <td>2</td>\n",
       "      <td>1</td>\n",
       "      <td>0.0</td>\n",
       "    </tr>\n",
       "    <tr>\n",
       "      <th>3972</th>\n",
       "      <td>1</td>\n",
       "      <td>40</td>\n",
       "      <td>41000.0</td>\n",
       "      <td>1</td>\n",
       "      <td>0</td>\n",
       "      <td>4.0</td>\n",
       "    </tr>\n",
       "    <tr>\n",
       "      <th>4763</th>\n",
       "      <td>1</td>\n",
       "      <td>46</td>\n",
       "      <td>41000.0</td>\n",
       "      <td>1</td>\n",
       "      <td>1</td>\n",
       "      <td>4.0</td>\n",
       "    </tr>\n",
       "    <tr>\n",
       "      <th>3801</th>\n",
       "      <td>0</td>\n",
       "      <td>46</td>\n",
       "      <td>41000.0</td>\n",
       "      <td>2</td>\n",
       "      <td>1</td>\n",
       "      <td>4.0</td>\n",
       "    </tr>\n",
       "    <tr>\n",
       "      <th>1995</th>\n",
       "      <td>0</td>\n",
       "      <td>45</td>\n",
       "      <td>41000.0</td>\n",
       "      <td>0</td>\n",
       "      <td>1</td>\n",
       "      <td>5.0</td>\n",
       "    </tr>\n",
       "  </tbody>\n",
       "</table>\n",
       "</div>"
      ],
      "text/plain": [
       "      gender  age   income  family_members  insurance_benefits  distance\n",
       "5          1   43  41000.0               2                   1       0.0\n",
       "3972       1   40  41000.0               1                   0       4.0\n",
       "4763       1   46  41000.0               1                   1       4.0\n",
       "3801       0   46  41000.0               2                   1       4.0\n",
       "1995       0   45  41000.0               0                   1       5.0"
      ]
     },
     "execution_count": 21,
     "metadata": {},
     "output_type": "execute_result"
    }
   ],
   "source": [
    " get_knn(df,5,5, 'manhattan')"
   ]
  },
  {
   "cell_type": "code",
   "execution_count": 22,
   "metadata": {
    "trusted": true
   },
   "outputs": [
    {
     "data": {
      "text/html": [
       "<div>\n",
       "<style scoped>\n",
       "    .dataframe tbody tr th:only-of-type {\n",
       "        vertical-align: middle;\n",
       "    }\n",
       "\n",
       "    .dataframe tbody tr th {\n",
       "        vertical-align: top;\n",
       "    }\n",
       "\n",
       "    .dataframe thead th {\n",
       "        text-align: right;\n",
       "    }\n",
       "</style>\n",
       "<table border=\"1\" class=\"dataframe\">\n",
       "  <thead>\n",
       "    <tr style=\"text-align: right;\">\n",
       "      <th></th>\n",
       "      <th>gender</th>\n",
       "      <th>age</th>\n",
       "      <th>income</th>\n",
       "      <th>family_members</th>\n",
       "      <th>insurance_benefits</th>\n",
       "      <th>distance</th>\n",
       "    </tr>\n",
       "  </thead>\n",
       "  <tbody>\n",
       "    <tr>\n",
       "      <th>5</th>\n",
       "      <td>1.0</td>\n",
       "      <td>0.661538</td>\n",
       "      <td>0.518987</td>\n",
       "      <td>0.333333</td>\n",
       "      <td>1</td>\n",
       "      <td>0.000000</td>\n",
       "    </tr>\n",
       "    <tr>\n",
       "      <th>1147</th>\n",
       "      <td>1.0</td>\n",
       "      <td>0.646154</td>\n",
       "      <td>0.516456</td>\n",
       "      <td>0.333333</td>\n",
       "      <td>0</td>\n",
       "      <td>0.015592</td>\n",
       "    </tr>\n",
       "    <tr>\n",
       "      <th>4074</th>\n",
       "      <td>1.0</td>\n",
       "      <td>0.661538</td>\n",
       "      <td>0.501266</td>\n",
       "      <td>0.333333</td>\n",
       "      <td>1</td>\n",
       "      <td>0.017722</td>\n",
       "    </tr>\n",
       "    <tr>\n",
       "      <th>1019</th>\n",
       "      <td>1.0</td>\n",
       "      <td>0.646154</td>\n",
       "      <td>0.501266</td>\n",
       "      <td>0.333333</td>\n",
       "      <td>0</td>\n",
       "      <td>0.023468</td>\n",
       "    </tr>\n",
       "    <tr>\n",
       "      <th>2962</th>\n",
       "      <td>1.0</td>\n",
       "      <td>0.630769</td>\n",
       "      <td>0.520253</td>\n",
       "      <td>0.333333</td>\n",
       "      <td>0</td>\n",
       "      <td>0.030795</td>\n",
       "    </tr>\n",
       "  </tbody>\n",
       "</table>\n",
       "</div>"
      ],
      "text/plain": [
       "      gender       age    income  family_members  insurance_benefits  distance\n",
       "5        1.0  0.661538  0.518987        0.333333                   1  0.000000\n",
       "1147     1.0  0.646154  0.516456        0.333333                   0  0.015592\n",
       "4074     1.0  0.661538  0.501266        0.333333                   1  0.017722\n",
       "1019     1.0  0.646154  0.501266        0.333333                   0  0.023468\n",
       "2962     1.0  0.630769  0.520253        0.333333                   0  0.030795"
      ]
     },
     "execution_count": 22,
     "metadata": {},
     "output_type": "execute_result"
    }
   ],
   "source": [
    "get_knn(df_scaled,5,5, 'euclidean')"
   ]
  },
  {
   "cell_type": "code",
   "execution_count": 23,
   "metadata": {
    "trusted": true
   },
   "outputs": [
    {
     "data": {
      "text/html": [
       "<div>\n",
       "<style scoped>\n",
       "    .dataframe tbody tr th:only-of-type {\n",
       "        vertical-align: middle;\n",
       "    }\n",
       "\n",
       "    .dataframe tbody tr th {\n",
       "        vertical-align: top;\n",
       "    }\n",
       "\n",
       "    .dataframe thead th {\n",
       "        text-align: right;\n",
       "    }\n",
       "</style>\n",
       "<table border=\"1\" class=\"dataframe\">\n",
       "  <thead>\n",
       "    <tr style=\"text-align: right;\">\n",
       "      <th></th>\n",
       "      <th>gender</th>\n",
       "      <th>age</th>\n",
       "      <th>income</th>\n",
       "      <th>family_members</th>\n",
       "      <th>insurance_benefits</th>\n",
       "      <th>distance</th>\n",
       "    </tr>\n",
       "  </thead>\n",
       "  <tbody>\n",
       "    <tr>\n",
       "      <th>5</th>\n",
       "      <td>1.0</td>\n",
       "      <td>0.661538</td>\n",
       "      <td>0.518987</td>\n",
       "      <td>0.333333</td>\n",
       "      <td>1</td>\n",
       "      <td>0.000000</td>\n",
       "    </tr>\n",
       "    <tr>\n",
       "      <th>4074</th>\n",
       "      <td>1.0</td>\n",
       "      <td>0.661538</td>\n",
       "      <td>0.501266</td>\n",
       "      <td>0.333333</td>\n",
       "      <td>1</td>\n",
       "      <td>0.017722</td>\n",
       "    </tr>\n",
       "    <tr>\n",
       "      <th>1147</th>\n",
       "      <td>1.0</td>\n",
       "      <td>0.646154</td>\n",
       "      <td>0.516456</td>\n",
       "      <td>0.333333</td>\n",
       "      <td>0</td>\n",
       "      <td>0.017916</td>\n",
       "    </tr>\n",
       "    <tr>\n",
       "      <th>2962</th>\n",
       "      <td>1.0</td>\n",
       "      <td>0.630769</td>\n",
       "      <td>0.520253</td>\n",
       "      <td>0.333333</td>\n",
       "      <td>0</td>\n",
       "      <td>0.032035</td>\n",
       "    </tr>\n",
       "    <tr>\n",
       "      <th>1019</th>\n",
       "      <td>1.0</td>\n",
       "      <td>0.646154</td>\n",
       "      <td>0.501266</td>\n",
       "      <td>0.333333</td>\n",
       "      <td>0</td>\n",
       "      <td>0.033106</td>\n",
       "    </tr>\n",
       "  </tbody>\n",
       "</table>\n",
       "</div>"
      ],
      "text/plain": [
       "      gender       age    income  family_members  insurance_benefits  distance\n",
       "5        1.0  0.661538  0.518987        0.333333                   1  0.000000\n",
       "4074     1.0  0.661538  0.501266        0.333333                   1  0.017722\n",
       "1147     1.0  0.646154  0.516456        0.333333                   0  0.017916\n",
       "2962     1.0  0.630769  0.520253        0.333333                   0  0.032035\n",
       "1019     1.0  0.646154  0.501266        0.333333                   0  0.033106"
      ]
     },
     "execution_count": 23,
     "metadata": {},
     "output_type": "execute_result"
    }
   ],
   "source": [
    "get_knn(df_scaled,5,5, 'manhattan')"
   ]
  },
  {
   "cell_type": "markdown",
   "metadata": {},
   "source": [
    "Now, let's get similar records for a given one for every combination"
   ]
  },
  {
   "cell_type": "markdown",
   "metadata": {},
   "source": [
    "Answers to the questions"
   ]
  },
  {
   "cell_type": "markdown",
   "metadata": {},
   "source": [
    "**Does the data being not scaled affect the kNN algorithm? If so, how does that appear?** \n",
    "\n",
    "#### After scaling the data the comparison seems little easier which was not true for not scaled data."
   ]
  },
  {
   "cell_type": "markdown",
   "metadata": {},
   "source": [
    "**How similar are the results using the Manhattan distance metric (regardless of the scaling)?** \n",
    "\n",
    "#### The Manhattan distances are 1.0 more that the Euclidean distances as Manhattan follows grid based path. But Euclidean is the shortest distance possible as we can see in the above data. Manhattan distances are less sensitive to outliers compared to Euclidean so it is preffered to deal with data that might have extreme values."
   ]
  },
  {
   "cell_type": "markdown",
   "metadata": {},
   "source": [
    "# Task 2. Is Customer Likely to Receive Insurance Benefit?"
   ]
  },
  {
   "cell_type": "markdown",
   "metadata": {},
   "source": [
    "In terms of machine learning we can look at this like a binary classification task."
   ]
  },
  {
   "cell_type": "markdown",
   "metadata": {},
   "source": [
    "With `insurance_benefits` being more than zero as the target, evaluate whether the kNN classification approach can do better than a dummy model.\n",
    "\n",
    "Instructions:\n",
    "- Build a KNN-based classifier and measure its quality with the F1 metric for k=1..10 for both the original data and the scaled one. That'd be interesting to see how k may influece the evaluation metric, and whether scaling the data makes any difference. You can use a ready implemention of the kNN classification algorithm from scikit-learn (check [the link](https://scikit-learn.org/stable/modules/generated/sklearn.neighbors.KNeighborsClassifier.html)) or use your own.\n",
    "- Build the dummy model which is just random for this case. It should return \"1\" with some probability. Let's test the model with four probability values: 0, the probability of paying any insurance benefit, 0.5, 1.\n",
    "\n",
    "The probability of paying any insurance benefit can be defined as\n",
    "\n",
    "$$\n",
    "P\\{\\text{insurance benefit received}\\}=\\frac{\\text{number of clients received any insurance benefit}}{\\text{total number of clients}}.\n",
    "$$\n",
    "\n",
    "Split the whole data in the 70:30 proportion for the training/testing parts."
   ]
  },
  {
   "cell_type": "code",
   "execution_count": 24,
   "metadata": {
    "trusted": true
   },
   "outputs": [
    {
     "data": {
      "text/plain": [
       "0    4436\n",
       "1     423\n",
       "2     115\n",
       "3      18\n",
       "4       7\n",
       "5       1\n",
       "Name: insurance_benefits, dtype: int64"
      ]
     },
     "execution_count": 24,
     "metadata": {},
     "output_type": "execute_result"
    }
   ],
   "source": [
    "df['insurance_benefits']. value_counts()"
   ]
  },
  {
   "cell_type": "code",
   "execution_count": 25,
   "metadata": {
    "trusted": true
   },
   "outputs": [],
   "source": [
    "# calculate the target\n",
    "df['insurance_benefits_received'] = (df['insurance_benefits'] > 0).astype(int)"
   ]
  },
  {
   "cell_type": "code",
   "execution_count": 26,
   "metadata": {
    "trusted": true
   },
   "outputs": [],
   "source": [
    "train, test = train_test_split(df, test_size= 0.3, random_state= 42)\n",
    "x_train= train[feature_names]\n",
    "x_test =test[feature_names]\n",
    "y_train= train['insurance_benefits_received']\n",
    "y_test= test['insurance_benefits_received']"
   ]
  },
  {
   "cell_type": "code",
   "execution_count": 27,
   "metadata": {
    "trusted": true
   },
   "outputs": [
    {
     "data": {
      "text/plain": [
       "0    4436\n",
       "1     564\n",
       "Name: insurance_benefits_received, dtype: int64"
      ]
     },
     "execution_count": 27,
     "metadata": {},
     "output_type": "execute_result"
    }
   ],
   "source": [
    "# check for the class imbalance with value_counts()\n",
    "df['insurance_benefits_received']. value_counts()"
   ]
  },
  {
   "cell_type": "code",
   "execution_count": 28,
   "metadata": {
    "trusted": true
   },
   "outputs": [],
   "source": [
    "def eval_classifier(y_true, y_pred):\n",
    "    \n",
    "    f1_score = sklearn.metrics.f1_score(y_true, y_pred)\n",
    "    print(f'F1: {f1_score:.2f}')\n",
    "    \n",
    "# if you have an issue with the following line, restart the kernel and run the notebook again\n",
    "    cm = sklearn.metrics.confusion_matrix(y_true, y_pred, normalize='all')\n",
    "    print('Confusion Matrix')\n",
    "    print(cm)"
   ]
  },
  {
   "cell_type": "code",
   "execution_count": 29,
   "metadata": {
    "trusted": true
   },
   "outputs": [],
   "source": [
    "# generating output of a random model\n",
    "\n",
    "def rnd_model_predict(P, size, seed=42):\n",
    "\n",
    "    rng = np.random.default_rng(seed=seed)\n",
    "    \n",
    "    return rng.binomial(n=1, p=P, size=size)"
   ]
  },
  {
   "cell_type": "code",
   "execution_count": 30,
   "metadata": {
    "trusted": true
   },
   "outputs": [
    {
     "name": "stdout",
     "output_type": "stream",
     "text": [
      "The probability: 0.11\n",
      "F1: 0.19\n",
      "Confusion Matrix\n",
      "[[0.4508 0.4364]\n",
      " [0.0542 0.0586]]\n",
      "\n"
     ]
    }
   ],
   "source": [
    "for P in [df['insurance_benefits_received'].sum() / len(df)]:\n",
    "    print(f'The probability: {P:.2f}')\n",
    "    \n",
    "    y_pred_rnd = np.random.random(len(df['insurance_benefits_received']))\n",
    "    \n",
    "    \n",
    "    y_pred_rnd = (y_pred_rnd > 0.5).astype(int)\n",
    "    \n",
    "    if (len(df['insurance_benefits_received'])) == len(y_pred_rnd):\n",
    "        eval_classifier(df['insurance_benefits_received'], y_pred_rnd)\n",
    "        \n",
    "    print()"
   ]
  },
  {
   "cell_type": "code",
   "execution_count": 31,
   "metadata": {
    "trusted": true
   },
   "outputs": [],
   "source": [
    "# Step 3: Build and evaluate the KNN classifier for both original and scaled data\n",
    "f1_scores_original = []\n",
    "f1_scores_scaled = []\n",
    "\n",
    "# Step 4: Calculate F1 scores for k = 1 to 10\n",
    "for k in range(1, 11):\n",
    "    # Original data\n",
    "    knn = KNeighborsClassifier(n_neighbors=k)\n",
    "    knn.fit(x_train, y_train)\n",
    "    y_pred_original = knn.predict(x_test)\n",
    "    f1_original = f1_score(y_test, y_pred_original, average='weighted')\n",
    "    f1_scores_original.append(f1_original)\n",
    "    \n",
    "    # Scaled data\n",
    "    scaler = StandardScaler()\n",
    "    x_train_scaled = scaler.fit_transform(x_train)\n",
    "    x_test_scaled = scaler.transform(x_test)\n",
    "    knn.fit(x_train_scaled, y_train)\n",
    "    y_pred_scaled = knn.predict(x_test_scaled)\n",
    "    f1_scaled = f1_score(y_test, y_pred_scaled, average='weighted')\n",
    "    f1_scores_scaled.append(f1_scaled)"
   ]
  },
  {
   "cell_type": "code",
   "execution_count": 32,
   "metadata": {
    "trusted": true
   },
   "outputs": [
    {
     "data": {
      "image/png": "[encoded data removed]",
      "text/plain": [
       "<Figure size 1000x500 with 1 Axes>"
      ]
     },
     "metadata": {},
     "output_type": "display_data"
    }
   ],
   "source": [
    "\n",
    "plt.figure(figsize=(10, 5))\n",
    "plt.plot(range(1, 11), f1_scores_original, label='Original Data', marker='o')\n",
    "plt.plot(range(1, 11), f1_scores_scaled, label='Scaled Data', marker='o')\n",
    "plt.xlabel('k')\n",
    "plt.ylabel('F1 Score')\n",
    "plt.title('F1 Score vs k for Original and Scaled Data')\n",
    "plt.legend()\n",
    "plt.grid(True)\n",
    "plt.show()"
   ]
  },
  {
   "cell_type": "markdown",
   "metadata": {},
   "source": [
    "####  When knn classifier was used on the scaled data it  provided us with higher f1 score(0.98) so scaled data is better than the original data."
   ]
  },
  {
   "cell_type": "markdown",
   "metadata": {},
   "source": [
    "# Task 3. Regression (with Linear Regression)"
   ]
  },
  {
   "cell_type": "markdown",
   "metadata": {},
   "source": [
    "With `insurance_benefits` as the target, evaluate what RMSE would be for a Linear Regression model."
   ]
  },
  {
   "cell_type": "markdown",
   "metadata": {},
   "source": [
    "Build your own implementation of LR. For that, recall how the linear regression task's solution is formulated in terms of LA. Check RMSE for both the original data and the scaled one. Can you see any difference in RMSE between these two cases?\n",
    "\n",
    "Let's denote\n",
    "- $X$ — feature matrix, each row is a case, each column is a feature, the first column consists of unities\n",
    "- $y$ — target (a vector)\n",
    "- $\\hat{y}$ — estimated tagret (a vector)\n",
    "- $w$ — weight vector\n",
    "\n",
    "The task of linear regression in the language of matrices can be formulated as\n",
    "\n",
    "$$\n",
    "y = Xw\n",
    "$$\n",
    "\n",
    "The training objective then is to find such $w$ that it would minimize the L2-distance (MSE) between $Xw$ and $y$:\n",
    "\n",
    "$$\n",
    "\\min_w d_2(Xw, y) \\quad \\text{or} \\quad \\min_w \\text{MSE}(Xw, y)\n",
    "$$\n",
    "\n",
    "It appears that there is analytical solution for the above:\n",
    "\n",
    "$$\n",
    "w = (X^T X)^{-1} X^T y\n",
    "$$\n",
    "\n",
    "The formula above can be used to find the weights $w$ and the latter can be used to calculate predicted values\n",
    "\n",
    "$$\n",
    "\\hat{y} = X_{val}w\n",
    "$$"
   ]
  },
  {
   "cell_type": "markdown",
   "metadata": {},
   "source": [
    "Split the whole data in the 70:30 proportion for the training/validation parts. Use the RMSE metric for the model evaluation."
   ]
  },
  {
   "cell_type": "code",
   "execution_count": 33,
   "metadata": {
    "trusted": true
   },
   "outputs": [],
   "source": [
    "class MyLinearRegression:\n",
    "    \n",
    "    def __init__(self):\n",
    "        \n",
    "        self.weights = None\n",
    "    \n",
    "    def fit(self, X, y):\n",
    "        \n",
    "        # adding the unities\n",
    "        X2 = np.concatenate((np.ones((X.shape[0], 1)), X), axis=1)\n",
    "        self.weights = np.linalg.inv(X2.T.dot(X2)).dot(X2.T).dot(y)\n",
    "\n",
    "    def predict(self, X):\n",
    "        \n",
    "        # adding the unities\n",
    "        X2 = np.concatenate((np.ones((X.shape[0], 1)), X), axis=1) \n",
    "        y_pred = X2.dot(self.weights) \n",
    "        \n",
    "        return y_pred"
   ]
  },
  {
   "cell_type": "code",
   "execution_count": 34,
   "metadata": {
    "trusted": true
   },
   "outputs": [],
   "source": [
    "def eval_regressor(y_true, y_pred):\n",
    "    \n",
    "    rmse = math.sqrt(sklearn.metrics.mean_squared_error(y_true, y_pred))\n",
    "    print(f'RMSE: {rmse:.2f}')\n",
    "    \n",
    "    r2 = r2_score(y_true, y_pred)\n",
    "    print(f'R2: {r2:.2f}')    "
   ]
  },
  {
   "cell_type": "code",
   "execution_count": 35,
   "metadata": {
    "trusted": true
   },
   "outputs": [
    {
     "name": "stdout",
     "output_type": "stream",
     "text": [
      "[-6.50583302e-01  2.47409374e-02 -7.31018901e-04  1.36927859e-07\n",
      " -6.32915410e-03]\n",
      "RMSE: 0.23\n",
      "R2: 0.44\n",
      "\n"
     ]
    }
   ],
   "source": [
    "x = df[['age', 'gender', 'income', 'family_members']].to_numpy()\n",
    "y = df['insurance_benefits_received'].to_numpy()\n",
    "\n",
    "x_train, x_test, y_train, y_test = train_test_split(x, y, test_size=0.3, random_state=12345)\n",
    "\n",
    "lr = MyLinearRegression()\n",
    "\n",
    "lr.fit(x_train, y_train)\n",
    "print(lr.weights)\n",
    "\n",
    "y_test_pred = lr.predict(x_test)\n",
    "eval_regressor(y_test, y_test_pred)\n",
    "print()"
   ]
  },
  {
   "cell_type": "markdown",
   "metadata": {},
   "source": [
    "## AS R2 score is 44 % that means that the model is close to actual prediction."
   ]
  },
  {
   "cell_type": "code",
   "execution_count": 36,
   "metadata": {
    "trusted": true
   },
   "outputs": [
    {
     "name": "stdout",
     "output_type": "stream",
     "text": [
      "[ 0.11457143  0.20964508 -0.00036542  0.00135641 -0.00688148]\n",
      "RMSE: 0.23\n",
      "R2: 0.44\n",
      "\n"
     ]
    }
   ],
   "source": [
    "\n",
    "scaler = StandardScaler()\n",
    "x_train_scaled = scaler.fit_transform(x_train)\n",
    "x_test_scaled = scaler.transform(x_test)\n",
    "\n",
    "lr = MyLinearRegression()\n",
    "\n",
    "lr.fit(x_train_scaled, y_train)\n",
    "print(lr.weights)\n",
    "\n",
    "y_test_pred= lr.predict(x_test_scaled)\n",
    "eval_regressor(y_test, y_test_pred)\n",
    "print()\n"
   ]
  },
  {
   "cell_type": "markdown",
   "metadata": {},
   "source": [
    "#### The result with original data and scaled data is similar. This is because the model fitting metrics like r2 or RMSE will not be affected by scaling the data. The overall performance of the model remains similar with both datas. \n",
    "#### Second reason can be if the features with larger scale have not really dominated the features with lower scale but this is not true for our dataframe."
   ]
  },
  {
   "cell_type": "markdown",
   "metadata": {},
   "source": [
    "# Task 4. Obfuscating Data"
   ]
  },
  {
   "cell_type": "markdown",
   "metadata": {},
   "source": [
    "It best to obfuscate data by multiplying the numerical features (remember, they can be seen as the matrix $X$) by an invertible matrix $P$. \n",
    "\n",
    "$$\n",
    "X' = X \\times P\n",
    "$$\n",
    "\n",
    "Try to do that and check how the features' values will look like after the transformation. By the way, the intertible property is important here so make sure that $P$ is indeed invertible.\n",
    "\n",
    "You may want to review the 'Matrices and Matrix Operations -> Matrix Multiplication' lesson to recall the rule of matrix multiplication and its implementation with NumPy."
   ]
  },
  {
   "cell_type": "code",
   "execution_count": 37,
   "metadata": {
    "trusted": true
   },
   "outputs": [
    {
     "data": {
      "text/html": [
       "<div>\n",
       "<style scoped>\n",
       "    .dataframe tbody tr th:only-of-type {\n",
       "        vertical-align: middle;\n",
       "    }\n",
       "\n",
       "    .dataframe tbody tr th {\n",
       "        vertical-align: top;\n",
       "    }\n",
       "\n",
       "    .dataframe thead th {\n",
       "        text-align: right;\n",
       "    }\n",
       "</style>\n",
       "<table border=\"1\" class=\"dataframe\">\n",
       "  <thead>\n",
       "    <tr style=\"text-align: right;\">\n",
       "      <th></th>\n",
       "      <th>gender</th>\n",
       "      <th>age</th>\n",
       "      <th>income</th>\n",
       "      <th>family_members</th>\n",
       "    </tr>\n",
       "  </thead>\n",
       "  <tbody>\n",
       "    <tr>\n",
       "      <th>0</th>\n",
       "      <td>1</td>\n",
       "      <td>41</td>\n",
       "      <td>49600.0</td>\n",
       "      <td>1</td>\n",
       "    </tr>\n",
       "    <tr>\n",
       "      <th>1</th>\n",
       "      <td>0</td>\n",
       "      <td>46</td>\n",
       "      <td>38000.0</td>\n",
       "      <td>1</td>\n",
       "    </tr>\n",
       "    <tr>\n",
       "      <th>2</th>\n",
       "      <td>0</td>\n",
       "      <td>29</td>\n",
       "      <td>21000.0</td>\n",
       "      <td>0</td>\n",
       "    </tr>\n",
       "    <tr>\n",
       "      <th>3</th>\n",
       "      <td>0</td>\n",
       "      <td>21</td>\n",
       "      <td>41700.0</td>\n",
       "      <td>2</td>\n",
       "    </tr>\n",
       "    <tr>\n",
       "      <th>4</th>\n",
       "      <td>1</td>\n",
       "      <td>28</td>\n",
       "      <td>26100.0</td>\n",
       "      <td>0</td>\n",
       "    </tr>\n",
       "    <tr>\n",
       "      <th>...</th>\n",
       "      <td>...</td>\n",
       "      <td>...</td>\n",
       "      <td>...</td>\n",
       "      <td>...</td>\n",
       "    </tr>\n",
       "    <tr>\n",
       "      <th>4995</th>\n",
       "      <td>0</td>\n",
       "      <td>28</td>\n",
       "      <td>35700.0</td>\n",
       "      <td>2</td>\n",
       "    </tr>\n",
       "    <tr>\n",
       "      <th>4996</th>\n",
       "      <td>0</td>\n",
       "      <td>34</td>\n",
       "      <td>52400.0</td>\n",
       "      <td>1</td>\n",
       "    </tr>\n",
       "    <tr>\n",
       "      <th>4997</th>\n",
       "      <td>0</td>\n",
       "      <td>20</td>\n",
       "      <td>33900.0</td>\n",
       "      <td>2</td>\n",
       "    </tr>\n",
       "    <tr>\n",
       "      <th>4998</th>\n",
       "      <td>1</td>\n",
       "      <td>22</td>\n",
       "      <td>32700.0</td>\n",
       "      <td>3</td>\n",
       "    </tr>\n",
       "    <tr>\n",
       "      <th>4999</th>\n",
       "      <td>1</td>\n",
       "      <td>28</td>\n",
       "      <td>40600.0</td>\n",
       "      <td>1</td>\n",
       "    </tr>\n",
       "  </tbody>\n",
       "</table>\n",
       "<p>5000 rows × 4 columns</p>\n",
       "</div>"
      ],
      "text/plain": [
       "      gender  age   income  family_members\n",
       "0          1   41  49600.0               1\n",
       "1          0   46  38000.0               1\n",
       "2          0   29  21000.0               0\n",
       "3          0   21  41700.0               2\n",
       "4          1   28  26100.0               0\n",
       "...      ...  ...      ...             ...\n",
       "4995       0   28  35700.0               2\n",
       "4996       0   34  52400.0               1\n",
       "4997       0   20  33900.0               2\n",
       "4998       1   22  32700.0               3\n",
       "4999       1   28  40600.0               1\n",
       "\n",
       "[5000 rows x 4 columns]"
      ]
     },
     "execution_count": 37,
     "metadata": {},
     "output_type": "execute_result"
    }
   ],
   "source": [
    "personal_info_column_list = ['gender', 'age', 'income', 'family_members']\n",
    "df_pn = df[personal_info_column_list]\n",
    "df_pn"
   ]
  },
  {
   "cell_type": "code",
   "execution_count": 38,
   "metadata": {
    "trusted": true
   },
   "outputs": [
    {
     "data": {
      "text/plain": [
       "array([[1.00e+00, 4.10e+01, 4.96e+04, 1.00e+00],\n",
       "       [0.00e+00, 4.60e+01, 3.80e+04, 1.00e+00],\n",
       "       [0.00e+00, 2.90e+01, 2.10e+04, 0.00e+00],\n",
       "       ...,\n",
       "       [0.00e+00, 2.00e+01, 3.39e+04, 2.00e+00],\n",
       "       [1.00e+00, 2.20e+01, 3.27e+04, 3.00e+00],\n",
       "       [1.00e+00, 2.80e+01, 4.06e+04, 1.00e+00]])"
      ]
     },
     "execution_count": 38,
     "metadata": {},
     "output_type": "execute_result"
    }
   ],
   "source": [
    "X = df_pn.to_numpy()\n",
    "X"
   ]
  },
  {
   "cell_type": "markdown",
   "metadata": {},
   "source": [
    "Generating a random matrix $P$."
   ]
  },
  {
   "cell_type": "code",
   "execution_count": 39,
   "metadata": {
    "trusted": true
   },
   "outputs": [
    {
     "data": {
      "text/plain": [
       "array([[0.77395605, 0.43887844, 0.85859792, 0.69736803],\n",
       "       [0.09417735, 0.97562235, 0.7611397 , 0.78606431],\n",
       "       [0.12811363, 0.45038594, 0.37079802, 0.92676499],\n",
       "       [0.64386512, 0.82276161, 0.4434142 , 0.22723872]])"
      ]
     },
     "execution_count": 39,
     "metadata": {},
     "output_type": "execute_result"
    }
   ],
   "source": [
    "rng = np.random.default_rng(seed=42)\n",
    "P = rng.random(size=(X.shape[1], X.shape[1]))\n",
    "P"
   ]
  },
  {
   "cell_type": "markdown",
   "metadata": {},
   "source": [
    "Checking the matrix $P$ is invertible"
   ]
  },
  {
   "cell_type": "code",
   "execution_count": 40,
   "metadata": {
    "trusted": true
   },
   "outputs": [
    {
     "data": {
      "text/plain": [
       "array([[ 1.00000000e+00, -1.69848573e-16, -7.58122972e-17,\n",
       "        -1.13112497e-16],\n",
       "       [-6.94895396e-17,  1.00000000e+00, -7.10568689e-17,\n",
       "         3.59096970e-17],\n",
       "       [-1.21269339e-16, -8.01461326e-17,  1.00000000e+00,\n",
       "         4.30764008e-19],\n",
       "       [-3.60694539e-16, -5.55430227e-16,  3.08072404e-16,\n",
       "         1.00000000e+00]])"
      ]
     },
     "execution_count": 40,
     "metadata": {},
     "output_type": "execute_result"
    }
   ],
   "source": [
    "P_inv = np.matmul(P, np.linalg.inv(P))\n",
    "P_inv"
   ]
  },
  {
   "cell_type": "markdown",
   "metadata": {},
   "source": [
    "####  No error came in the code while running that means P is invertible."
   ]
  },
  {
   "cell_type": "markdown",
   "metadata": {},
   "source": [
    "Can you guess the customers' ages or income after the transformation?"
   ]
  },
  {
   "cell_type": "markdown",
   "metadata": {},
   "source": [
    "#### No it can't be."
   ]
  },
  {
   "cell_type": "markdown",
   "metadata": {},
   "source": [
    "Can you recover the original data from $X'$ if you know $P$? Try to check that with calculations by moving $P$ from the right side of the formula above to the left one. The rules of matrix multiplcation are really helpful here.\n"
   ]
  },
  {
   "cell_type": "markdown",
   "metadata": {},
   "source": [
    "#### Yes original data can be recoved if P inverse is multiplied on the both side of equation."
   ]
  },
  {
   "cell_type": "markdown",
   "metadata": {},
   "source": [
    "Print all three cases for a few customers\n",
    "- The original data\n",
    "- The transformed one\n",
    "- The reversed (recovered) one"
   ]
  },
  {
   "cell_type": "code",
   "execution_count": 41,
   "metadata": {
    "trusted": true
   },
   "outputs": [
    {
     "data": {
      "text/plain": [
       "array([[1.00e+00, 4.10e+01, 4.96e+04, 1.00e+00],\n",
       "       [0.00e+00, 4.60e+01, 3.80e+04, 1.00e+00],\n",
       "       [0.00e+00, 2.90e+01, 2.10e+04, 0.00e+00],\n",
       "       ...,\n",
       "       [0.00e+00, 2.00e+01, 3.39e+04, 2.00e+00],\n",
       "       [1.00e+00, 2.20e+01, 3.27e+04, 3.00e+00],\n",
       "       [1.00e+00, 2.80e+01, 4.06e+04, 1.00e+00]])"
      ]
     },
     "execution_count": 41,
     "metadata": {},
     "output_type": "execute_result"
    }
   ],
   "source": [
    "## The original data \n",
    "X"
   ]
  },
  {
   "cell_type": "markdown",
   "metadata": {},
   "source": [
    "You can probably see that some values are not exactly the same as they are in the original data. What might be the reason for that?"
   ]
  },
  {
   "cell_type": "markdown",
   "metadata": {},
   "source": [
    "### The reason for some values to change are as follows:\n",
    "#### When we changed the data frame (df) to numpy array X the data looks different as different column has different data type as income is float and age is int. Dataframe is capable of handling multiple data types in single structure but numpy array is not. The elements in numpy array should be in same data type. The numpy array will also change the shape if the dataframe has mixed data types.\n",
    "#### In df the data was in column labels and row index but when it changed into numpy array the result was raw data.\n"
   ]
  },
  {
   "cell_type": "code",
   "execution_count": 42,
   "metadata": {
    "trusted": true
   },
   "outputs": [
    {
     "data": {
      "text/plain": [
       "array([[ 6359.71527314, 22380.40467609, 18424.09074184, 46000.69669016],\n",
       "       [ 4873.29406479, 17160.36702982, 14125.78076133, 35253.45577301],\n",
       "       [ 2693.11742928,  9486.397744  ,  7808.83156024, 19484.86063067],\n",
       "       ...,\n",
       "       [ 4346.2234249 , 15289.24126492, 12586.16264392, 31433.50888552],\n",
       "       [ 4194.09324155, 14751.9910242 , 12144.02930637, 30323.88763426],\n",
       "       [ 5205.46827354, 18314.24814446, 15077.01370762, 37649.59295455]])"
      ]
     },
     "execution_count": 42,
     "metadata": {},
     "output_type": "execute_result"
    }
   ],
   "source": [
    "## The transformed one\n",
    "x_trans = X @ P\n",
    "x_trans"
   ]
  },
  {
   "cell_type": "code",
   "execution_count": 43,
   "metadata": {
    "trusted": true
   },
   "outputs": [
    {
     "data": {
      "text/plain": [
       "array([[ 1.00000000e+00,  4.10000000e+01,  4.96000000e+04,\n",
       "         1.00000000e+00],\n",
       "       [-4.47363596e-12,  4.60000000e+01,  3.80000000e+04,\n",
       "         1.00000000e+00],\n",
       "       [-2.51586878e-12,  2.90000000e+01,  2.10000000e+04,\n",
       "         9.52452315e-13],\n",
       "       ...,\n",
       "       [-1.92837871e-12,  2.00000000e+01,  3.39000000e+04,\n",
       "         2.00000000e+00],\n",
       "       [ 1.00000000e+00,  2.20000000e+01,  3.27000000e+04,\n",
       "         3.00000000e+00],\n",
       "       [ 1.00000000e+00,  2.80000000e+01,  4.06000000e+04,\n",
       "         1.00000000e+00]])"
      ]
     },
     "execution_count": 43,
     "metadata": {},
     "output_type": "execute_result"
    }
   ],
   "source": [
    "## The reversed one \n",
    "x_recover = x_trans @ np.linalg.inv(P)\n",
    "x_recover"
   ]
  },
  {
   "cell_type": "markdown",
   "metadata": {},
   "source": [
    "## Proof That Data Obfuscation Can Work with LR"
   ]
  },
  {
   "cell_type": "markdown",
   "metadata": {},
   "source": [
    "The regression task has been solved with linear regression in this project. Your next task is to prove _analytically_ that the given obfuscation method won't affect linear regression in terms of predicted values i.e. their values will remain the same. Can you believe that? Well, you don't have to, you should prove it!"
   ]
  },
  {
   "cell_type": "markdown",
   "metadata": {},
   "source": [
    "So, the data is obfuscated and there is $X \\times P$ instead of just $X$ now. Consequently, there are other weights $w_P$ as\n",
    "$$\n",
    "w = (X^T X)^{-1} X^T y \\quad \\Rightarrow \\quad w_P = [(XP)^T XP]^{-1} (XP)^T y\n",
    "$$\n",
    "\n",
    "How would $w$ and $w_P$ be linked if you simplify the formula for $w_P$ above? \n",
    "\n",
    "What would be predicted values with $w_P$? \n",
    "\n",
    "What does that mean for the quality of linear regression if you measure it with RMSE?\n",
    "\n",
    "Check Appendix B Properties of Matrices in the end of the notebook. There are useful formulas in there!\n",
    "\n",
    "No code is necessary in this section, only analytical explanation!"
   ]
  },
  {
   "cell_type": "markdown",
   "metadata": {},
   "source": [
    "**Answer**"
   ]
  },
  {
   "cell_type": "markdown",
   "metadata": {},
   "source": [
    "#### The predicted values with wp will be same as w\n",
    "\n",
    "#### RMSE shows us the difference between the predicted values and actual values. If the RMSE is higher that means the model prediction have more error. The best model will be with lower RMSE."
   ]
  },
  {
   "cell_type": "markdown",
   "metadata": {},
   "source": [
    "**Analytical proof**"
   ]
  },
  {
   "cell_type": "markdown",
   "metadata": {},
   "source": [
    "\n",
    "####  wp = [(XP)^T XP]^-1(XP)^Ty\n",
    "####        = [P^TX^TXP]^-1(XP)^Ty\n",
    "####        = [(P^T X^T X)P]^-1 (XP)^Ty\n",
    "####         = P^-1[P^TX^TX]^-1(XP)^Ty\n",
    "####         = P^-1[X^TX]^-1[P^T]^-1(XP)^Ty\n",
    "####         = P^-1[X^TX]^-1[P^T]^-1P^TX^Ty\n",
    "####         = P^-1[X^TX]^-1IX^Ty\n",
    "####         = P^-1[X^TX]^-1X^Ty\n",
    "         \n",
    "####         = P^-1[X^TX]^-1X^Ty\n",
    "\n",
    " \n",
    "#### wp        = P^-1w\n",
    "#### Pwp     = PP^-1w\n",
    "#### Pwp     = w\n",
    "#### w         = Pwp\n",
    "\n",
    "#### y = Xw = XPwp = X'wp\n",
    "         "
   ]
  },
  {
   "cell_type": "markdown",
   "metadata": {},
   "source": [
    "## Test Linear Regression With Data Obfuscation"
   ]
  },
  {
   "cell_type": "markdown",
   "metadata": {},
   "source": [
    "Now, let's prove Linear Regression can work computationally with the chosen obfuscation transformation.\n",
    "\n",
    "Build a procedure or a class that runs Linear Regression optionally with the obfuscation. You can use either a ready implementation of Linear Regression from sciki-learn or your own.\n",
    "\n",
    "Run Linear Regression for the original data and the obfuscated one, compare the predicted values and the RMSE, $R^2$ metric values. Is there any difference?"
   ]
  },
  {
   "cell_type": "markdown",
   "metadata": {},
   "source": [
    "**Procedure**\n",
    "\n",
    "- Create a square matrix $P$ of random numbers.\n",
    "- Check that it is invertible. If not, repeat the first point until we get an invertible matrix.\n",
    "- <! your comment here !>\n",
    "- Use $XP$ as the new feature matrix"
   ]
  },
  {
   "cell_type": "code",
   "execution_count": 44,
   "metadata": {
    "trusted": true
   },
   "outputs": [
    {
     "data": {
      "text/plain": [
       "array([[0.95919094, 0.67668973, 0.85165137, 0.8506338 ],\n",
       "       [0.2299767 , 0.38874565, 0.45777212, 0.56290557],\n",
       "       [0.19328428, 0.85277787, 0.50368057, 0.23847273],\n",
       "       [0.78875697, 0.7949152 , 0.01120673, 0.60594577]])"
      ]
     },
     "execution_count": 44,
     "metadata": {},
     "output_type": "execute_result"
    }
   ],
   "source": [
    "def create_invertible_matrix(size):\n",
    "     \n",
    "      '''\n",
    "      The create _invertible_matrix function will create invertible square matrix. \n",
    "      It will generate random matrices until it finds one with a non- zero determinant. \n",
    "      \n",
    "      parameters:\n",
    "        (size) where you can define same rows or columns.\n",
    "    '''\n",
    "    while True:\n",
    "        P = np.random.rand(size, size)\n",
    "        if np.linalg.det(P) !=0:\n",
    "            return P\n",
    "\n",
    "P = create_invertible_matrix(X.shape[1])\n",
    "P"
   ]
  },
  {
   "cell_type": "markdown",
   "metadata": {},
   "source": [
    "#### <! The create _invertible_matrix function will create invertible square matrix. It will generate random matrices until it finds one with a non- zero determinant.  It is square matrix as we can see  4 rows and 4 columns !>"
   ]
  },
  {
   "cell_type": "code",
   "execution_count": 45,
   "metadata": {
    "trusted": true
   },
   "outputs": [
    {
     "data": {
      "text/plain": [
       "array([[0.11393626, 0.79553741, 0.63069807, 0.66671655],\n",
       "       [0.03011132, 0.47628049, 0.36688419, 0.44932405],\n",
       "       [0.08924525, 0.52106909, 0.47039521, 0.65592166],\n",
       "       [0.15351449, 0.80543572, 0.02782813, 0.16803099]])"
      ]
     },
     "execution_count": 45,
     "metadata": {},
     "output_type": "execute_result"
    }
   ],
   "source": [
    "XP = create_invertible_matrix(x_trans.shape[1])\n",
    "XP"
   ]
  },
  {
   "cell_type": "code",
   "execution_count": 46,
   "metadata": {
    "trusted": true
   },
   "outputs": [
    {
     "name": "stdout",
     "output_type": "stream",
     "text": [
      "[-6.50583302e-01  2.47409374e-02 -7.31018901e-04  1.36927859e-07\n",
      " -6.32915410e-03]\n",
      "RMSE: 0.23\n",
      "R2: 0.44\n",
      "\n"
     ]
    }
   ],
   "source": [
    "x= df[[ 'age', 'gender','income','family_members']].to_numpy()\n",
    "y= df['insurance_benefits_received'].to_numpy()\n",
    "\n",
    "## Original data \n",
    "\n",
    "x_train, x_test, y_train, y_test = train_test_split(x, y, test_size=0.3, random_state=12345)\n",
    "\n",
    "lr = MyLinearRegression()\n",
    "\n",
    "lr.fit(x_train, y_train)\n",
    "print(lr.weights)\n",
    "\n",
    "y_test_pred = lr.predict(x_test)\n",
    "eval_regressor(y_test, y_test_pred)\n",
    "print()\n"
   ]
  },
  {
   "cell_type": "code",
   "execution_count": 47,
   "metadata": {
    "trusted": true
   },
   "outputs": [
    {
     "name": "stdout",
     "output_type": "stream",
     "text": [
      "[-0.65058329 -0.06060855 -0.00513315 -0.00367895  0.07525081]\n",
      "RMSE: 0.23\n",
      "R2: 0.44\n",
      "\n"
     ]
    }
   ],
   "source": [
    "## Obfuscated data \n",
    "\n",
    "x_trans = X @ P \n",
    "\n",
    "x_train, x_test, y_train, y_test = train_test_split(x_trans, y, test_size=0.3, random_state=12345)\n",
    "\n",
    "lr = MyLinearRegression()\n",
    "\n",
    "lr.fit(x_train, y_train)\n",
    "print(lr.weights)\n",
    "\n",
    "y_test_pred = lr.predict(x_test)\n",
    "eval_regressor(y_test, y_test_pred)\n",
    "print()\n"
   ]
  },
  {
   "cell_type": "markdown",
   "metadata": {},
   "source": [
    "#### When we ran the linear regression model to test on original data and obfuscated data we can see the results were same for both. The r2 is 0.44 that means the regression model fits  and rmse is 23 % which means there is 23 % error (difference) in prediction and actual values.\n",
    "\n",
    "#### As earlier we proved with the math formula that the original data and obfuscated data will have same results as we are just trying data masking so there can't be data leak or breach.\n",
    "\n",
    "#### If the statistical properties like variance, mean and correlation have been preserved during obfuscation process. Then the regression model will give similar regression coefficients and model fit."
   ]
  },
  {
   "cell_type": "markdown",
   "metadata": {},
   "source": [
    "# Conclusions"
   ]
  },
  {
   "cell_type": "markdown",
   "metadata": {},
   "source": [
    "#### The trained model's R2 is 44%, indicating that the model explains 44% of the variability in the data using linear regression. The RMSE (Root Mean Square Error) is 23%, which quantifies the difference between the predicted and actual values. The data transformation and recovery process was successful, maintaining the integrity of the data, as the results remained consistent before and after transformation.\n",
    "\n",
    "#### Manhattan distances tend to be 1.0 units more than Euclidean distances because Manhattan distance follows a grid-based path, while Euclidean distance is the shortest path between two points. Manhattan distance is less sensitive to outliers compared to Euclidean distance, making it preferable when dealing with data that may contain extreme values.\n",
    "\n",
    "#### Knn classifier proved scaled data is better than the original data as f1 score is higher. As f1 score indicates better balance between precision and recall.\n",
    "\n",
    "#### The predicted values using wP will be the same as those obtained with w. RMSE provides a measure of the difference between the predicted and actual values; a higher RMSE indicates greater prediction error. Ideally, a model with a lower RMSE is preferred as it signifies better accuracy.\n"
   ]
  }
 ],
 "metadata": {
  "ExecuteTimeLog": [
   {
    "duration": 155,
    "start_time": "2025-01-22T20:48:35.554Z"
   },
   {
    "duration": 2747,
    "start_time": "2025-01-22T20:48:48.292Z"
   },
   {
    "duration": 15,
    "start_time": "2025-01-22T20:48:55.545Z"
   },
   {
    "duration": 4,
    "start_time": "2025-01-22T20:48:59.573Z"
   },
   {
    "duration": 12,
    "start_time": "2025-01-22T20:49:06.413Z"
   },
   {
    "duration": 10,
    "start_time": "2025-01-22T20:49:12.919Z"
   },
   {
    "duration": 159,
    "start_time": "2025-01-22T20:49:19.835Z"
   },
   {
    "duration": 6,
    "start_time": "2025-01-22T20:50:00.079Z"
   },
   {
    "duration": 3,
    "start_time": "2025-01-22T20:50:06.260Z"
   },
   {
    "duration": 9,
    "start_time": "2025-01-22T20:50:19.903Z"
   },
   {
    "duration": 17,
    "start_time": "2025-01-22T20:52:06.211Z"
   },
   {
    "duration": 157,
    "start_time": "2025-01-23T16:21:23.247Z"
   },
   {
    "duration": 2694,
    "start_time": "2025-01-23T16:21:30.851Z"
   },
   {
    "duration": 14,
    "start_time": "2025-01-23T16:21:33.547Z"
   },
   {
    "duration": 3,
    "start_time": "2025-01-23T16:21:33.563Z"
   },
   {
    "duration": 10,
    "start_time": "2025-01-23T16:21:33.568Z"
   },
   {
    "duration": 9,
    "start_time": "2025-01-23T16:21:33.579Z"
   },
   {
    "duration": 18,
    "start_time": "2025-01-23T16:21:33.589Z"
   },
   {
    "duration": 8,
    "start_time": "2025-01-23T16:21:33.608Z"
   },
   {
    "duration": 17,
    "start_time": "2025-01-23T16:21:33.618Z"
   },
   {
    "duration": 2513,
    "start_time": "2025-01-23T16:21:33.637Z"
   },
   {
    "duration": 3,
    "start_time": "2025-01-23T16:21:36.153Z"
   },
   {
    "duration": 5,
    "start_time": "2025-01-23T16:21:36.157Z"
   },
   {
    "duration": 0,
    "start_time": "2025-01-23T16:21:36.164Z"
   },
   {
    "duration": 0,
    "start_time": "2025-01-23T16:21:36.164Z"
   },
   {
    "duration": 0,
    "start_time": "2025-01-23T16:21:36.166Z"
   },
   {
    "duration": 0,
    "start_time": "2025-01-23T16:21:36.167Z"
   },
   {
    "duration": 0,
    "start_time": "2025-01-23T16:21:36.168Z"
   },
   {
    "duration": 0,
    "start_time": "2025-01-23T16:21:36.170Z"
   },
   {
    "duration": 0,
    "start_time": "2025-01-23T16:21:36.172Z"
   },
   {
    "duration": 0,
    "start_time": "2025-01-23T16:21:36.264Z"
   },
   {
    "duration": 0,
    "start_time": "2025-01-23T16:21:36.265Z"
   },
   {
    "duration": 0,
    "start_time": "2025-01-23T16:21:36.266Z"
   },
   {
    "duration": 0,
    "start_time": "2025-01-23T16:21:36.267Z"
   },
   {
    "duration": 0,
    "start_time": "2025-01-23T16:21:36.268Z"
   },
   {
    "duration": 0,
    "start_time": "2025-01-23T16:21:36.269Z"
   },
   {
    "duration": 3,
    "start_time": "2025-01-23T16:26:57.030Z"
   },
   {
    "duration": 8,
    "start_time": "2025-01-23T16:27:02.345Z"
   },
   {
    "duration": 11,
    "start_time": "2025-01-23T16:27:04.141Z"
   },
   {
    "duration": 4,
    "start_time": "2025-01-23T16:27:09.236Z"
   },
   {
    "duration": 9,
    "start_time": "2025-01-23T20:32:37.082Z"
   },
   {
    "duration": 4,
    "start_time": "2025-01-23T20:32:46.832Z"
   },
   {
    "duration": 2765,
    "start_time": "2025-01-23T20:33:08.824Z"
   },
   {
    "duration": 14,
    "start_time": "2025-01-23T20:33:11.591Z"
   },
   {
    "duration": 3,
    "start_time": "2025-01-23T20:33:11.606Z"
   },
   {
    "duration": 9,
    "start_time": "2025-01-23T20:33:11.612Z"
   },
   {
    "duration": 8,
    "start_time": "2025-01-23T20:33:11.623Z"
   },
   {
    "duration": 3,
    "start_time": "2025-01-23T20:33:11.633Z"
   },
   {
    "duration": 7,
    "start_time": "2025-01-23T20:33:11.638Z"
   },
   {
    "duration": 45,
    "start_time": "2025-01-23T20:33:11.647Z"
   },
   {
    "duration": 2699,
    "start_time": "2025-01-23T20:33:11.693Z"
   },
   {
    "duration": 2,
    "start_time": "2025-01-23T20:33:14.395Z"
   },
   {
    "duration": 4,
    "start_time": "2025-01-23T20:33:14.399Z"
   },
   {
    "duration": 0,
    "start_time": "2025-01-23T20:33:14.405Z"
   },
   {
    "duration": 0,
    "start_time": "2025-01-23T20:33:14.406Z"
   },
   {
    "duration": 0,
    "start_time": "2025-01-23T20:33:14.408Z"
   },
   {
    "duration": 0,
    "start_time": "2025-01-23T20:33:14.409Z"
   },
   {
    "duration": 0,
    "start_time": "2025-01-23T20:33:14.411Z"
   },
   {
    "duration": 0,
    "start_time": "2025-01-23T20:33:14.412Z"
   },
   {
    "duration": 0,
    "start_time": "2025-01-23T20:33:14.414Z"
   },
   {
    "duration": 0,
    "start_time": "2025-01-23T20:33:14.522Z"
   },
   {
    "duration": 0,
    "start_time": "2025-01-23T20:33:14.524Z"
   },
   {
    "duration": 0,
    "start_time": "2025-01-23T20:33:14.525Z"
   },
   {
    "duration": 0,
    "start_time": "2025-01-23T20:33:14.526Z"
   },
   {
    "duration": 0,
    "start_time": "2025-01-23T20:33:14.527Z"
   },
   {
    "duration": 0,
    "start_time": "2025-01-23T20:33:14.528Z"
   },
   {
    "duration": 4,
    "start_time": "2025-01-23T20:50:21.831Z"
   },
   {
    "duration": 12,
    "start_time": "2025-01-23T20:51:16.036Z"
   },
   {
    "duration": 9,
    "start_time": "2025-01-23T20:51:17.692Z"
   },
   {
    "duration": 161,
    "start_time": "2025-01-24T15:37:09.607Z"
   },
   {
    "duration": 2779,
    "start_time": "2025-01-24T15:37:16.232Z"
   },
   {
    "duration": 14,
    "start_time": "2025-01-24T15:37:19.013Z"
   },
   {
    "duration": 2,
    "start_time": "2025-01-24T15:37:19.029Z"
   },
   {
    "duration": 13,
    "start_time": "2025-01-24T15:37:19.034Z"
   },
   {
    "duration": 8,
    "start_time": "2025-01-24T15:37:19.049Z"
   },
   {
    "duration": 3,
    "start_time": "2025-01-24T15:37:19.059Z"
   },
   {
    "duration": 7,
    "start_time": "2025-01-24T15:37:19.064Z"
   },
   {
    "duration": 16,
    "start_time": "2025-01-24T15:37:19.073Z"
   },
   {
    "duration": 2680,
    "start_time": "2025-01-24T15:37:19.091Z"
   },
   {
    "duration": 3,
    "start_time": "2025-01-24T15:37:21.774Z"
   },
   {
    "duration": 6,
    "start_time": "2025-01-24T15:37:21.779Z"
   },
   {
    "duration": 0,
    "start_time": "2025-01-24T15:37:21.786Z"
   },
   {
    "duration": 0,
    "start_time": "2025-01-24T15:37:21.788Z"
   },
   {
    "duration": 0,
    "start_time": "2025-01-24T15:37:21.790Z"
   },
   {
    "duration": 0,
    "start_time": "2025-01-24T15:37:21.791Z"
   },
   {
    "duration": 0,
    "start_time": "2025-01-24T15:37:21.792Z"
   },
   {
    "duration": 0,
    "start_time": "2025-01-24T15:37:21.793Z"
   },
   {
    "duration": 0,
    "start_time": "2025-01-24T15:37:21.794Z"
   },
   {
    "duration": 0,
    "start_time": "2025-01-24T15:37:21.795Z"
   },
   {
    "duration": 0,
    "start_time": "2025-01-24T15:37:21.796Z"
   },
   {
    "duration": 0,
    "start_time": "2025-01-24T15:37:21.797Z"
   },
   {
    "duration": 0,
    "start_time": "2025-01-24T15:37:21.798Z"
   },
   {
    "duration": 0,
    "start_time": "2025-01-24T15:37:21.799Z"
   },
   {
    "duration": 0,
    "start_time": "2025-01-24T15:37:21.801Z"
   },
   {
    "duration": 4,
    "start_time": "2025-01-24T15:37:56.697Z"
   },
   {
    "duration": 9,
    "start_time": "2025-01-24T15:37:58.061Z"
   },
   {
    "duration": 10,
    "start_time": "2025-01-24T15:37:59.894Z"
   },
   {
    "duration": 10,
    "start_time": "2025-01-24T16:53:01.028Z"
   },
   {
    "duration": 3383,
    "start_time": "2025-01-24T16:53:11.263Z"
   },
   {
    "duration": 14,
    "start_time": "2025-01-24T16:53:14.650Z"
   },
   {
    "duration": 4,
    "start_time": "2025-01-24T16:53:14.665Z"
   },
   {
    "duration": 11,
    "start_time": "2025-01-24T16:53:14.672Z"
   },
   {
    "duration": 9,
    "start_time": "2025-01-24T16:53:14.686Z"
   },
   {
    "duration": 3,
    "start_time": "2025-01-24T16:53:14.697Z"
   },
   {
    "duration": 26,
    "start_time": "2025-01-24T16:53:14.702Z"
   },
   {
    "duration": 32,
    "start_time": "2025-01-24T16:53:14.731Z"
   },
   {
    "duration": 3186,
    "start_time": "2025-01-24T16:53:14.765Z"
   },
   {
    "duration": 3,
    "start_time": "2025-01-24T16:53:17.959Z"
   },
   {
    "duration": 7,
    "start_time": "2025-01-24T16:53:17.965Z"
   },
   {
    "duration": 0,
    "start_time": "2025-01-24T16:53:17.975Z"
   },
   {
    "duration": 0,
    "start_time": "2025-01-24T16:53:17.976Z"
   },
   {
    "duration": 0,
    "start_time": "2025-01-24T16:53:17.977Z"
   },
   {
    "duration": 0,
    "start_time": "2025-01-24T16:53:17.978Z"
   },
   {
    "duration": 0,
    "start_time": "2025-01-24T16:53:17.979Z"
   },
   {
    "duration": 0,
    "start_time": "2025-01-24T16:53:18.096Z"
   },
   {
    "duration": 0,
    "start_time": "2025-01-24T16:53:18.097Z"
   },
   {
    "duration": 0,
    "start_time": "2025-01-24T16:53:18.099Z"
   },
   {
    "duration": 0,
    "start_time": "2025-01-24T16:53:18.100Z"
   },
   {
    "duration": 0,
    "start_time": "2025-01-24T16:53:18.101Z"
   },
   {
    "duration": 0,
    "start_time": "2025-01-24T16:53:18.102Z"
   },
   {
    "duration": 0,
    "start_time": "2025-01-24T16:53:18.103Z"
   },
   {
    "duration": 0,
    "start_time": "2025-01-24T16:53:18.104Z"
   },
   {
    "duration": 0,
    "start_time": "2025-01-24T16:53:18.106Z"
   },
   {
    "duration": 7,
    "start_time": "2025-01-24T17:05:08.369Z"
   },
   {
    "duration": 7,
    "start_time": "2025-01-24T17:05:13.738Z"
   },
   {
    "duration": 4,
    "start_time": "2025-01-24T17:05:19.176Z"
   },
   {
    "duration": 7,
    "start_time": "2025-01-24T17:05:26.536Z"
   },
   {
    "duration": 4,
    "start_time": "2025-01-24T17:05:33.559Z"
   },
   {
    "duration": 3,
    "start_time": "2025-01-24T17:05:38.512Z"
   },
   {
    "duration": 7,
    "start_time": "2025-01-24T17:56:52.412Z"
   },
   {
    "duration": 154,
    "start_time": "2025-01-24T17:57:04.869Z"
   },
   {
    "duration": 2685,
    "start_time": "2025-01-24T17:57:13.114Z"
   },
   {
    "duration": 16,
    "start_time": "2025-01-24T17:57:15.801Z"
   },
   {
    "duration": 3,
    "start_time": "2025-01-24T17:57:15.818Z"
   },
   {
    "duration": 10,
    "start_time": "2025-01-24T17:57:15.823Z"
   },
   {
    "duration": 9,
    "start_time": "2025-01-24T17:57:15.836Z"
   },
   {
    "duration": 3,
    "start_time": "2025-01-24T17:57:15.848Z"
   },
   {
    "duration": 8,
    "start_time": "2025-01-24T17:57:15.852Z"
   },
   {
    "duration": 39,
    "start_time": "2025-01-24T17:57:15.862Z"
   },
   {
    "duration": 2609,
    "start_time": "2025-01-24T17:57:15.902Z"
   },
   {
    "duration": 3,
    "start_time": "2025-01-24T17:57:18.513Z"
   },
   {
    "duration": 5,
    "start_time": "2025-01-24T17:57:18.518Z"
   },
   {
    "duration": 924,
    "start_time": "2025-01-24T17:57:18.524Z"
   },
   {
    "duration": 0,
    "start_time": "2025-01-24T17:57:19.450Z"
   },
   {
    "duration": 0,
    "start_time": "2025-01-24T17:57:19.451Z"
   },
   {
    "duration": 0,
    "start_time": "2025-01-24T17:57:19.453Z"
   },
   {
    "duration": 0,
    "start_time": "2025-01-24T17:57:19.454Z"
   },
   {
    "duration": 0,
    "start_time": "2025-01-24T17:57:19.456Z"
   },
   {
    "duration": 0,
    "start_time": "2025-01-24T17:57:19.457Z"
   },
   {
    "duration": 1,
    "start_time": "2025-01-24T17:57:19.457Z"
   },
   {
    "duration": 0,
    "start_time": "2025-01-24T17:57:19.458Z"
   },
   {
    "duration": 0,
    "start_time": "2025-01-24T17:57:19.460Z"
   },
   {
    "duration": 0,
    "start_time": "2025-01-24T17:57:19.460Z"
   },
   {
    "duration": 0,
    "start_time": "2025-01-24T17:57:19.462Z"
   },
   {
    "duration": 0,
    "start_time": "2025-01-24T17:57:19.486Z"
   },
   {
    "duration": 0,
    "start_time": "2025-01-24T17:57:19.488Z"
   },
   {
    "duration": 0,
    "start_time": "2025-01-24T17:57:19.489Z"
   },
   {
    "duration": 0,
    "start_time": "2025-01-24T17:57:19.490Z"
   },
   {
    "duration": 3,
    "start_time": "2025-01-24T17:58:50.509Z"
   },
   {
    "duration": 102,
    "start_time": "2025-01-24T17:58:52.301Z"
   },
   {
    "duration": 14,
    "start_time": "2025-01-24T17:59:25.192Z"
   },
   {
    "duration": 134,
    "start_time": "2025-01-24T17:59:38.255Z"
   },
   {
    "duration": 4,
    "start_time": "2025-01-24T18:02:31.460Z"
   },
   {
    "duration": 11,
    "start_time": "2025-01-24T18:02:46.612Z"
   },
   {
    "duration": 5,
    "start_time": "2025-01-24T18:03:00.387Z"
   },
   {
    "duration": 19,
    "start_time": "2025-01-24T18:03:03.099Z"
   },
   {
    "duration": 44,
    "start_time": "2025-01-24T18:03:48.013Z"
   },
   {
    "duration": 55,
    "start_time": "2025-01-24T18:04:17.691Z"
   },
   {
    "duration": 5,
    "start_time": "2025-01-24T18:13:31.326Z"
   },
   {
    "duration": 3,
    "start_time": "2025-01-24T18:13:52.414Z"
   },
   {
    "duration": 4,
    "start_time": "2025-01-24T18:14:10.962Z"
   },
   {
    "duration": 5,
    "start_time": "2025-01-24T18:14:25.024Z"
   },
   {
    "duration": 4,
    "start_time": "2025-01-24T18:14:33.544Z"
   },
   {
    "duration": 4,
    "start_time": "2025-01-24T18:14:42.596Z"
   },
   {
    "duration": 4,
    "start_time": "2025-01-24T18:14:50.073Z"
   },
   {
    "duration": 56,
    "start_time": "2025-01-24T18:14:56.805Z"
   },
   {
    "duration": 56,
    "start_time": "2025-01-24T18:15:11.071Z"
   },
   {
    "duration": 1024,
    "start_time": "2025-01-24T18:15:33.279Z"
   },
   {
    "duration": 8,
    "start_time": "2025-01-24T18:15:34.305Z"
   },
   {
    "duration": 2,
    "start_time": "2025-01-24T18:15:34.315Z"
   },
   {
    "duration": 9,
    "start_time": "2025-01-24T18:15:34.321Z"
   },
   {
    "duration": 9,
    "start_time": "2025-01-24T18:15:34.332Z"
   },
   {
    "duration": 2,
    "start_time": "2025-01-24T18:15:34.343Z"
   },
   {
    "duration": 8,
    "start_time": "2025-01-24T18:15:34.347Z"
   },
   {
    "duration": 16,
    "start_time": "2025-01-24T18:15:34.386Z"
   },
   {
    "duration": 2516,
    "start_time": "2025-01-24T18:15:34.403Z"
   },
   {
    "duration": 2,
    "start_time": "2025-01-24T18:15:36.923Z"
   },
   {
    "duration": 4,
    "start_time": "2025-01-24T18:15:36.927Z"
   },
   {
    "duration": 3,
    "start_time": "2025-01-24T18:15:36.933Z"
   },
   {
    "duration": 9,
    "start_time": "2025-01-24T18:15:36.938Z"
   },
   {
    "duration": 5,
    "start_time": "2025-01-24T18:15:36.948Z"
   },
   {
    "duration": 61,
    "start_time": "2025-01-24T18:15:36.955Z"
   },
   {
    "duration": 10,
    "start_time": "2025-01-24T18:15:37.018Z"
   },
   {
    "duration": 3,
    "start_time": "2025-01-24T18:15:37.030Z"
   },
   {
    "duration": 0,
    "start_time": "2025-01-24T18:15:37.035Z"
   },
   {
    "duration": 0,
    "start_time": "2025-01-24T18:15:37.037Z"
   },
   {
    "duration": 0,
    "start_time": "2025-01-24T18:15:37.038Z"
   },
   {
    "duration": 0,
    "start_time": "2025-01-24T18:15:37.040Z"
   },
   {
    "duration": 0,
    "start_time": "2025-01-24T18:15:37.041Z"
   },
   {
    "duration": 0,
    "start_time": "2025-01-24T18:15:37.043Z"
   },
   {
    "duration": 0,
    "start_time": "2025-01-24T18:15:37.044Z"
   },
   {
    "duration": 0,
    "start_time": "2025-01-24T18:15:37.046Z"
   },
   {
    "duration": 0,
    "start_time": "2025-01-24T18:15:37.047Z"
   },
   {
    "duration": 0,
    "start_time": "2025-01-24T18:15:37.048Z"
   },
   {
    "duration": 48,
    "start_time": "2025-01-24T18:16:59.485Z"
   },
   {
    "duration": 52,
    "start_time": "2025-01-24T18:17:13.158Z"
   },
   {
    "duration": 8,
    "start_time": "2025-01-24T18:18:38.448Z"
   },
   {
    "duration": 10,
    "start_time": "2025-01-24T20:18:13.677Z"
   },
   {
    "duration": 157,
    "start_time": "2025-01-24T20:21:31.732Z"
   },
   {
    "duration": 2721,
    "start_time": "2025-01-24T20:21:43.395Z"
   },
   {
    "duration": 2,
    "start_time": "2025-01-24T20:21:52.709Z"
   },
   {
    "duration": 86,
    "start_time": "2025-01-24T20:21:54.349Z"
   },
   {
    "duration": 3,
    "start_time": "2025-01-24T20:22:52.331Z"
   },
   {
    "duration": 3,
    "start_time": "2025-01-24T20:23:08.932Z"
   },
   {
    "duration": 53,
    "start_time": "2025-01-24T20:23:10.211Z"
   },
   {
    "duration": 13,
    "start_time": "2025-01-24T20:23:28.309Z"
   },
   {
    "duration": 13,
    "start_time": "2025-01-24T20:23:35.016Z"
   },
   {
    "duration": 13,
    "start_time": "2025-01-24T20:23:53.335Z"
   },
   {
    "duration": 1047,
    "start_time": "2025-01-24T20:24:02.682Z"
   },
   {
    "duration": 11,
    "start_time": "2025-01-24T20:24:03.732Z"
   },
   {
    "duration": 4,
    "start_time": "2025-01-24T20:24:03.744Z"
   },
   {
    "duration": 10,
    "start_time": "2025-01-24T20:24:03.750Z"
   },
   {
    "duration": 9,
    "start_time": "2025-01-24T20:24:03.762Z"
   },
   {
    "duration": 3,
    "start_time": "2025-01-24T20:24:03.773Z"
   },
   {
    "duration": 8,
    "start_time": "2025-01-24T20:24:03.777Z"
   },
   {
    "duration": 45,
    "start_time": "2025-01-24T20:24:03.787Z"
   },
   {
    "duration": 2606,
    "start_time": "2025-01-24T20:24:03.834Z"
   },
   {
    "duration": 3,
    "start_time": "2025-01-24T20:24:06.443Z"
   },
   {
    "duration": 9,
    "start_time": "2025-01-24T20:24:06.447Z"
   },
   {
    "duration": 4,
    "start_time": "2025-01-24T20:24:06.458Z"
   },
   {
    "duration": 3,
    "start_time": "2025-01-24T20:24:06.464Z"
   },
   {
    "duration": 9,
    "start_time": "2025-01-24T20:24:06.469Z"
   },
   {
    "duration": 8,
    "start_time": "2025-01-24T20:24:06.479Z"
   },
   {
    "duration": 4,
    "start_time": "2025-01-24T20:24:06.489Z"
   },
   {
    "duration": 83,
    "start_time": "2025-01-24T20:24:06.495Z"
   },
   {
    "duration": 4,
    "start_time": "2025-01-24T20:24:06.581Z"
   },
   {
    "duration": 3,
    "start_time": "2025-01-24T20:24:06.588Z"
   },
   {
    "duration": 3,
    "start_time": "2025-01-24T20:24:06.594Z"
   },
   {
    "duration": 0,
    "start_time": "2025-01-24T20:24:06.599Z"
   },
   {
    "duration": 0,
    "start_time": "2025-01-24T20:24:06.600Z"
   },
   {
    "duration": 0,
    "start_time": "2025-01-24T20:24:06.601Z"
   },
   {
    "duration": 0,
    "start_time": "2025-01-24T20:24:06.602Z"
   },
   {
    "duration": 0,
    "start_time": "2025-01-24T20:24:06.603Z"
   },
   {
    "duration": 0,
    "start_time": "2025-01-24T20:24:06.604Z"
   },
   {
    "duration": 0,
    "start_time": "2025-01-24T20:24:06.604Z"
   },
   {
    "duration": 0,
    "start_time": "2025-01-24T20:24:06.605Z"
   },
   {
    "duration": 0,
    "start_time": "2025-01-24T20:24:06.606Z"
   },
   {
    "duration": 0,
    "start_time": "2025-01-24T20:24:06.606Z"
   },
   {
    "duration": 235,
    "start_time": "2025-01-24T20:39:47.553Z"
   },
   {
    "duration": 16,
    "start_time": "2025-01-24T20:40:11.490Z"
   },
   {
    "duration": 4,
    "start_time": "2025-01-24T20:40:35.943Z"
   },
   {
    "duration": 5,
    "start_time": "2025-01-24T20:41:02.969Z"
   },
   {
    "duration": 4,
    "start_time": "2025-01-24T20:41:29.105Z"
   },
   {
    "duration": 4,
    "start_time": "2025-01-24T20:41:44.737Z"
   },
   {
    "duration": 4,
    "start_time": "2025-01-24T20:41:54.416Z"
   },
   {
    "duration": 4,
    "start_time": "2025-01-24T20:42:20.472Z"
   },
   {
    "duration": 15,
    "start_time": "2025-01-24T20:47:05.991Z"
   },
   {
    "duration": 4,
    "start_time": "2025-01-24T20:47:34.827Z"
   },
   {
    "duration": 56,
    "start_time": "2025-01-24T20:47:37.348Z"
   },
   {
    "duration": 6,
    "start_time": "2025-01-24T20:51:20.673Z"
   },
   {
    "duration": 4,
    "start_time": "2025-01-24T20:51:31.488Z"
   },
   {
    "duration": 8,
    "start_time": "2025-01-24T20:51:34.157Z"
   },
   {
    "duration": 8,
    "start_time": "2025-01-24T20:51:35.085Z"
   },
   {
    "duration": 114,
    "start_time": "2025-01-24T20:52:27.042Z"
   },
   {
    "duration": 4,
    "start_time": "2025-01-24T20:53:05.924Z"
   },
   {
    "duration": 8,
    "start_time": "2025-01-24T20:53:07.899Z"
   },
   {
    "duration": 9,
    "start_time": "2025-01-24T20:53:09.643Z"
   },
   {
    "duration": 13,
    "start_time": "2025-01-24T20:53:11.482Z"
   },
   {
    "duration": 12,
    "start_time": "2025-01-24T20:53:13.095Z"
   },
   {
    "duration": 20,
    "start_time": "2025-01-24T20:54:02.017Z"
   },
   {
    "duration": 21,
    "start_time": "2025-01-24T20:54:19.633Z"
   },
   {
    "duration": 6,
    "start_time": "2025-01-24T21:01:52.687Z"
   },
   {
    "duration": 4,
    "start_time": "2025-01-24T21:03:43.721Z"
   },
   {
    "duration": 3,
    "start_time": "2025-01-24T21:04:14.668Z"
   },
   {
    "duration": 490,
    "start_time": "2025-01-24T21:05:17.917Z"
   },
   {
    "duration": 2,
    "start_time": "2025-01-24T21:05:57.794Z"
   },
   {
    "duration": 6,
    "start_time": "2025-01-24T21:06:26.679Z"
   },
   {
    "duration": 42,
    "start_time": "2025-01-24T21:06:28.368Z"
   },
   {
    "duration": 44,
    "start_time": "2025-01-24T21:06:51.295Z"
   },
   {
    "duration": 4,
    "start_time": "2025-01-24T21:07:07.729Z"
   },
   {
    "duration": 5,
    "start_time": "2025-01-24T21:07:38.719Z"
   },
   {
    "duration": 16,
    "start_time": "2025-01-24T21:10:27.220Z"
   },
   {
    "duration": 47,
    "start_time": "2025-01-24T21:10:33.474Z"
   },
   {
    "duration": 6,
    "start_time": "2025-01-24T21:10:46.731Z"
   },
   {
    "duration": 5,
    "start_time": "2025-01-24T21:10:59.120Z"
   },
   {
    "duration": 6,
    "start_time": "2025-01-25T21:32:42.338Z"
   },
   {
    "duration": 2685,
    "start_time": "2025-01-25T21:32:53.683Z"
   },
   {
    "duration": 13,
    "start_time": "2025-01-25T21:32:56.370Z"
   },
   {
    "duration": 3,
    "start_time": "2025-01-25T21:32:56.385Z"
   },
   {
    "duration": 11,
    "start_time": "2025-01-25T21:32:56.390Z"
   },
   {
    "duration": 9,
    "start_time": "2025-01-25T21:32:56.402Z"
   },
   {
    "duration": 14,
    "start_time": "2025-01-25T21:32:56.412Z"
   },
   {
    "duration": 7,
    "start_time": "2025-01-25T21:32:56.428Z"
   },
   {
    "duration": 16,
    "start_time": "2025-01-25T21:32:56.437Z"
   },
   {
    "duration": 2614,
    "start_time": "2025-01-25T21:32:56.455Z"
   },
   {
    "duration": 2,
    "start_time": "2025-01-25T21:32:59.072Z"
   },
   {
    "duration": 8,
    "start_time": "2025-01-25T21:32:59.076Z"
   },
   {
    "duration": 79,
    "start_time": "2025-01-25T21:32:59.086Z"
   },
   {
    "duration": 4,
    "start_time": "2025-01-25T21:32:59.167Z"
   },
   {
    "duration": 3,
    "start_time": "2025-01-25T21:32:59.173Z"
   },
   {
    "duration": 5,
    "start_time": "2025-01-25T21:32:59.178Z"
   },
   {
    "duration": 9,
    "start_time": "2025-01-25T21:32:59.185Z"
   },
   {
    "duration": 30,
    "start_time": "2025-01-25T21:32:59.195Z"
   },
   {
    "duration": 11,
    "start_time": "2025-01-25T21:32:59.226Z"
   },
   {
    "duration": 11,
    "start_time": "2025-01-25T21:32:59.239Z"
   },
   {
    "duration": 19,
    "start_time": "2025-01-25T21:32:59.251Z"
   },
   {
    "duration": 20,
    "start_time": "2025-01-25T21:32:59.272Z"
   },
   {
    "duration": 2,
    "start_time": "2025-01-25T21:32:59.293Z"
   },
   {
    "duration": 33,
    "start_time": "2025-01-25T21:32:59.296Z"
   },
   {
    "duration": 3,
    "start_time": "2025-01-25T21:32:59.331Z"
   },
   {
    "duration": 6,
    "start_time": "2025-01-25T21:32:59.336Z"
   },
   {
    "duration": 5,
    "start_time": "2025-01-25T21:32:59.343Z"
   },
   {
    "duration": 3,
    "start_time": "2025-01-25T21:32:59.350Z"
   },
   {
    "duration": 3,
    "start_time": "2025-01-25T21:32:59.357Z"
   },
   {
    "duration": 5,
    "start_time": "2025-01-25T21:32:59.361Z"
   },
   {
    "duration": 0,
    "start_time": "2025-01-25T21:32:59.368Z"
   },
   {
    "duration": 0,
    "start_time": "2025-01-25T21:32:59.370Z"
   },
   {
    "duration": 0,
    "start_time": "2025-01-25T21:32:59.371Z"
   },
   {
    "duration": 0,
    "start_time": "2025-01-25T21:32:59.372Z"
   },
   {
    "duration": 0,
    "start_time": "2025-01-25T21:32:59.374Z"
   },
   {
    "duration": 0,
    "start_time": "2025-01-25T21:32:59.376Z"
   },
   {
    "duration": 3,
    "start_time": "2025-01-25T21:35:42.733Z"
   },
   {
    "duration": 401,
    "start_time": "2025-01-25T21:51:15.339Z"
   },
   {
    "duration": 4,
    "start_time": "2025-01-25T21:51:37.640Z"
   },
   {
    "duration": 5,
    "start_time": "2025-01-25T22:18:03.329Z"
   },
   {
    "duration": 6,
    "start_time": "2025-01-25T22:18:14.009Z"
   },
   {
    "duration": 2695,
    "start_time": "2025-01-25T22:18:32.065Z"
   },
   {
    "duration": 15,
    "start_time": "2025-01-25T22:18:34.763Z"
   },
   {
    "duration": 4,
    "start_time": "2025-01-25T22:18:34.782Z"
   },
   {
    "duration": 13,
    "start_time": "2025-01-25T22:18:34.789Z"
   },
   {
    "duration": 10,
    "start_time": "2025-01-25T22:18:34.804Z"
   },
   {
    "duration": 4,
    "start_time": "2025-01-25T22:18:34.824Z"
   },
   {
    "duration": 9,
    "start_time": "2025-01-25T22:18:34.830Z"
   },
   {
    "duration": 16,
    "start_time": "2025-01-25T22:18:34.841Z"
   },
   {
    "duration": 2554,
    "start_time": "2025-01-25T22:18:34.858Z"
   },
   {
    "duration": 2,
    "start_time": "2025-01-25T22:18:37.415Z"
   },
   {
    "duration": 12,
    "start_time": "2025-01-25T22:18:37.419Z"
   },
   {
    "duration": 4,
    "start_time": "2025-01-25T22:18:37.433Z"
   },
   {
    "duration": 4,
    "start_time": "2025-01-25T22:18:37.442Z"
   },
   {
    "duration": 4,
    "start_time": "2025-01-25T22:18:37.447Z"
   },
   {
    "duration": 5,
    "start_time": "2025-01-25T22:18:37.452Z"
   },
   {
    "duration": 8,
    "start_time": "2025-01-25T22:18:37.459Z"
   },
   {
    "duration": 8,
    "start_time": "2025-01-25T22:18:37.468Z"
   },
   {
    "duration": 50,
    "start_time": "2025-01-25T22:18:37.478Z"
   },
   {
    "duration": 18,
    "start_time": "2025-01-25T22:18:37.529Z"
   },
   {
    "duration": 19,
    "start_time": "2025-01-25T22:18:37.549Z"
   },
   {
    "duration": 19,
    "start_time": "2025-01-25T22:18:37.570Z"
   },
   {
    "duration": 2,
    "start_time": "2025-01-25T22:18:37.590Z"
   },
   {
    "duration": 30,
    "start_time": "2025-01-25T22:18:37.595Z"
   },
   {
    "duration": 3,
    "start_time": "2025-01-25T22:18:37.627Z"
   },
   {
    "duration": 6,
    "start_time": "2025-01-25T22:18:37.631Z"
   },
   {
    "duration": 4,
    "start_time": "2025-01-25T22:18:37.639Z"
   },
   {
    "duration": 4,
    "start_time": "2025-01-25T22:18:37.646Z"
   },
   {
    "duration": 3,
    "start_time": "2025-01-25T22:18:37.651Z"
   },
   {
    "duration": 354,
    "start_time": "2025-01-25T22:18:37.656Z"
   },
   {
    "duration": 0,
    "start_time": "2025-01-25T22:18:38.012Z"
   },
   {
    "duration": 0,
    "start_time": "2025-01-25T22:18:38.014Z"
   },
   {
    "duration": 0,
    "start_time": "2025-01-25T22:18:38.015Z"
   },
   {
    "duration": 0,
    "start_time": "2025-01-25T22:18:38.024Z"
   },
   {
    "duration": 0,
    "start_time": "2025-01-25T22:18:38.027Z"
   },
   {
    "duration": 0,
    "start_time": "2025-01-25T22:18:38.028Z"
   },
   {
    "duration": 16,
    "start_time": "2025-01-25T22:33:55.339Z"
   },
   {
    "duration": 17,
    "start_time": "2025-01-25T22:34:13.368Z"
   },
   {
    "duration": 19,
    "start_time": "2025-01-25T22:34:59.571Z"
   },
   {
    "duration": 17,
    "start_time": "2025-01-25T22:35:15.142Z"
   },
   {
    "duration": 17,
    "start_time": "2025-01-25T22:37:07.204Z"
   },
   {
    "duration": 172,
    "start_time": "2025-01-25T22:42:06.670Z"
   },
   {
    "duration": 29,
    "start_time": "2025-01-25T22:43:10.369Z"
   },
   {
    "duration": 16,
    "start_time": "2025-01-25T22:43:38.901Z"
   },
   {
    "duration": 92,
    "start_time": "2025-01-25T22:44:01.369Z"
   },
   {
    "duration": 157,
    "start_time": "2025-01-26T13:41:59.461Z"
   },
   {
    "duration": 2648,
    "start_time": "2025-01-26T13:42:06.715Z"
   },
   {
    "duration": 13,
    "start_time": "2025-01-26T13:42:09.365Z"
   },
   {
    "duration": 3,
    "start_time": "2025-01-26T13:42:09.380Z"
   },
   {
    "duration": 10,
    "start_time": "2025-01-26T13:42:09.386Z"
   },
   {
    "duration": 21,
    "start_time": "2025-01-26T13:42:09.397Z"
   },
   {
    "duration": 4,
    "start_time": "2025-01-26T13:42:09.419Z"
   },
   {
    "duration": 8,
    "start_time": "2025-01-26T13:42:09.424Z"
   },
   {
    "duration": 15,
    "start_time": "2025-01-26T13:42:09.434Z"
   },
   {
    "duration": 2505,
    "start_time": "2025-01-26T13:42:09.451Z"
   },
   {
    "duration": 3,
    "start_time": "2025-01-26T13:42:11.960Z"
   },
   {
    "duration": 8,
    "start_time": "2025-01-26T13:42:11.964Z"
   },
   {
    "duration": 79,
    "start_time": "2025-01-26T13:42:11.974Z"
   },
   {
    "duration": 4,
    "start_time": "2025-01-26T13:42:12.055Z"
   },
   {
    "duration": 3,
    "start_time": "2025-01-26T13:42:12.061Z"
   },
   {
    "duration": 5,
    "start_time": "2025-01-26T13:42:12.066Z"
   },
   {
    "duration": 8,
    "start_time": "2025-01-26T13:42:12.073Z"
   },
   {
    "duration": 32,
    "start_time": "2025-01-26T13:42:12.083Z"
   },
   {
    "duration": 11,
    "start_time": "2025-01-26T13:42:12.117Z"
   },
   {
    "duration": 11,
    "start_time": "2025-01-26T13:42:12.130Z"
   },
   {
    "duration": 18,
    "start_time": "2025-01-26T13:42:12.143Z"
   },
   {
    "duration": 19,
    "start_time": "2025-01-26T13:42:12.163Z"
   },
   {
    "duration": 3,
    "start_time": "2025-01-26T13:42:12.211Z"
   },
   {
    "duration": 6,
    "start_time": "2025-01-26T13:42:12.215Z"
   },
   {
    "duration": 3,
    "start_time": "2025-01-26T13:42:12.222Z"
   },
   {
    "duration": 5,
    "start_time": "2025-01-26T13:42:12.227Z"
   },
   {
    "duration": 5,
    "start_time": "2025-01-26T13:42:12.233Z"
   },
   {
    "duration": 3,
    "start_time": "2025-01-26T13:42:12.239Z"
   },
   {
    "duration": 3,
    "start_time": "2025-01-26T13:42:12.246Z"
   },
   {
    "duration": 417,
    "start_time": "2025-01-26T13:42:12.250Z"
   },
   {
    "duration": 0,
    "start_time": "2025-01-26T13:42:12.669Z"
   },
   {
    "duration": 0,
    "start_time": "2025-01-26T13:42:12.671Z"
   },
   {
    "duration": 0,
    "start_time": "2025-01-26T13:42:12.673Z"
   },
   {
    "duration": 0,
    "start_time": "2025-01-26T13:42:12.674Z"
   },
   {
    "duration": 0,
    "start_time": "2025-01-26T13:42:12.676Z"
   },
   {
    "duration": 0,
    "start_time": "2025-01-26T13:42:12.677Z"
   },
   {
    "duration": 67,
    "start_time": "2025-01-26T13:45:20.281Z"
   },
   {
    "duration": 16,
    "start_time": "2025-01-26T13:45:48.901Z"
   },
   {
    "duration": 19,
    "start_time": "2025-01-26T13:46:07.230Z"
   },
   {
    "duration": 16,
    "start_time": "2025-01-26T13:46:18.651Z"
   },
   {
    "duration": 64,
    "start_time": "2025-01-26T13:47:25.802Z"
   },
   {
    "duration": 4,
    "start_time": "2025-01-26T13:49:29.920Z"
   },
   {
    "duration": 3,
    "start_time": "2025-01-26T14:16:06.457Z"
   },
   {
    "duration": 162,
    "start_time": "2025-01-26T20:16:33.616Z"
   },
   {
    "duration": 2715,
    "start_time": "2025-01-26T20:16:46.508Z"
   },
   {
    "duration": 12,
    "start_time": "2025-01-26T20:16:49.225Z"
   },
   {
    "duration": 3,
    "start_time": "2025-01-26T20:16:49.239Z"
   },
   {
    "duration": 9,
    "start_time": "2025-01-26T20:16:49.244Z"
   },
   {
    "duration": 9,
    "start_time": "2025-01-26T20:16:49.255Z"
   },
   {
    "duration": 4,
    "start_time": "2025-01-26T20:16:49.265Z"
   },
   {
    "duration": 8,
    "start_time": "2025-01-26T20:16:49.271Z"
   },
   {
    "duration": 44,
    "start_time": "2025-01-26T20:16:49.280Z"
   },
   {
    "duration": 2511,
    "start_time": "2025-01-26T20:16:49.325Z"
   },
   {
    "duration": 2,
    "start_time": "2025-01-26T20:16:51.840Z"
   },
   {
    "duration": 8,
    "start_time": "2025-01-26T20:16:51.844Z"
   },
   {
    "duration": 3,
    "start_time": "2025-01-26T20:16:51.854Z"
   },
   {
    "duration": 4,
    "start_time": "2025-01-26T20:16:51.859Z"
   },
   {
    "duration": 4,
    "start_time": "2025-01-26T20:16:51.865Z"
   },
   {
    "duration": 4,
    "start_time": "2025-01-26T20:16:51.870Z"
   },
   {
    "duration": 10,
    "start_time": "2025-01-26T20:16:51.876Z"
   },
   {
    "duration": 7,
    "start_time": "2025-01-26T20:16:51.911Z"
   },
   {
    "duration": 10,
    "start_time": "2025-01-26T20:16:51.920Z"
   },
   {
    "duration": 11,
    "start_time": "2025-01-26T20:16:51.932Z"
   },
   {
    "duration": 18,
    "start_time": "2025-01-26T20:16:51.946Z"
   },
   {
    "duration": 46,
    "start_time": "2025-01-26T20:16:51.966Z"
   },
   {
    "duration": 2,
    "start_time": "2025-01-26T20:16:52.014Z"
   },
   {
    "duration": 5,
    "start_time": "2025-01-26T20:16:52.017Z"
   },
   {
    "duration": 4,
    "start_time": "2025-01-26T20:16:52.023Z"
   },
   {
    "duration": 6,
    "start_time": "2025-01-26T20:16:52.028Z"
   },
   {
    "duration": 5,
    "start_time": "2025-01-26T20:16:52.036Z"
   },
   {
    "duration": 4,
    "start_time": "2025-01-26T20:16:52.042Z"
   },
   {
    "duration": 3,
    "start_time": "2025-01-26T20:16:52.049Z"
   },
   {
    "duration": 20,
    "start_time": "2025-01-26T20:16:52.053Z"
   },
   {
    "duration": 6,
    "start_time": "2025-01-26T20:16:52.112Z"
   },
   {
    "duration": 0,
    "start_time": "2025-01-26T20:16:52.119Z"
   },
   {
    "duration": 0,
    "start_time": "2025-01-26T20:16:52.120Z"
   },
   {
    "duration": 0,
    "start_time": "2025-01-26T20:16:52.121Z"
   },
   {
    "duration": 0,
    "start_time": "2025-01-26T20:16:52.122Z"
   },
   {
    "duration": 0,
    "start_time": "2025-01-26T20:16:52.123Z"
   },
   {
    "duration": 21,
    "start_time": "2025-01-26T20:18:40.718Z"
   },
   {
    "duration": 6,
    "start_time": "2025-01-26T20:27:25.561Z"
   },
   {
    "duration": 4,
    "start_time": "2025-01-26T20:27:41.912Z"
   },
   {
    "duration": 5,
    "start_time": "2025-01-26T20:27:48.521Z"
   },
   {
    "duration": 6,
    "start_time": "2025-01-26T20:28:52.332Z"
   },
   {
    "duration": 6,
    "start_time": "2025-01-26T20:31:42.148Z"
   },
   {
    "duration": 6,
    "start_time": "2025-01-26T20:35:08.753Z"
   },
   {
    "duration": 6,
    "start_time": "2025-01-26T20:35:15.395Z"
   },
   {
    "duration": 4,
    "start_time": "2025-01-26T20:35:27.428Z"
   },
   {
    "duration": 4,
    "start_time": "2025-01-26T20:35:51.511Z"
   },
   {
    "duration": 4,
    "start_time": "2025-01-26T20:36:23.103Z"
   },
   {
    "duration": 384,
    "start_time": "2025-01-26T20:36:29.607Z"
   },
   {
    "duration": 65,
    "start_time": "2025-01-26T20:37:07.000Z"
   },
   {
    "duration": 21,
    "start_time": "2025-01-26T20:37:58.926Z"
   },
   {
    "duration": 10,
    "start_time": "2025-01-26T23:20:11.178Z"
   },
   {
    "duration": 5,
    "start_time": "2025-01-26T23:21:43.796Z"
   },
   {
    "duration": 5,
    "start_time": "2025-01-26T23:21:49.928Z"
   },
   {
    "duration": 4,
    "start_time": "2025-01-26T23:22:07.527Z"
   },
   {
    "duration": 4,
    "start_time": "2025-01-26T23:26:03.023Z"
   },
   {
    "duration": 3,
    "start_time": "2025-01-26T23:26:10.265Z"
   },
   {
    "duration": 163,
    "start_time": "2025-01-26T23:26:13.133Z"
   },
   {
    "duration": 2676,
    "start_time": "2025-01-26T23:26:20.735Z"
   },
   {
    "duration": 13,
    "start_time": "2025-01-26T23:26:23.413Z"
   },
   {
    "duration": 3,
    "start_time": "2025-01-26T23:26:23.427Z"
   },
   {
    "duration": 11,
    "start_time": "2025-01-26T23:26:23.432Z"
   },
   {
    "duration": 9,
    "start_time": "2025-01-26T23:26:23.446Z"
   },
   {
    "duration": 3,
    "start_time": "2025-01-26T23:26:23.469Z"
   },
   {
    "duration": 8,
    "start_time": "2025-01-26T23:26:23.474Z"
   },
   {
    "duration": 16,
    "start_time": "2025-01-26T23:26:23.483Z"
   },
   {
    "duration": 2546,
    "start_time": "2025-01-26T23:26:23.501Z"
   },
   {
    "duration": 2,
    "start_time": "2025-01-26T23:26:26.049Z"
   },
   {
    "duration": 8,
    "start_time": "2025-01-26T23:26:26.053Z"
   },
   {
    "duration": 4,
    "start_time": "2025-01-26T23:26:26.062Z"
   },
   {
    "duration": 3,
    "start_time": "2025-01-26T23:26:26.070Z"
   },
   {
    "duration": 3,
    "start_time": "2025-01-26T23:26:26.151Z"
   },
   {
    "duration": 18,
    "start_time": "2025-01-26T23:26:26.156Z"
   },
   {
    "duration": 8,
    "start_time": "2025-01-26T23:26:26.175Z"
   },
   {
    "duration": 8,
    "start_time": "2025-01-26T23:26:26.184Z"
   },
   {
    "duration": 13,
    "start_time": "2025-01-26T23:26:26.194Z"
   },
   {
    "duration": 14,
    "start_time": "2025-01-26T23:26:26.209Z"
   },
   {
    "duration": 50,
    "start_time": "2025-01-26T23:26:26.225Z"
   },
   {
    "duration": 20,
    "start_time": "2025-01-26T23:26:26.277Z"
   },
   {
    "duration": 2,
    "start_time": "2025-01-26T23:26:26.299Z"
   },
   {
    "duration": 4,
    "start_time": "2025-01-26T23:26:26.303Z"
   },
   {
    "duration": 3,
    "start_time": "2025-01-26T23:26:26.309Z"
   },
   {
    "duration": 6,
    "start_time": "2025-01-26T23:26:26.314Z"
   },
   {
    "duration": 7,
    "start_time": "2025-01-26T23:26:26.322Z"
   },
   {
    "duration": 3,
    "start_time": "2025-01-26T23:26:26.331Z"
   },
   {
    "duration": 38,
    "start_time": "2025-01-26T23:26:26.335Z"
   },
   {
    "duration": 21,
    "start_time": "2025-01-26T23:26:26.374Z"
   },
   {
    "duration": 4,
    "start_time": "2025-01-26T23:26:26.396Z"
   },
   {
    "duration": 3,
    "start_time": "2025-01-26T23:26:26.401Z"
   },
   {
    "duration": 277,
    "start_time": "2025-01-26T23:26:26.406Z"
   },
   {
    "duration": 0,
    "start_time": "2025-01-26T23:26:26.685Z"
   },
   {
    "duration": 0,
    "start_time": "2025-01-26T23:26:26.686Z"
   },
   {
    "duration": 0,
    "start_time": "2025-01-26T23:26:26.687Z"
   },
   {
    "duration": 9,
    "start_time": "2025-01-27T04:40:08.996Z"
   },
   {
    "duration": 158,
    "start_time": "2025-01-27T04:40:22.501Z"
   },
   {
    "duration": 2907,
    "start_time": "2025-01-27T04:40:37.092Z"
   },
   {
    "duration": 14,
    "start_time": "2025-01-27T04:40:40.003Z"
   },
   {
    "duration": 4,
    "start_time": "2025-01-27T04:40:40.019Z"
   },
   {
    "duration": 21,
    "start_time": "2025-01-27T04:40:40.025Z"
   },
   {
    "duration": 13,
    "start_time": "2025-01-27T04:40:40.049Z"
   },
   {
    "duration": 5,
    "start_time": "2025-01-27T04:40:40.064Z"
   },
   {
    "duration": 10,
    "start_time": "2025-01-27T04:40:40.070Z"
   },
   {
    "duration": 20,
    "start_time": "2025-01-27T04:40:40.082Z"
   },
   {
    "duration": 2734,
    "start_time": "2025-01-27T04:40:40.105Z"
   },
   {
    "duration": 3,
    "start_time": "2025-01-27T04:40:42.843Z"
   },
   {
    "duration": 8,
    "start_time": "2025-01-27T04:40:42.848Z"
   },
   {
    "duration": 96,
    "start_time": "2025-01-27T04:40:42.858Z"
   },
   {
    "duration": 6,
    "start_time": "2025-01-27T04:40:42.957Z"
   },
   {
    "duration": 14,
    "start_time": "2025-01-27T04:40:42.965Z"
   },
   {
    "duration": 5,
    "start_time": "2025-01-27T04:40:42.981Z"
   },
   {
    "duration": 12,
    "start_time": "2025-01-27T04:40:42.988Z"
   },
   {
    "duration": 8,
    "start_time": "2025-01-27T04:40:43.002Z"
   },
   {
    "duration": 41,
    "start_time": "2025-01-27T04:40:43.012Z"
   },
   {
    "duration": 15,
    "start_time": "2025-01-27T04:40:43.055Z"
   },
   {
    "duration": 22,
    "start_time": "2025-01-27T04:40:43.072Z"
   },
   {
    "duration": 53,
    "start_time": "2025-01-27T04:40:43.096Z"
   },
   {
    "duration": 2,
    "start_time": "2025-01-27T04:40:43.153Z"
   },
   {
    "duration": 7,
    "start_time": "2025-01-27T04:40:43.157Z"
   },
   {
    "duration": 4,
    "start_time": "2025-01-27T04:40:43.167Z"
   },
   {
    "duration": 8,
    "start_time": "2025-01-27T04:40:43.173Z"
   },
   {
    "duration": 6,
    "start_time": "2025-01-27T04:40:43.183Z"
   },
   {
    "duration": 4,
    "start_time": "2025-01-27T04:40:43.191Z"
   },
   {
    "duration": 2,
    "start_time": "2025-01-27T04:40:43.200Z"
   },
   {
    "duration": 64,
    "start_time": "2025-01-27T04:40:43.204Z"
   },
   {
    "duration": 5,
    "start_time": "2025-01-27T04:40:43.271Z"
   },
   {
    "duration": 5,
    "start_time": "2025-01-27T04:40:43.278Z"
   },
   {
    "duration": 266,
    "start_time": "2025-01-27T04:40:43.284Z"
   },
   {
    "duration": 0,
    "start_time": "2025-01-27T04:40:43.552Z"
   },
   {
    "duration": 0,
    "start_time": "2025-01-27T04:40:43.554Z"
   },
   {
    "duration": 0,
    "start_time": "2025-01-27T04:40:43.555Z"
   },
   {
    "duration": 4,
    "start_time": "2025-01-27T04:42:40.201Z"
   },
   {
    "duration": 3,
    "start_time": "2025-01-27T04:42:42.724Z"
   },
   {
    "duration": 34,
    "start_time": "2025-01-27T04:42:48.364Z"
   },
   {
    "duration": 4,
    "start_time": "2025-01-27T04:44:01.482Z"
   },
   {
    "duration": 3,
    "start_time": "2025-01-27T04:44:03.056Z"
   },
   {
    "duration": 38,
    "start_time": "2025-01-27T04:44:08.307Z"
   },
   {
    "duration": 4,
    "start_time": "2025-01-27T04:44:31.905Z"
   },
   {
    "duration": 3,
    "start_time": "2025-01-27T04:44:35.052Z"
   },
   {
    "duration": 32,
    "start_time": "2025-01-27T04:44:38.419Z"
   },
   {
    "duration": 24,
    "start_time": "2025-01-27T04:45:17.023Z"
   },
   {
    "duration": 45,
    "start_time": "2025-01-27T04:46:06.599Z"
   },
   {
    "duration": 25,
    "start_time": "2025-01-27T04:47:10.420Z"
   },
   {
    "duration": 3,
    "start_time": "2025-01-27T04:48:10.027Z"
   },
   {
    "duration": 3,
    "start_time": "2025-01-27T04:48:21.228Z"
   },
   {
    "duration": 9,
    "start_time": "2025-01-27T04:48:24.425Z"
   },
   {
    "duration": 3,
    "start_time": "2025-01-27T04:50:02.390Z"
   },
   {
    "duration": 2,
    "start_time": "2025-01-27T04:50:03.875Z"
   },
   {
    "duration": 3,
    "start_time": "2025-01-27T04:50:05.777Z"
   },
   {
    "duration": 6,
    "start_time": "2025-01-27T04:50:14.064Z"
   },
   {
    "duration": 3,
    "start_time": "2025-01-27T04:50:27.422Z"
   },
   {
    "duration": 74,
    "start_time": "2025-01-27T04:53:11.309Z"
   },
   {
    "duration": 13,
    "start_time": "2025-01-27T04:54:34.474Z"
   },
   {
    "duration": 23,
    "start_time": "2025-01-27T04:55:00.400Z"
   },
   {
    "duration": 13,
    "start_time": "2025-01-27T04:55:44.613Z"
   },
   {
    "duration": 15,
    "start_time": "2025-01-27T04:55:59.280Z"
   },
   {
    "duration": 13,
    "start_time": "2025-01-27T04:56:05.542Z"
   },
   {
    "duration": 13,
    "start_time": "2025-01-27T04:56:15.870Z"
   },
   {
    "duration": 13,
    "start_time": "2025-01-27T04:56:25.941Z"
   },
   {
    "duration": 15,
    "start_time": "2025-01-27T04:56:42.395Z"
   },
   {
    "duration": 15,
    "start_time": "2025-01-27T04:57:10.857Z"
   },
   {
    "duration": 24,
    "start_time": "2025-01-27T04:57:30.311Z"
   },
   {
    "duration": 16,
    "start_time": "2025-01-27T04:58:09.109Z"
   },
   {
    "duration": 13,
    "start_time": "2025-01-27T04:58:37.026Z"
   },
   {
    "duration": 16,
    "start_time": "2025-01-27T04:59:10.375Z"
   },
   {
    "duration": 7,
    "start_time": "2025-01-27T05:00:03.165Z"
   },
   {
    "duration": 6,
    "start_time": "2025-01-27T05:06:15.168Z"
   },
   {
    "duration": 14,
    "start_time": "2025-01-27T05:07:18.404Z"
   },
   {
    "duration": 14,
    "start_time": "2025-01-27T05:07:49.897Z"
   },
   {
    "duration": 998,
    "start_time": "2025-01-27T05:08:03.422Z"
   },
   {
    "duration": 8,
    "start_time": "2025-01-27T05:08:04.422Z"
   },
   {
    "duration": 3,
    "start_time": "2025-01-27T05:08:04.431Z"
   },
   {
    "duration": 12,
    "start_time": "2025-01-27T05:08:04.442Z"
   },
   {
    "duration": 10,
    "start_time": "2025-01-27T05:08:04.456Z"
   },
   {
    "duration": 3,
    "start_time": "2025-01-27T05:08:04.468Z"
   },
   {
    "duration": 10,
    "start_time": "2025-01-27T05:08:04.472Z"
   },
   {
    "duration": 16,
    "start_time": "2025-01-27T05:08:04.483Z"
   },
   {
    "duration": 2586,
    "start_time": "2025-01-27T05:08:04.501Z"
   },
   {
    "duration": 3,
    "start_time": "2025-01-27T05:08:07.090Z"
   },
   {
    "duration": 8,
    "start_time": "2025-01-27T05:08:07.095Z"
   },
   {
    "duration": 4,
    "start_time": "2025-01-27T05:08:07.105Z"
   },
   {
    "duration": 4,
    "start_time": "2025-01-27T05:08:07.111Z"
   },
   {
    "duration": 4,
    "start_time": "2025-01-27T05:08:07.116Z"
   },
   {
    "duration": 4,
    "start_time": "2025-01-27T05:08:07.121Z"
   },
   {
    "duration": 20,
    "start_time": "2025-01-27T05:08:07.127Z"
   },
   {
    "duration": 8,
    "start_time": "2025-01-27T05:08:07.149Z"
   },
   {
    "duration": 11,
    "start_time": "2025-01-27T05:08:07.159Z"
   },
   {
    "duration": 12,
    "start_time": "2025-01-27T05:08:07.172Z"
   },
   {
    "duration": 20,
    "start_time": "2025-01-27T05:08:07.185Z"
   },
   {
    "duration": 49,
    "start_time": "2025-01-27T05:08:07.206Z"
   },
   {
    "duration": 2,
    "start_time": "2025-01-27T05:08:07.256Z"
   },
   {
    "duration": 7,
    "start_time": "2025-01-27T05:08:07.259Z"
   },
   {
    "duration": 4,
    "start_time": "2025-01-27T05:08:07.267Z"
   },
   {
    "duration": 5,
    "start_time": "2025-01-27T05:08:07.272Z"
   },
   {
    "duration": 5,
    "start_time": "2025-01-27T05:08:07.278Z"
   },
   {
    "duration": 3,
    "start_time": "2025-01-27T05:08:07.284Z"
   },
   {
    "duration": 4,
    "start_time": "2025-01-27T05:08:07.291Z"
   },
   {
    "duration": 57,
    "start_time": "2025-01-27T05:08:07.296Z"
   },
   {
    "duration": 4,
    "start_time": "2025-01-27T05:08:07.355Z"
   },
   {
    "duration": 4,
    "start_time": "2025-01-27T05:08:07.361Z"
   },
   {
    "duration": 9,
    "start_time": "2025-01-27T05:08:07.366Z"
   },
   {
    "duration": 3,
    "start_time": "2025-01-27T05:08:07.376Z"
   },
   {
    "duration": 3,
    "start_time": "2025-01-27T05:08:07.381Z"
   },
   {
    "duration": 4,
    "start_time": "2025-01-27T05:08:07.443Z"
   },
   {
    "duration": 5,
    "start_time": "2025-01-27T05:08:07.449Z"
   },
   {
    "duration": 335,
    "start_time": "2025-01-27T05:08:07.456Z"
   },
   {
    "duration": 20,
    "start_time": "2025-01-27T05:09:04.355Z"
   },
   {
    "duration": 14,
    "start_time": "2025-01-27T05:09:33.834Z"
   },
   {
    "duration": 14,
    "start_time": "2025-01-27T05:10:00.428Z"
   },
   {
    "duration": 14,
    "start_time": "2025-01-27T05:10:11.633Z"
   },
   {
    "duration": 10,
    "start_time": "2025-01-27T15:59:05.890Z"
   },
   {
    "duration": 4,
    "start_time": "2025-01-27T15:59:22.510Z"
   },
   {
    "duration": 2725,
    "start_time": "2025-01-27T15:59:31.606Z"
   },
   {
    "duration": 15,
    "start_time": "2025-01-27T15:59:34.333Z"
   },
   {
    "duration": 3,
    "start_time": "2025-01-27T15:59:34.349Z"
   },
   {
    "duration": 10,
    "start_time": "2025-01-27T15:59:34.354Z"
   },
   {
    "duration": 10,
    "start_time": "2025-01-27T15:59:34.366Z"
   },
   {
    "duration": 3,
    "start_time": "2025-01-27T15:59:34.377Z"
   },
   {
    "duration": 8,
    "start_time": "2025-01-27T15:59:34.382Z"
   },
   {
    "duration": 39,
    "start_time": "2025-01-27T15:59:34.392Z"
   },
   {
    "duration": 2511,
    "start_time": "2025-01-27T15:59:34.433Z"
   },
   {
    "duration": 2,
    "start_time": "2025-01-27T15:59:36.948Z"
   },
   {
    "duration": 8,
    "start_time": "2025-01-27T15:59:36.952Z"
   },
   {
    "duration": 6,
    "start_time": "2025-01-27T15:59:36.961Z"
   },
   {
    "duration": 4,
    "start_time": "2025-01-27T15:59:36.969Z"
   },
   {
    "duration": 3,
    "start_time": "2025-01-27T15:59:36.975Z"
   },
   {
    "duration": 4,
    "start_time": "2025-01-27T15:59:36.980Z"
   },
   {
    "duration": 9,
    "start_time": "2025-01-27T15:59:36.985Z"
   },
   {
    "duration": 32,
    "start_time": "2025-01-27T15:59:36.996Z"
   },
   {
    "duration": 11,
    "start_time": "2025-01-27T15:59:37.030Z"
   },
   {
    "duration": 11,
    "start_time": "2025-01-27T15:59:37.042Z"
   },
   {
    "duration": 19,
    "start_time": "2025-01-27T15:59:37.054Z"
   },
   {
    "duration": 49,
    "start_time": "2025-01-27T15:59:37.075Z"
   },
   {
    "duration": 3,
    "start_time": "2025-01-27T15:59:37.126Z"
   },
   {
    "duration": 5,
    "start_time": "2025-01-27T15:59:37.130Z"
   },
   {
    "duration": 3,
    "start_time": "2025-01-27T15:59:37.137Z"
   },
   {
    "duration": 6,
    "start_time": "2025-01-27T15:59:37.141Z"
   },
   {
    "duration": 4,
    "start_time": "2025-01-27T15:59:37.148Z"
   },
   {
    "duration": 3,
    "start_time": "2025-01-27T15:59:37.154Z"
   },
   {
    "duration": 3,
    "start_time": "2025-01-27T15:59:37.160Z"
   },
   {
    "duration": 21,
    "start_time": "2025-01-27T15:59:37.164Z"
   },
   {
    "duration": 3,
    "start_time": "2025-01-27T15:59:37.224Z"
   },
   {
    "duration": 3,
    "start_time": "2025-01-27T15:59:37.229Z"
   },
   {
    "duration": 12,
    "start_time": "2025-01-27T15:59:37.233Z"
   },
   {
    "duration": 3,
    "start_time": "2025-01-27T15:59:37.247Z"
   },
   {
    "duration": 4,
    "start_time": "2025-01-27T15:59:37.252Z"
   },
   {
    "duration": 68,
    "start_time": "2025-01-27T15:59:37.257Z"
   },
   {
    "duration": 8,
    "start_time": "2025-01-27T15:59:37.326Z"
   },
   {
    "duration": 7,
    "start_time": "2025-01-27T15:59:37.336Z"
   },
   {
    "duration": 156,
    "start_time": "2025-01-27T16:39:08.757Z"
   },
   {
    "duration": 2734,
    "start_time": "2025-01-27T16:39:18.869Z"
   },
   {
    "duration": 10,
    "start_time": "2025-01-27T16:39:21.605Z"
   },
   {
    "duration": 3,
    "start_time": "2025-01-27T16:39:21.616Z"
   },
   {
    "duration": 10,
    "start_time": "2025-01-27T16:39:21.623Z"
   },
   {
    "duration": 9,
    "start_time": "2025-01-27T16:39:21.634Z"
   },
   {
    "duration": 2,
    "start_time": "2025-01-27T16:39:21.645Z"
   },
   {
    "duration": 7,
    "start_time": "2025-01-27T16:39:21.649Z"
   },
   {
    "duration": 15,
    "start_time": "2025-01-27T16:39:21.658Z"
   },
   {
    "duration": 2605,
    "start_time": "2025-01-27T16:39:21.675Z"
   },
   {
    "duration": 3,
    "start_time": "2025-01-27T16:39:24.284Z"
   },
   {
    "duration": 8,
    "start_time": "2025-01-27T16:39:24.288Z"
   },
   {
    "duration": 77,
    "start_time": "2025-01-27T16:39:24.298Z"
   },
   {
    "duration": 4,
    "start_time": "2025-01-27T16:39:24.377Z"
   },
   {
    "duration": 4,
    "start_time": "2025-01-27T16:39:24.383Z"
   },
   {
    "duration": 3,
    "start_time": "2025-01-27T16:39:24.389Z"
   },
   {
    "duration": 33,
    "start_time": "2025-01-27T16:39:24.394Z"
   },
   {
    "duration": 8,
    "start_time": "2025-01-27T16:39:24.429Z"
   },
   {
    "duration": 13,
    "start_time": "2025-01-27T16:39:24.439Z"
   },
   {
    "duration": 11,
    "start_time": "2025-01-27T16:39:24.454Z"
   },
   {
    "duration": 18,
    "start_time": "2025-01-27T16:39:24.467Z"
   },
   {
    "duration": 48,
    "start_time": "2025-01-27T16:39:24.487Z"
   },
   {
    "duration": 2,
    "start_time": "2025-01-27T16:39:24.536Z"
   },
   {
    "duration": 4,
    "start_time": "2025-01-27T16:39:24.540Z"
   },
   {
    "duration": 3,
    "start_time": "2025-01-27T16:39:24.546Z"
   },
   {
    "duration": 6,
    "start_time": "2025-01-27T16:39:24.551Z"
   },
   {
    "duration": 5,
    "start_time": "2025-01-27T16:39:24.558Z"
   },
   {
    "duration": 4,
    "start_time": "2025-01-27T16:39:24.564Z"
   },
   {
    "duration": 3,
    "start_time": "2025-01-27T16:39:24.571Z"
   },
   {
    "duration": 57,
    "start_time": "2025-01-27T16:39:24.575Z"
   },
   {
    "duration": 4,
    "start_time": "2025-01-27T16:39:24.634Z"
   },
   {
    "duration": 3,
    "start_time": "2025-01-27T16:39:24.640Z"
   },
   {
    "duration": 14,
    "start_time": "2025-01-27T16:39:24.644Z"
   },
   {
    "duration": 4,
    "start_time": "2025-01-27T16:39:24.659Z"
   },
   {
    "duration": 8,
    "start_time": "2025-01-27T16:39:24.724Z"
   },
   {
    "duration": 2,
    "start_time": "2025-01-27T16:39:24.734Z"
   },
   {
    "duration": 6,
    "start_time": "2025-01-27T16:39:24.738Z"
   },
   {
    "duration": 80,
    "start_time": "2025-01-27T16:39:24.745Z"
   },
   {
    "duration": 5,
    "start_time": "2025-01-27T16:41:08.371Z"
   },
   {
    "duration": 5,
    "start_time": "2025-01-27T16:41:21.905Z"
   },
   {
    "duration": 3,
    "start_time": "2025-01-27T16:41:30.161Z"
   },
   {
    "duration": 5,
    "start_time": "2025-01-27T16:48:12.391Z"
   },
   {
    "duration": 4,
    "start_time": "2025-01-27T16:48:21.485Z"
   },
   {
    "duration": 3,
    "start_time": "2025-01-27T16:48:39.378Z"
   },
   {
    "duration": 4,
    "start_time": "2025-01-27T16:48:45.601Z"
   },
   {
    "duration": 4,
    "start_time": "2025-01-27T16:49:05.446Z"
   },
   {
    "duration": 3,
    "start_time": "2025-01-27T16:51:02.767Z"
   },
   {
    "duration": 4,
    "start_time": "2025-01-27T16:51:09.667Z"
   },
   {
    "duration": 327,
    "start_time": "2025-01-27T16:51:16.200Z"
   },
   {
    "duration": 19,
    "start_time": "2025-01-27T16:51:33.087Z"
   },
   {
    "duration": 2,
    "start_time": "2025-01-27T16:51:40.353Z"
   },
   {
    "duration": 4,
    "start_time": "2025-01-27T16:55:43.381Z"
   },
   {
    "duration": 4,
    "start_time": "2025-01-27T16:56:09.453Z"
   },
   {
    "duration": 3,
    "start_time": "2025-01-27T16:56:16.756Z"
   },
   {
    "duration": 3,
    "start_time": "2025-01-27T16:56:39.782Z"
   },
   {
    "duration": 3,
    "start_time": "2025-01-27T16:56:45.332Z"
   },
   {
    "duration": 4,
    "start_time": "2025-01-27T17:05:12.866Z"
   },
   {
    "duration": 162,
    "start_time": "2025-01-28T15:09:23.279Z"
   },
   {
    "duration": 2732,
    "start_time": "2025-01-28T15:09:32.020Z"
   },
   {
    "duration": 12,
    "start_time": "2025-01-28T15:09:34.754Z"
   },
   {
    "duration": 3,
    "start_time": "2025-01-28T15:09:34.768Z"
   },
   {
    "duration": 11,
    "start_time": "2025-01-28T15:09:34.773Z"
   },
   {
    "duration": 8,
    "start_time": "2025-01-28T15:09:34.786Z"
   },
   {
    "duration": 3,
    "start_time": "2025-01-28T15:09:34.796Z"
   },
   {
    "duration": 8,
    "start_time": "2025-01-28T15:09:34.800Z"
   },
   {
    "duration": 46,
    "start_time": "2025-01-28T15:09:34.809Z"
   },
   {
    "duration": 2610,
    "start_time": "2025-01-28T15:09:34.857Z"
   },
   {
    "duration": 3,
    "start_time": "2025-01-28T15:09:37.469Z"
   },
   {
    "duration": 9,
    "start_time": "2025-01-28T15:09:37.473Z"
   },
   {
    "duration": 4,
    "start_time": "2025-01-28T15:09:37.483Z"
   },
   {
    "duration": 4,
    "start_time": "2025-01-28T15:09:37.489Z"
   },
   {
    "duration": 6,
    "start_time": "2025-01-28T15:09:37.569Z"
   },
   {
    "duration": 4,
    "start_time": "2025-01-28T15:09:37.577Z"
   },
   {
    "duration": 10,
    "start_time": "2025-01-28T15:09:37.583Z"
   },
   {
    "duration": 9,
    "start_time": "2025-01-28T15:09:37.595Z"
   },
   {
    "duration": 38,
    "start_time": "2025-01-28T15:09:37.606Z"
   },
   {
    "duration": 13,
    "start_time": "2025-01-28T15:09:37.646Z"
   },
   {
    "duration": 21,
    "start_time": "2025-01-28T15:09:37.662Z"
   },
   {
    "duration": 22,
    "start_time": "2025-01-28T15:09:37.684Z"
   },
   {
    "duration": 37,
    "start_time": "2025-01-28T15:09:37.709Z"
   },
   {
    "duration": 5,
    "start_time": "2025-01-28T15:09:37.748Z"
   },
   {
    "duration": 6,
    "start_time": "2025-01-28T15:09:37.755Z"
   },
   {
    "duration": 6,
    "start_time": "2025-01-28T15:09:37.763Z"
   },
   {
    "duration": 6,
    "start_time": "2025-01-28T15:09:37.771Z"
   },
   {
    "duration": 4,
    "start_time": "2025-01-28T15:09:37.778Z"
   },
   {
    "duration": 21,
    "start_time": "2025-01-28T15:09:37.783Z"
   },
   {
    "duration": 4,
    "start_time": "2025-01-28T15:09:37.806Z"
   },
   {
    "duration": 32,
    "start_time": "2025-01-28T15:09:37.812Z"
   },
   {
    "duration": 13,
    "start_time": "2025-01-28T15:09:37.846Z"
   },
   {
    "duration": 3,
    "start_time": "2025-01-28T15:09:37.861Z"
   },
   {
    "duration": 4,
    "start_time": "2025-01-28T15:09:37.866Z"
   },
   {
    "duration": 80,
    "start_time": "2025-01-28T15:09:37.872Z"
   },
   {
    "duration": 6,
    "start_time": "2025-01-28T15:09:37.954Z"
   },
   {
    "duration": 82,
    "start_time": "2025-01-28T15:09:37.962Z"
   },
   {
    "duration": 5,
    "start_time": "2025-01-28T15:09:38.047Z"
   },
   {
    "duration": 5,
    "start_time": "2025-01-28T15:14:35.852Z"
   },
   {
    "duration": 238,
    "start_time": "2025-01-28T15:18:16.395Z"
   },
   {
    "duration": 14,
    "start_time": "2025-01-28T15:18:45.344Z"
   },
   {
    "duration": 15,
    "start_time": "2025-01-28T15:19:16.849Z"
   },
   {
    "duration": 11,
    "start_time": "2025-01-28T15:19:51.654Z"
   },
   {
    "duration": 13,
    "start_time": "2025-01-28T15:20:47.012Z"
   },
   {
    "duration": 13,
    "start_time": "2025-01-28T15:21:15.855Z"
   },
   {
    "duration": 13,
    "start_time": "2025-01-28T15:21:23.645Z"
   },
   {
    "duration": 13,
    "start_time": "2025-01-28T15:21:31.326Z"
   },
   {
    "duration": 13,
    "start_time": "2025-01-28T15:22:25.476Z"
   },
   {
    "duration": 5,
    "start_time": "2025-01-28T15:23:26.430Z"
   },
   {
    "duration": 12,
    "start_time": "2025-01-28T15:23:56.041Z"
   },
   {
    "duration": 14,
    "start_time": "2025-01-28T15:24:56.975Z"
   },
   {
    "duration": 12,
    "start_time": "2025-01-28T15:26:45.299Z"
   },
   {
    "duration": 13,
    "start_time": "2025-01-28T15:26:58.648Z"
   },
   {
    "duration": 240,
    "start_time": "2025-01-28T18:50:36.724Z"
   },
   {
    "duration": 17,
    "start_time": "2025-01-28T18:50:44.900Z"
   },
   {
    "duration": 4021,
    "start_time": "2025-01-28T18:50:50.180Z"
   },
   {
    "duration": 15,
    "start_time": "2025-01-28T18:50:54.207Z"
   },
   {
    "duration": 6,
    "start_time": "2025-01-28T18:50:54.224Z"
   },
   {
    "duration": 13,
    "start_time": "2025-01-28T18:50:54.233Z"
   },
   {
    "duration": 23,
    "start_time": "2025-01-28T18:50:54.249Z"
   },
   {
    "duration": 4,
    "start_time": "2025-01-28T18:50:54.274Z"
   },
   {
    "duration": 10,
    "start_time": "2025-01-28T18:50:54.280Z"
   },
   {
    "duration": 19,
    "start_time": "2025-01-28T18:50:54.292Z"
   },
   {
    "duration": 3651,
    "start_time": "2025-01-28T18:50:54.313Z"
   },
   {
    "duration": 3,
    "start_time": "2025-01-28T18:50:57.968Z"
   },
   {
    "duration": 9,
    "start_time": "2025-01-28T18:50:57.973Z"
   },
   {
    "duration": 5,
    "start_time": "2025-01-28T18:50:57.984Z"
   },
   {
    "duration": 4,
    "start_time": "2025-01-28T18:50:57.991Z"
   },
   {
    "duration": 4,
    "start_time": "2025-01-28T18:50:57.997Z"
   },
   {
    "duration": 4,
    "start_time": "2025-01-28T18:50:58.003Z"
   },
   {
    "duration": 10,
    "start_time": "2025-01-28T18:50:58.010Z"
   },
   {
    "duration": 9,
    "start_time": "2025-01-28T18:50:58.022Z"
   },
   {
    "duration": 50,
    "start_time": "2025-01-28T18:50:58.033Z"
   },
   {
    "duration": 16,
    "start_time": "2025-01-28T18:50:58.085Z"
   },
   {
    "duration": 29,
    "start_time": "2025-01-28T18:50:58.103Z"
   },
   {
    "duration": 50,
    "start_time": "2025-01-28T18:50:58.134Z"
   },
   {
    "duration": 11,
    "start_time": "2025-01-28T18:50:58.188Z"
   },
   {
    "duration": 5,
    "start_time": "2025-01-28T18:50:58.204Z"
   },
   {
    "duration": 10,
    "start_time": "2025-01-28T18:50:58.213Z"
   },
   {
    "duration": 6,
    "start_time": "2025-01-28T18:50:58.226Z"
   },
   {
    "duration": 4,
    "start_time": "2025-01-28T18:50:58.234Z"
   },
   {
    "duration": 4,
    "start_time": "2025-01-28T18:50:58.240Z"
   },
   {
    "duration": 49,
    "start_time": "2025-01-28T18:50:58.249Z"
   },
   {
    "duration": 7,
    "start_time": "2025-01-28T18:50:58.302Z"
   },
   {
    "duration": 7,
    "start_time": "2025-01-28T18:50:58.311Z"
   },
   {
    "duration": 25,
    "start_time": "2025-01-28T18:50:58.322Z"
   },
   {
    "duration": 23,
    "start_time": "2025-01-28T18:50:58.373Z"
   },
   {
    "duration": 10,
    "start_time": "2025-01-28T18:50:58.400Z"
   },
   {
    "duration": 59,
    "start_time": "2025-01-28T18:50:58.412Z"
   },
   {
    "duration": 16,
    "start_time": "2025-01-28T18:50:58.473Z"
   },
   {
    "duration": 11,
    "start_time": "2025-01-28T18:50:58.492Z"
   },
   {
    "duration": 531,
    "start_time": "2025-01-28T18:50:58.506Z"
   },
   {
    "duration": 0,
    "start_time": "2025-01-28T18:50:59.040Z"
   },
   {
    "duration": 7,
    "start_time": "2025-01-28T20:22:53.423Z"
   },
   {
    "duration": 2751,
    "start_time": "2025-01-28T20:23:05.905Z"
   },
   {
    "duration": 13,
    "start_time": "2025-01-28T20:23:08.658Z"
   },
   {
    "duration": 3,
    "start_time": "2025-01-28T20:23:08.673Z"
   },
   {
    "duration": 10,
    "start_time": "2025-01-28T20:23:08.687Z"
   },
   {
    "duration": 10,
    "start_time": "2025-01-28T20:23:08.698Z"
   },
   {
    "duration": 2,
    "start_time": "2025-01-28T20:23:08.710Z"
   },
   {
    "duration": 12,
    "start_time": "2025-01-28T20:23:08.714Z"
   },
   {
    "duration": 17,
    "start_time": "2025-01-28T20:23:08.727Z"
   },
   {
    "duration": 2566,
    "start_time": "2025-01-28T20:23:08.745Z"
   },
   {
    "duration": 3,
    "start_time": "2025-01-28T20:23:11.314Z"
   },
   {
    "duration": 8,
    "start_time": "2025-01-28T20:23:11.318Z"
   },
   {
    "duration": 82,
    "start_time": "2025-01-28T20:23:11.328Z"
   },
   {
    "duration": 4,
    "start_time": "2025-01-28T20:23:11.412Z"
   },
   {
    "duration": 4,
    "start_time": "2025-01-28T20:23:11.417Z"
   },
   {
    "duration": 4,
    "start_time": "2025-01-28T20:23:11.422Z"
   },
   {
    "duration": 11,
    "start_time": "2025-01-28T20:23:11.427Z"
   },
   {
    "duration": 8,
    "start_time": "2025-01-28T20:23:11.439Z"
   },
   {
    "duration": 47,
    "start_time": "2025-01-28T20:23:11.449Z"
   },
   {
    "duration": 15,
    "start_time": "2025-01-28T20:23:11.498Z"
   },
   {
    "duration": 19,
    "start_time": "2025-01-28T20:23:11.514Z"
   },
   {
    "duration": 19,
    "start_time": "2025-01-28T20:23:11.535Z"
   },
   {
    "duration": 5,
    "start_time": "2025-01-28T20:23:11.555Z"
   },
   {
    "duration": 4,
    "start_time": "2025-01-28T20:23:11.587Z"
   },
   {
    "duration": 7,
    "start_time": "2025-01-28T20:23:11.592Z"
   },
   {
    "duration": 4,
    "start_time": "2025-01-28T20:23:11.600Z"
   },
   {
    "duration": 3,
    "start_time": "2025-01-28T20:23:11.607Z"
   },
   {
    "duration": 5,
    "start_time": "2025-01-28T20:23:11.611Z"
   },
   {
    "duration": 19,
    "start_time": "2025-01-28T20:23:11.619Z"
   },
   {
    "duration": 4,
    "start_time": "2025-01-28T20:23:11.640Z"
   },
   {
    "duration": 41,
    "start_time": "2025-01-28T20:23:11.646Z"
   },
   {
    "duration": 10,
    "start_time": "2025-01-28T20:23:11.689Z"
   },
   {
    "duration": 11,
    "start_time": "2025-01-28T20:23:11.700Z"
   },
   {
    "duration": 74,
    "start_time": "2025-01-28T20:23:11.713Z"
   },
   {
    "duration": 5,
    "start_time": "2025-01-28T20:23:11.788Z"
   },
   {
    "duration": 4,
    "start_time": "2025-01-28T20:23:11.795Z"
   },
   {
    "duration": 3,
    "start_time": "2025-01-28T20:23:11.801Z"
   },
   {
    "duration": 3,
    "start_time": "2025-01-28T20:23:11.806Z"
   },
   {
    "duration": 2,
    "start_time": "2025-01-28T20:34:18.110Z"
   },
   {
    "duration": 4,
    "start_time": "2025-01-28T20:34:29.522Z"
   },
   {
    "duration": 4,
    "start_time": "2025-01-28T20:34:38.360Z"
   },
   {
    "duration": 233,
    "start_time": "2025-01-28T20:35:43.733Z"
   },
   {
    "duration": 7,
    "start_time": "2025-01-28T20:36:00.923Z"
   },
   {
    "duration": 14,
    "start_time": "2025-01-28T20:36:11.825Z"
   },
   {
    "duration": 4,
    "start_time": "2025-01-28T21:10:07.333Z"
   },
   {
    "duration": 3,
    "start_time": "2025-01-28T21:11:12.365Z"
   },
   {
    "duration": 5,
    "start_time": "2025-01-28T21:11:24.800Z"
   },
   {
    "duration": 15,
    "start_time": "2025-01-28T21:12:30.517Z"
   },
   {
    "duration": 5,
    "start_time": "2025-01-28T21:12:32.197Z"
   },
   {
    "duration": 5,
    "start_time": "2025-01-28T21:12:33.722Z"
   },
   {
    "duration": 163,
    "start_time": "2025-01-28T23:45:45.032Z"
   },
   {
    "duration": 15,
    "start_time": "2025-01-28T23:46:39.294Z"
   },
   {
    "duration": 2719,
    "start_time": "2025-01-28T23:46:47.774Z"
   },
   {
    "duration": 20,
    "start_time": "2025-01-28T23:46:50.495Z"
   },
   {
    "duration": 5,
    "start_time": "2025-01-28T23:46:50.516Z"
   },
   {
    "duration": 11,
    "start_time": "2025-01-28T23:46:50.522Z"
   },
   {
    "duration": 8,
    "start_time": "2025-01-28T23:46:50.535Z"
   },
   {
    "duration": 3,
    "start_time": "2025-01-28T23:46:50.545Z"
   },
   {
    "duration": 7,
    "start_time": "2025-01-28T23:46:50.549Z"
   },
   {
    "duration": 38,
    "start_time": "2025-01-28T23:46:50.558Z"
   },
   {
    "duration": 2621,
    "start_time": "2025-01-28T23:46:50.598Z"
   },
   {
    "duration": 5,
    "start_time": "2025-01-28T23:46:53.221Z"
   },
   {
    "duration": 7,
    "start_time": "2025-01-28T23:46:53.228Z"
   },
   {
    "duration": 3,
    "start_time": "2025-01-28T23:46:53.237Z"
   },
   {
    "duration": 4,
    "start_time": "2025-01-28T23:46:53.242Z"
   },
   {
    "duration": 5,
    "start_time": "2025-01-28T23:46:53.333Z"
   },
   {
    "duration": 4,
    "start_time": "2025-01-28T23:46:53.339Z"
   },
   {
    "duration": 8,
    "start_time": "2025-01-28T23:46:53.345Z"
   },
   {
    "duration": 8,
    "start_time": "2025-01-28T23:46:53.355Z"
   },
   {
    "duration": 31,
    "start_time": "2025-01-28T23:46:53.365Z"
   },
   {
    "duration": 13,
    "start_time": "2025-01-28T23:46:53.398Z"
   },
   {
    "duration": 20,
    "start_time": "2025-01-28T23:46:53.413Z"
   },
   {
    "duration": 19,
    "start_time": "2025-01-28T23:46:53.434Z"
   },
   {
    "duration": 4,
    "start_time": "2025-01-28T23:46:53.455Z"
   },
   {
    "duration": 30,
    "start_time": "2025-01-28T23:46:53.461Z"
   },
   {
    "duration": 6,
    "start_time": "2025-01-28T23:46:53.492Z"
   },
   {
    "duration": 4,
    "start_time": "2025-01-28T23:46:53.500Z"
   },
   {
    "duration": 3,
    "start_time": "2025-01-28T23:46:53.506Z"
   },
   {
    "duration": 4,
    "start_time": "2025-01-28T23:46:53.510Z"
   },
   {
    "duration": 20,
    "start_time": "2025-01-28T23:46:53.515Z"
   },
   {
    "duration": 4,
    "start_time": "2025-01-28T23:46:53.537Z"
   },
   {
    "duration": 4,
    "start_time": "2025-01-28T23:46:53.543Z"
   },
   {
    "duration": 42,
    "start_time": "2025-01-28T23:46:53.549Z"
   },
   {
    "duration": 17,
    "start_time": "2025-01-28T23:46:53.593Z"
   },
   {
    "duration": 5,
    "start_time": "2025-01-28T23:46:53.612Z"
   },
   {
    "duration": 71,
    "start_time": "2025-01-28T23:46:53.618Z"
   },
   {
    "duration": 5,
    "start_time": "2025-01-28T23:46:53.691Z"
   },
   {
    "duration": 3,
    "start_time": "2025-01-28T23:46:53.698Z"
   },
   {
    "duration": 4,
    "start_time": "2025-01-28T23:46:53.703Z"
   },
   {
    "duration": 6,
    "start_time": "2025-01-28T23:46:53.708Z"
   },
   {
    "duration": 370,
    "start_time": "2025-01-28T23:46:53.716Z"
   },
   {
    "duration": 6,
    "start_time": "2025-01-28T23:47:42.083Z"
   },
   {
    "duration": 3,
    "start_time": "2025-01-28T23:47:49.958Z"
   },
   {
    "duration": 3,
    "start_time": "2025-01-28T23:48:07.167Z"
   },
   {
    "duration": 5,
    "start_time": "2025-01-28T23:48:31.719Z"
   },
   {
    "duration": 7,
    "start_time": "2025-01-28T23:57:10.558Z"
   },
   {
    "duration": 19,
    "start_time": "2025-01-28T23:57:31.032Z"
   },
   {
    "duration": 4,
    "start_time": "2025-01-28T23:57:51.940Z"
   },
   {
    "duration": 16,
    "start_time": "2025-01-28T23:57:55.173Z"
   },
   {
    "duration": 9,
    "start_time": "2025-01-28T23:58:42.059Z"
   },
   {
    "duration": 16,
    "start_time": "2025-01-28T23:59:06.212Z"
   },
   {
    "duration": 7,
    "start_time": "2025-01-28T23:59:25.322Z"
   },
   {
    "duration": 8,
    "start_time": "2025-01-29T00:00:08.776Z"
   },
   {
    "duration": 5,
    "start_time": "2025-01-29T00:03:25.932Z"
   },
   {
    "duration": 13,
    "start_time": "2025-01-29T00:03:33.535Z"
   },
   {
    "duration": 8,
    "start_time": "2025-01-29T00:04:06.628Z"
   },
   {
    "duration": 171,
    "start_time": "2025-01-29T03:33:59.209Z"
   },
   {
    "duration": 2693,
    "start_time": "2025-01-29T03:34:07.682Z"
   },
   {
    "duration": 9,
    "start_time": "2025-01-29T03:34:10.377Z"
   },
   {
    "duration": 3,
    "start_time": "2025-01-29T03:34:10.388Z"
   },
   {
    "duration": 20,
    "start_time": "2025-01-29T03:34:10.393Z"
   },
   {
    "duration": 9,
    "start_time": "2025-01-29T03:34:10.414Z"
   },
   {
    "duration": 3,
    "start_time": "2025-01-29T03:34:10.424Z"
   },
   {
    "duration": 8,
    "start_time": "2025-01-29T03:34:10.429Z"
   },
   {
    "duration": 16,
    "start_time": "2025-01-29T03:34:10.438Z"
   },
   {
    "duration": 2521,
    "start_time": "2025-01-29T03:34:10.455Z"
   },
   {
    "duration": 3,
    "start_time": "2025-01-29T03:34:12.980Z"
   },
   {
    "duration": 8,
    "start_time": "2025-01-29T03:34:12.985Z"
   },
   {
    "duration": 78,
    "start_time": "2025-01-29T03:34:12.994Z"
   },
   {
    "duration": 5,
    "start_time": "2025-01-29T03:34:13.073Z"
   },
   {
    "duration": 3,
    "start_time": "2025-01-29T03:34:13.081Z"
   },
   {
    "duration": 4,
    "start_time": "2025-01-29T03:34:13.086Z"
   },
   {
    "duration": 27,
    "start_time": "2025-01-29T03:34:13.091Z"
   },
   {
    "duration": 8,
    "start_time": "2025-01-29T03:34:13.120Z"
   },
   {
    "duration": 14,
    "start_time": "2025-01-29T03:34:13.130Z"
   },
   {
    "duration": 14,
    "start_time": "2025-01-29T03:34:13.146Z"
   },
   {
    "duration": 53,
    "start_time": "2025-01-29T03:34:13.162Z"
   },
   {
    "duration": 20,
    "start_time": "2025-01-29T03:34:13.217Z"
   },
   {
    "duration": 4,
    "start_time": "2025-01-29T03:34:13.239Z"
   },
   {
    "duration": 3,
    "start_time": "2025-01-29T03:34:13.245Z"
   },
   {
    "duration": 5,
    "start_time": "2025-01-29T03:34:13.250Z"
   },
   {
    "duration": 5,
    "start_time": "2025-01-29T03:34:13.256Z"
   },
   {
    "duration": 3,
    "start_time": "2025-01-29T03:34:13.263Z"
   },
   {
    "duration": 4,
    "start_time": "2025-01-29T03:34:13.268Z"
   },
   {
    "duration": 20,
    "start_time": "2025-01-29T03:34:13.311Z"
   },
   {
    "duration": 5,
    "start_time": "2025-01-29T03:34:13.333Z"
   },
   {
    "duration": 3,
    "start_time": "2025-01-29T03:34:13.339Z"
   },
   {
    "duration": 12,
    "start_time": "2025-01-29T03:34:13.344Z"
   },
   {
    "duration": 63,
    "start_time": "2025-01-29T03:34:13.357Z"
   },
   {
    "duration": 4,
    "start_time": "2025-01-29T03:34:13.422Z"
   },
   {
    "duration": 5,
    "start_time": "2025-01-29T03:34:13.428Z"
   },
   {
    "duration": 81,
    "start_time": "2025-01-29T03:34:13.435Z"
   },
   {
    "duration": 4,
    "start_time": "2025-01-29T03:34:13.518Z"
   },
   {
    "duration": 5,
    "start_time": "2025-01-29T03:34:13.523Z"
   },
   {
    "duration": 82,
    "start_time": "2025-01-29T03:34:13.530Z"
   },
   {
    "duration": 3,
    "start_time": "2025-01-29T03:34:13.614Z"
   },
   {
    "duration": 373,
    "start_time": "2025-01-29T03:34:13.618Z"
   },
   {
    "duration": 0,
    "start_time": "2025-01-29T03:34:13.993Z"
   },
   {
    "duration": 106,
    "start_time": "2025-01-29T03:37:44.611Z"
   },
   {
    "duration": 68,
    "start_time": "2025-01-29T03:38:00.747Z"
   },
   {
    "duration": 8,
    "start_time": "2025-01-29T03:38:31.941Z"
   },
   {
    "duration": 25,
    "start_time": "2025-01-29T03:38:37.737Z"
   },
   {
    "duration": 6,
    "start_time": "2025-01-29T03:39:14.118Z"
   },
   {
    "duration": 18,
    "start_time": "2025-01-29T04:12:50.777Z"
   },
   {
    "duration": 7,
    "start_time": "2025-01-29T04:13:20.762Z"
   },
   {
    "duration": 154,
    "start_time": "2025-01-29T04:49:48.605Z"
   },
   {
    "duration": 2751,
    "start_time": "2025-01-29T04:49:54.941Z"
   },
   {
    "duration": 15,
    "start_time": "2025-01-29T04:49:57.694Z"
   },
   {
    "duration": 3,
    "start_time": "2025-01-29T04:49:57.711Z"
   },
   {
    "duration": 12,
    "start_time": "2025-01-29T04:49:57.717Z"
   },
   {
    "duration": 9,
    "start_time": "2025-01-29T04:49:57.732Z"
   },
   {
    "duration": 3,
    "start_time": "2025-01-29T04:49:57.742Z"
   },
   {
    "duration": 9,
    "start_time": "2025-01-29T04:49:57.747Z"
   },
   {
    "duration": 49,
    "start_time": "2025-01-29T04:49:57.758Z"
   },
   {
    "duration": 10,
    "start_time": "2025-01-29T04:49:57.809Z"
   },
   {
    "duration": 2610,
    "start_time": "2025-01-29T04:49:57.824Z"
   },
   {
    "duration": 3,
    "start_time": "2025-01-29T04:50:00.435Z"
   },
   {
    "duration": 9,
    "start_time": "2025-01-29T04:50:00.440Z"
   },
   {
    "duration": 4,
    "start_time": "2025-01-29T04:50:00.450Z"
   },
   {
    "duration": 4,
    "start_time": "2025-01-29T04:50:00.455Z"
   },
   {
    "duration": 4,
    "start_time": "2025-01-29T04:50:00.461Z"
   },
   {
    "duration": 5,
    "start_time": "2025-01-29T04:50:00.467Z"
   },
   {
    "duration": 9,
    "start_time": "2025-01-29T04:50:00.474Z"
   },
   {
    "duration": 11,
    "start_time": "2025-01-29T04:50:00.504Z"
   },
   {
    "duration": 11,
    "start_time": "2025-01-29T04:50:00.517Z"
   },
   {
    "duration": 12,
    "start_time": "2025-01-29T04:50:00.529Z"
   },
   {
    "duration": 19,
    "start_time": "2025-01-29T04:50:00.542Z"
   },
   {
    "duration": 44,
    "start_time": "2025-01-29T04:50:00.562Z"
   },
   {
    "duration": 5,
    "start_time": "2025-01-29T04:50:00.608Z"
   },
   {
    "duration": 3,
    "start_time": "2025-01-29T04:50:00.615Z"
   },
   {
    "duration": 5,
    "start_time": "2025-01-29T04:50:00.621Z"
   },
   {
    "duration": 4,
    "start_time": "2025-01-29T04:50:00.629Z"
   },
   {
    "duration": 2,
    "start_time": "2025-01-29T04:50:00.635Z"
   },
   {
    "duration": 2,
    "start_time": "2025-01-29T04:50:00.642Z"
   },
   {
    "duration": 20,
    "start_time": "2025-01-29T04:50:00.645Z"
   },
   {
    "duration": 42,
    "start_time": "2025-01-29T04:50:00.666Z"
   },
   {
    "duration": 4,
    "start_time": "2025-01-29T04:50:00.710Z"
   },
   {
    "duration": 11,
    "start_time": "2025-01-29T04:50:00.715Z"
   },
   {
    "duration": 11,
    "start_time": "2025-01-29T04:50:00.728Z"
   },
   {
    "duration": 69,
    "start_time": "2025-01-29T04:50:00.741Z"
   },
   {
    "duration": 10,
    "start_time": "2025-01-29T04:50:00.813Z"
   },
   {
    "duration": 4,
    "start_time": "2025-01-29T04:50:00.824Z"
   },
   {
    "duration": 77,
    "start_time": "2025-01-29T04:50:00.829Z"
   },
   {
    "duration": 8,
    "start_time": "2025-01-29T04:50:00.908Z"
   },
   {
    "duration": 7,
    "start_time": "2025-01-29T04:50:00.918Z"
   },
   {
    "duration": 78,
    "start_time": "2025-01-29T04:50:00.927Z"
   },
   {
    "duration": 9,
    "start_time": "2025-01-29T04:50:01.007Z"
   },
   {
    "duration": 9,
    "start_time": "2025-01-29T04:50:01.017Z"
   },
   {
    "duration": 249,
    "start_time": "2025-01-29T04:50:21.345Z"
   },
   {
    "duration": 6,
    "start_time": "2025-01-29T04:50:35.314Z"
   },
   {
    "duration": 5,
    "start_time": "2025-01-29T04:51:47.874Z"
   },
   {
    "duration": 5,
    "start_time": "2025-01-29T04:52:13.170Z"
   },
   {
    "duration": 17,
    "start_time": "2025-01-29T04:52:23.616Z"
   },
   {
    "duration": 15,
    "start_time": "2025-01-29T04:52:36.321Z"
   },
   {
    "duration": 6,
    "start_time": "2025-01-29T04:52:57.079Z"
   },
   {
    "duration": 5,
    "start_time": "2025-01-29T04:53:12.732Z"
   },
   {
    "duration": 5,
    "start_time": "2025-01-29T04:53:27.113Z"
   },
   {
    "duration": 6,
    "start_time": "2025-01-29T04:53:43.528Z"
   },
   {
    "duration": 4,
    "start_time": "2025-01-29T05:02:54.114Z"
   },
   {
    "duration": 6,
    "start_time": "2025-01-29T05:02:57.048Z"
   },
   {
    "duration": 5,
    "start_time": "2025-01-29T05:02:59.154Z"
   },
   {
    "duration": 3,
    "start_time": "2025-01-29T05:03:10.714Z"
   },
   {
    "duration": 6,
    "start_time": "2025-01-29T05:04:31.283Z"
   },
   {
    "duration": 3,
    "start_time": "2025-01-29T05:04:42.820Z"
   },
   {
    "duration": 34,
    "start_time": "2025-01-29T05:10:43.875Z"
   },
   {
    "duration": 5,
    "start_time": "2025-01-29T05:10:57.220Z"
   },
   {
    "duration": 3,
    "start_time": "2025-01-29T05:11:58.934Z"
   },
   {
    "duration": 3,
    "start_time": "2025-01-29T05:12:05.466Z"
   },
   {
    "duration": 4,
    "start_time": "2025-01-29T05:12:13.191Z"
   },
   {
    "duration": 4,
    "start_time": "2025-01-29T05:12:14.408Z"
   },
   {
    "duration": 4,
    "start_time": "2025-01-29T05:12:15.476Z"
   },
   {
    "duration": 4,
    "start_time": "2025-01-29T05:12:16.873Z"
   },
   {
    "duration": 4,
    "start_time": "2025-01-29T05:12:18.383Z"
   },
   {
    "duration": 126,
    "start_time": "2025-01-29T05:12:57.083Z"
   },
   {
    "duration": 12,
    "start_time": "2025-01-29T05:13:17.099Z"
   },
   {
    "duration": 22,
    "start_time": "2025-01-29T05:14:00.913Z"
   },
   {
    "duration": 10,
    "start_time": "2025-01-29T05:14:14.205Z"
   },
   {
    "duration": 7,
    "start_time": "2025-01-29T05:14:21.658Z"
   },
   {
    "duration": 159,
    "start_time": "2025-01-29T15:57:21.090Z"
   },
   {
    "duration": 2714,
    "start_time": "2025-01-29T15:57:33.974Z"
   },
   {
    "duration": 12,
    "start_time": "2025-01-29T15:57:36.690Z"
   },
   {
    "duration": 3,
    "start_time": "2025-01-29T15:57:36.704Z"
   },
   {
    "duration": 10,
    "start_time": "2025-01-29T15:57:36.709Z"
   },
   {
    "duration": 17,
    "start_time": "2025-01-29T15:57:36.721Z"
   },
   {
    "duration": 3,
    "start_time": "2025-01-29T15:57:36.740Z"
   },
   {
    "duration": 8,
    "start_time": "2025-01-29T15:57:36.744Z"
   },
   {
    "duration": 16,
    "start_time": "2025-01-29T15:57:36.753Z"
   },
   {
    "duration": 5,
    "start_time": "2025-01-29T15:57:36.771Z"
   },
   {
    "duration": 5,
    "start_time": "2025-01-29T15:57:36.780Z"
   },
   {
    "duration": 2775,
    "start_time": "2025-01-29T15:57:36.786Z"
   },
   {
    "duration": 3,
    "start_time": "2025-01-29T15:57:39.566Z"
   },
   {
    "duration": 8,
    "start_time": "2025-01-29T15:57:39.571Z"
   },
   {
    "duration": 3,
    "start_time": "2025-01-29T15:57:39.582Z"
   },
   {
    "duration": 5,
    "start_time": "2025-01-29T15:57:39.587Z"
   },
   {
    "duration": 4,
    "start_time": "2025-01-29T15:57:39.593Z"
   },
   {
    "duration": 5,
    "start_time": "2025-01-29T15:57:39.598Z"
   },
   {
    "duration": 26,
    "start_time": "2025-01-29T15:57:39.605Z"
   },
   {
    "duration": 8,
    "start_time": "2025-01-29T15:57:39.633Z"
   },
   {
    "duration": 12,
    "start_time": "2025-01-29T15:57:39.642Z"
   },
   {
    "duration": 11,
    "start_time": "2025-01-29T15:57:39.655Z"
   },
   {
    "duration": 19,
    "start_time": "2025-01-29T15:57:39.668Z"
   },
   {
    "duration": 43,
    "start_time": "2025-01-29T15:57:39.689Z"
   },
   {
    "duration": 7,
    "start_time": "2025-01-29T15:57:39.734Z"
   },
   {
    "duration": 4,
    "start_time": "2025-01-29T15:57:39.743Z"
   },
   {
    "duration": 8,
    "start_time": "2025-01-29T15:57:39.749Z"
   },
   {
    "duration": 5,
    "start_time": "2025-01-29T15:57:39.759Z"
   },
   {
    "duration": 3,
    "start_time": "2025-01-29T15:57:39.770Z"
   },
   {
    "duration": 4,
    "start_time": "2025-01-29T15:57:39.775Z"
   },
   {
    "duration": 57,
    "start_time": "2025-01-29T15:57:39.781Z"
   },
   {
    "duration": 4,
    "start_time": "2025-01-29T15:57:39.840Z"
   },
   {
    "duration": 3,
    "start_time": "2025-01-29T15:57:39.846Z"
   },
   {
    "duration": 13,
    "start_time": "2025-01-29T15:57:39.851Z"
   },
   {
    "duration": 73,
    "start_time": "2025-01-29T15:57:39.866Z"
   },
   {
    "duration": 5,
    "start_time": "2025-01-29T15:57:39.941Z"
   },
   {
    "duration": 5,
    "start_time": "2025-01-29T15:57:39.947Z"
   },
   {
    "duration": 79,
    "start_time": "2025-01-29T15:57:39.954Z"
   },
   {
    "duration": 7,
    "start_time": "2025-01-29T15:57:40.035Z"
   },
   {
    "duration": 4,
    "start_time": "2025-01-29T15:57:40.044Z"
   },
   {
    "duration": 5,
    "start_time": "2025-01-29T15:57:40.050Z"
   },
   {
    "duration": 7,
    "start_time": "2025-01-29T15:57:40.132Z"
   },
   {
    "duration": 7,
    "start_time": "2025-01-29T15:57:40.142Z"
   },
   {
    "duration": 79,
    "start_time": "2025-01-29T15:57:40.153Z"
   },
   {
    "duration": 7,
    "start_time": "2025-01-29T15:57:40.234Z"
   },
   {
    "duration": 7,
    "start_time": "2025-01-29T16:11:35.652Z"
   },
   {
    "duration": 232,
    "start_time": "2025-01-29T16:11:42.386Z"
   },
   {
    "duration": 7,
    "start_time": "2025-01-29T16:46:21.704Z"
   },
   {
    "duration": 3350,
    "start_time": "2025-01-29T17:07:50.221Z"
   },
   {
    "duration": 20,
    "start_time": "2025-01-29T17:08:07.045Z"
   },
   {
    "duration": 17,
    "start_time": "2025-01-29T17:14:30.243Z"
   },
   {
    "duration": 969,
    "start_time": "2025-01-29T17:14:52.246Z"
   },
   {
    "duration": 12,
    "start_time": "2025-01-29T17:14:53.217Z"
   },
   {
    "duration": 4,
    "start_time": "2025-01-29T17:14:53.230Z"
   },
   {
    "duration": 9,
    "start_time": "2025-01-29T17:14:53.236Z"
   },
   {
    "duration": 8,
    "start_time": "2025-01-29T17:14:53.247Z"
   },
   {
    "duration": 3,
    "start_time": "2025-01-29T17:14:53.257Z"
   },
   {
    "duration": 8,
    "start_time": "2025-01-29T17:14:53.261Z"
   },
   {
    "duration": 48,
    "start_time": "2025-01-29T17:14:53.271Z"
   },
   {
    "duration": 5,
    "start_time": "2025-01-29T17:14:53.321Z"
   },
   {
    "duration": 6,
    "start_time": "2025-01-29T17:14:53.330Z"
   },
   {
    "duration": 2536,
    "start_time": "2025-01-29T17:14:53.337Z"
   },
   {
    "duration": 3,
    "start_time": "2025-01-29T17:14:55.875Z"
   },
   {
    "duration": 8,
    "start_time": "2025-01-29T17:14:55.879Z"
   },
   {
    "duration": 3,
    "start_time": "2025-01-29T17:14:55.889Z"
   },
   {
    "duration": 4,
    "start_time": "2025-01-29T17:14:55.894Z"
   },
   {
    "duration": 10,
    "start_time": "2025-01-29T17:14:55.899Z"
   },
   {
    "duration": 4,
    "start_time": "2025-01-29T17:14:55.910Z"
   },
   {
    "duration": 9,
    "start_time": "2025-01-29T17:14:55.916Z"
   },
   {
    "duration": 8,
    "start_time": "2025-01-29T17:14:55.926Z"
   },
   {
    "duration": 11,
    "start_time": "2025-01-29T17:14:55.935Z"
   },
   {
    "duration": 11,
    "start_time": "2025-01-29T17:14:55.948Z"
   },
   {
    "duration": 54,
    "start_time": "2025-01-29T17:14:55.960Z"
   },
   {
    "duration": 21,
    "start_time": "2025-01-29T17:14:56.016Z"
   },
   {
    "duration": 5,
    "start_time": "2025-01-29T17:14:56.038Z"
   },
   {
    "duration": 3,
    "start_time": "2025-01-29T17:14:56.045Z"
   },
   {
    "duration": 5,
    "start_time": "2025-01-29T17:14:56.050Z"
   },
   {
    "duration": 5,
    "start_time": "2025-01-29T17:14:56.056Z"
   },
   {
    "duration": 3,
    "start_time": "2025-01-29T17:14:56.064Z"
   },
   {
    "duration": 3,
    "start_time": "2025-01-29T17:14:56.069Z"
   },
   {
    "duration": 56,
    "start_time": "2025-01-29T17:14:56.073Z"
   },
   {
    "duration": 237,
    "start_time": "2025-01-29T17:14:56.131Z"
   },
   {
    "duration": 0,
    "start_time": "2025-01-29T17:14:56.370Z"
   },
   {
    "duration": 0,
    "start_time": "2025-01-29T17:14:56.372Z"
   },
   {
    "duration": 0,
    "start_time": "2025-01-29T17:14:56.373Z"
   },
   {
    "duration": 0,
    "start_time": "2025-01-29T17:14:56.374Z"
   },
   {
    "duration": 0,
    "start_time": "2025-01-29T17:14:56.375Z"
   },
   {
    "duration": 0,
    "start_time": "2025-01-29T17:14:56.376Z"
   },
   {
    "duration": 0,
    "start_time": "2025-01-29T17:14:56.377Z"
   },
   {
    "duration": 0,
    "start_time": "2025-01-29T17:14:56.378Z"
   },
   {
    "duration": 0,
    "start_time": "2025-01-29T17:14:56.379Z"
   },
   {
    "duration": 0,
    "start_time": "2025-01-29T17:14:56.380Z"
   },
   {
    "duration": 0,
    "start_time": "2025-01-29T17:14:56.381Z"
   },
   {
    "duration": 0,
    "start_time": "2025-01-29T17:14:56.382Z"
   },
   {
    "duration": 0,
    "start_time": "2025-01-29T17:14:56.383Z"
   },
   {
    "duration": 0,
    "start_time": "2025-01-29T17:14:56.408Z"
   },
   {
    "duration": 6,
    "start_time": "2025-01-29T17:18:14.661Z"
   },
   {
    "duration": 7,
    "start_time": "2025-01-29T17:19:21.570Z"
   },
   {
    "duration": 8,
    "start_time": "2025-01-29T17:20:09.007Z"
   },
   {
    "duration": 18,
    "start_time": "2025-01-29T17:24:13.305Z"
   },
   {
    "duration": 204,
    "start_time": "2025-01-29T17:26:50.637Z"
   },
   {
    "duration": 29,
    "start_time": "2025-01-29T17:27:03.229Z"
   },
   {
    "duration": 232,
    "start_time": "2025-01-29T17:28:29.626Z"
   },
   {
    "duration": 70,
    "start_time": "2025-01-29T17:28:54.853Z"
   },
   {
    "duration": 107,
    "start_time": "2025-01-29T17:30:10.403Z"
   },
   {
    "duration": 70,
    "start_time": "2025-01-29T17:30:25.190Z"
   },
   {
    "duration": 74,
    "start_time": "2025-01-29T17:33:07.210Z"
   },
   {
    "duration": 6,
    "start_time": "2025-01-29T17:35:58.592Z"
   },
   {
    "duration": 8,
    "start_time": "2025-01-29T17:36:09.076Z"
   },
   {
    "duration": 8,
    "start_time": "2025-01-29T17:37:48.173Z"
   },
   {
    "duration": 9,
    "start_time": "2025-01-29T17:39:38.201Z"
   },
   {
    "duration": 8,
    "start_time": "2025-01-29T17:39:57.782Z"
   },
   {
    "duration": 168,
    "start_time": "2025-01-29T19:37:39.745Z"
   },
   {
    "duration": 2715,
    "start_time": "2025-01-29T19:37:49.459Z"
   },
   {
    "duration": 85,
    "start_time": "2025-01-29T19:37:54.093Z"
   },
   {
    "duration": 13,
    "start_time": "2025-01-29T19:38:01.956Z"
   },
   {
    "duration": 14,
    "start_time": "2025-01-29T19:38:15.917Z"
   },
   {
    "duration": 2,
    "start_time": "2025-01-29T19:38:19.481Z"
   },
   {
    "duration": 321,
    "start_time": "2025-01-29T19:38:20.683Z"
   },
   {
    "duration": 1026,
    "start_time": "2025-01-29T19:38:28.813Z"
   },
   {
    "duration": 7,
    "start_time": "2025-01-29T19:38:29.841Z"
   },
   {
    "duration": 4,
    "start_time": "2025-01-29T19:38:29.849Z"
   },
   {
    "duration": 10,
    "start_time": "2025-01-29T19:38:29.855Z"
   },
   {
    "duration": 9,
    "start_time": "2025-01-29T19:38:29.868Z"
   },
   {
    "duration": 3,
    "start_time": "2025-01-29T19:38:29.878Z"
   },
   {
    "duration": 30,
    "start_time": "2025-01-29T19:38:29.883Z"
   },
   {
    "duration": 16,
    "start_time": "2025-01-29T19:38:29.914Z"
   },
   {
    "duration": 4,
    "start_time": "2025-01-29T19:38:29.932Z"
   },
   {
    "duration": 5,
    "start_time": "2025-01-29T19:38:29.938Z"
   },
   {
    "duration": 2590,
    "start_time": "2025-01-29T19:38:29.944Z"
   },
   {
    "duration": 2,
    "start_time": "2025-01-29T19:38:32.536Z"
   },
   {
    "duration": 12,
    "start_time": "2025-01-29T19:38:32.540Z"
   },
   {
    "duration": 5,
    "start_time": "2025-01-29T19:38:32.556Z"
   },
   {
    "duration": 4,
    "start_time": "2025-01-29T19:38:32.562Z"
   },
   {
    "duration": 4,
    "start_time": "2025-01-29T19:38:32.568Z"
   },
   {
    "duration": 4,
    "start_time": "2025-01-29T19:38:32.573Z"
   },
   {
    "duration": 30,
    "start_time": "2025-01-29T19:38:32.579Z"
   },
   {
    "duration": 10,
    "start_time": "2025-01-29T19:38:32.610Z"
   },
   {
    "duration": 7,
    "start_time": "2025-01-29T19:38:32.622Z"
   },
   {
    "duration": 7,
    "start_time": "2025-01-29T19:38:32.630Z"
   },
   {
    "duration": 19,
    "start_time": "2025-01-29T19:38:32.639Z"
   },
   {
    "duration": 19,
    "start_time": "2025-01-29T19:38:32.660Z"
   },
   {
    "duration": 3491,
    "start_time": "2025-01-29T19:38:32.681Z"
   },
   {
    "duration": 6,
    "start_time": "2025-01-29T19:38:36.174Z"
   },
   {
    "duration": 4,
    "start_time": "2025-01-29T19:38:36.181Z"
   },
   {
    "duration": 22,
    "start_time": "2025-01-29T19:38:36.187Z"
   },
   {
    "duration": 5,
    "start_time": "2025-01-29T19:38:36.211Z"
   },
   {
    "duration": 3,
    "start_time": "2025-01-29T19:38:36.218Z"
   },
   {
    "duration": 3,
    "start_time": "2025-01-29T19:38:36.223Z"
   },
   {
    "duration": 21,
    "start_time": "2025-01-29T19:38:36.227Z"
   },
   {
    "duration": 4,
    "start_time": "2025-01-29T19:38:36.249Z"
   },
   {
    "duration": 3,
    "start_time": "2025-01-29T19:38:36.255Z"
   },
   {
    "duration": 50,
    "start_time": "2025-01-29T19:38:36.260Z"
   },
   {
    "duration": 8,
    "start_time": "2025-01-29T19:38:36.311Z"
   },
   {
    "duration": 89,
    "start_time": "2025-01-29T19:38:36.322Z"
   },
   {
    "duration": 8,
    "start_time": "2025-01-29T19:38:36.413Z"
   },
   {
    "duration": 5,
    "start_time": "2025-01-29T19:38:36.422Z"
   },
   {
    "duration": 4,
    "start_time": "2025-01-29T19:38:36.428Z"
   },
   {
    "duration": 4,
    "start_time": "2025-01-29T19:38:36.434Z"
   },
   {
    "duration": 5,
    "start_time": "2025-01-29T19:38:36.512Z"
   },
   {
    "duration": 4,
    "start_time": "2025-01-29T19:38:36.518Z"
   },
   {
    "duration": 86,
    "start_time": "2025-01-29T19:38:36.524Z"
   },
   {
    "duration": 5,
    "start_time": "2025-01-29T19:38:36.612Z"
   },
   {
    "duration": 8,
    "start_time": "2025-01-29T19:38:36.619Z"
   },
   {
    "duration": 7265,
    "start_time": "2025-01-29T19:39:26.598Z"
   },
   {
    "duration": 8,
    "start_time": "2025-01-29T19:40:04.513Z"
   },
   {
    "duration": 161,
    "start_time": "2025-01-29T19:40:14.739Z"
   },
   {
    "duration": 7326,
    "start_time": "2025-01-29T19:40:32.732Z"
   },
   {
    "duration": 4,
    "start_time": "2025-01-29T19:43:36.267Z"
   },
   {
    "duration": 108,
    "start_time": "2025-01-29T19:43:42.546Z"
   },
   {
    "duration": 4,
    "start_time": "2025-01-29T19:44:11.664Z"
   },
   {
    "duration": 637,
    "start_time": "2025-01-29T19:44:17.275Z"
   },
   {
    "duration": 318,
    "start_time": "2025-01-29T19:44:40.331Z"
   },
   {
    "duration": 482,
    "start_time": "2025-01-29T19:45:16.678Z"
   },
   {
    "duration": 379,
    "start_time": "2025-01-29T19:45:52.377Z"
   },
   {
    "duration": 13,
    "start_time": "2025-01-29T20:13:05.277Z"
   },
   {
    "duration": 15,
    "start_time": "2025-01-29T20:13:14.447Z"
   },
   {
    "duration": 6,
    "start_time": "2025-01-29T20:48:14.243Z"
   },
   {
    "duration": 9,
    "start_time": "2025-01-29T20:48:21.412Z"
   },
   {
    "duration": 11,
    "start_time": "2025-01-29T20:50:40.857Z"
   },
   {
    "duration": 548,
    "start_time": "2025-01-29T20:51:06.426Z"
   },
   {
    "duration": 9,
    "start_time": "2025-01-29T20:51:31.024Z"
   },
   {
    "duration": 8,
    "start_time": "2025-01-29T20:52:44.880Z"
   },
   {
    "duration": 7,
    "start_time": "2025-01-29T20:52:47.942Z"
   },
   {
    "duration": 10,
    "start_time": "2025-01-29T20:57:25.646Z"
   },
   {
    "duration": 7,
    "start_time": "2025-01-29T20:59:45.396Z"
   },
   {
    "duration": 8,
    "start_time": "2025-01-29T21:00:21.891Z"
   },
   {
    "duration": 9,
    "start_time": "2025-01-29T21:00:30.809Z"
   },
   {
    "duration": 8,
    "start_time": "2025-01-29T21:00:48.806Z"
   },
   {
    "duration": 12,
    "start_time": "2025-01-29T21:01:57.143Z"
   },
   {
    "duration": 46,
    "start_time": "2025-01-29T21:02:08.181Z"
   },
   {
    "duration": 6,
    "start_time": "2025-01-29T21:02:22.463Z"
   },
   {
    "duration": 13,
    "start_time": "2025-01-29T21:04:30.527Z"
   },
   {
    "duration": 12,
    "start_time": "2025-01-29T21:04:43.444Z"
   },
   {
    "duration": 8,
    "start_time": "2025-01-29T21:05:03.896Z"
   },
   {
    "duration": 2876,
    "start_time": "2025-01-30T04:40:20.703Z"
   },
   {
    "duration": 174,
    "start_time": "2025-01-30T15:47:13.818Z"
   },
   {
    "duration": 2694,
    "start_time": "2025-01-30T15:47:23.210Z"
   },
   {
    "duration": 13,
    "start_time": "2025-01-30T15:47:25.906Z"
   },
   {
    "duration": 3,
    "start_time": "2025-01-30T15:47:25.924Z"
   },
   {
    "duration": 11,
    "start_time": "2025-01-30T15:47:25.928Z"
   },
   {
    "duration": 8,
    "start_time": "2025-01-30T15:47:25.941Z"
   },
   {
    "duration": 3,
    "start_time": "2025-01-30T15:47:25.951Z"
   },
   {
    "duration": 9,
    "start_time": "2025-01-30T15:47:25.956Z"
   },
   {
    "duration": 16,
    "start_time": "2025-01-30T15:47:25.966Z"
   },
   {
    "duration": 39,
    "start_time": "2025-01-30T15:47:25.986Z"
   },
   {
    "duration": 6,
    "start_time": "2025-01-30T15:47:26.026Z"
   },
   {
    "duration": 2650,
    "start_time": "2025-01-30T15:47:26.034Z"
   },
   {
    "duration": 3,
    "start_time": "2025-01-30T15:47:28.686Z"
   },
   {
    "duration": 8,
    "start_time": "2025-01-30T15:47:28.690Z"
   },
   {
    "duration": 4,
    "start_time": "2025-01-30T15:47:28.699Z"
   },
   {
    "duration": 5,
    "start_time": "2025-01-30T15:47:28.704Z"
   },
   {
    "duration": 14,
    "start_time": "2025-01-30T15:47:28.710Z"
   },
   {
    "duration": 4,
    "start_time": "2025-01-30T15:47:28.725Z"
   },
   {
    "duration": 9,
    "start_time": "2025-01-30T15:47:28.731Z"
   },
   {
    "duration": 7,
    "start_time": "2025-01-30T15:47:28.742Z"
   },
   {
    "duration": 11,
    "start_time": "2025-01-30T15:47:28.751Z"
   },
   {
    "duration": 12,
    "start_time": "2025-01-30T15:47:28.764Z"
   },
   {
    "duration": 48,
    "start_time": "2025-01-30T15:47:28.777Z"
   },
   {
    "duration": 24,
    "start_time": "2025-01-30T15:47:28.827Z"
   },
   {
    "duration": 6,
    "start_time": "2025-01-30T15:47:28.852Z"
   },
   {
    "duration": 5,
    "start_time": "2025-01-30T15:47:28.861Z"
   },
   {
    "duration": 5,
    "start_time": "2025-01-30T15:47:28.868Z"
   },
   {
    "duration": 5,
    "start_time": "2025-01-30T15:47:28.878Z"
   },
   {
    "duration": 3,
    "start_time": "2025-01-30T15:47:28.884Z"
   },
   {
    "duration": 2,
    "start_time": "2025-01-30T15:47:28.890Z"
   },
   {
    "duration": 9,
    "start_time": "2025-01-30T15:47:28.924Z"
   },
   {
    "duration": 3,
    "start_time": "2025-01-30T15:47:28.935Z"
   },
   {
    "duration": 3,
    "start_time": "2025-01-30T15:47:28.940Z"
   },
   {
    "duration": 11,
    "start_time": "2025-01-30T15:47:28.945Z"
   },
   {
    "duration": 74,
    "start_time": "2025-01-30T15:47:28.958Z"
   },
   {
    "duration": 13,
    "start_time": "2025-01-30T15:47:29.034Z"
   },
   {
    "duration": 4,
    "start_time": "2025-01-30T15:47:29.050Z"
   },
   {
    "duration": 9,
    "start_time": "2025-01-30T15:47:29.125Z"
   },
   {
    "duration": 5,
    "start_time": "2025-01-30T15:47:29.136Z"
   },
   {
    "duration": 5,
    "start_time": "2025-01-30T15:47:29.144Z"
   },
   {
    "duration": 72,
    "start_time": "2025-01-30T15:47:29.155Z"
   },
   {
    "duration": 10,
    "start_time": "2025-01-30T15:47:29.229Z"
   },
   {
    "duration": 4,
    "start_time": "2025-01-30T15:47:29.241Z"
   },
   {
    "duration": 5,
    "start_time": "2025-01-30T15:47:29.247Z"
   },
   {
    "duration": 9,
    "start_time": "2025-01-30T15:47:29.328Z"
   },
   {
    "duration": 309,
    "start_time": "2025-01-30T16:23:13.178Z"
   },
   {
    "duration": 3,
    "start_time": "2025-01-30T16:23:39.367Z"
   },
   {
    "duration": 990,
    "start_time": "2025-01-30T16:23:48.389Z"
   },
   {
    "duration": 7,
    "start_time": "2025-01-30T16:23:49.381Z"
   },
   {
    "duration": 3,
    "start_time": "2025-01-30T16:23:49.392Z"
   },
   {
    "duration": 11,
    "start_time": "2025-01-30T16:23:49.397Z"
   },
   {
    "duration": 21,
    "start_time": "2025-01-30T16:23:49.409Z"
   },
   {
    "duration": 4,
    "start_time": "2025-01-30T16:23:49.431Z"
   },
   {
    "duration": 8,
    "start_time": "2025-01-30T16:23:49.436Z"
   },
   {
    "duration": 16,
    "start_time": "2025-01-30T16:23:49.446Z"
   },
   {
    "duration": 4,
    "start_time": "2025-01-30T16:23:49.465Z"
   },
   {
    "duration": 4,
    "start_time": "2025-01-30T16:23:49.471Z"
   },
   {
    "duration": 2591,
    "start_time": "2025-01-30T16:23:49.477Z"
   },
   {
    "duration": 2,
    "start_time": "2025-01-30T16:23:52.071Z"
   },
   {
    "duration": 8,
    "start_time": "2025-01-30T16:23:52.075Z"
   },
   {
    "duration": 5,
    "start_time": "2025-01-30T16:23:52.085Z"
   },
   {
    "duration": 3,
    "start_time": "2025-01-30T16:23:52.091Z"
   },
   {
    "duration": 4,
    "start_time": "2025-01-30T16:23:52.096Z"
   },
   {
    "duration": 4,
    "start_time": "2025-01-30T16:23:52.102Z"
   },
   {
    "duration": 9,
    "start_time": "2025-01-30T16:23:52.123Z"
   },
   {
    "duration": 7,
    "start_time": "2025-01-30T16:23:52.133Z"
   },
   {
    "duration": 11,
    "start_time": "2025-01-30T16:23:52.142Z"
   },
   {
    "duration": 10,
    "start_time": "2025-01-30T16:23:52.155Z"
   },
   {
    "duration": 19,
    "start_time": "2025-01-30T16:23:52.167Z"
   },
   {
    "duration": 60,
    "start_time": "2025-01-30T16:23:52.187Z"
   },
   {
    "duration": 6,
    "start_time": "2025-01-30T16:23:52.249Z"
   },
   {
    "duration": 4,
    "start_time": "2025-01-30T16:23:52.259Z"
   },
   {
    "duration": 13,
    "start_time": "2025-01-30T16:23:52.266Z"
   },
   {
    "duration": 5,
    "start_time": "2025-01-30T16:23:52.283Z"
   },
   {
    "duration": 3,
    "start_time": "2025-01-30T16:23:52.290Z"
   },
   {
    "duration": 2,
    "start_time": "2025-01-30T16:23:52.295Z"
   },
   {
    "duration": 30,
    "start_time": "2025-01-30T16:23:52.299Z"
   },
   {
    "duration": 238,
    "start_time": "2025-01-30T16:23:52.330Z"
   },
   {
    "duration": 0,
    "start_time": "2025-01-30T16:23:52.569Z"
   },
   {
    "duration": 0,
    "start_time": "2025-01-30T16:23:52.570Z"
   },
   {
    "duration": 0,
    "start_time": "2025-01-30T16:23:52.572Z"
   },
   {
    "duration": 0,
    "start_time": "2025-01-30T16:23:52.573Z"
   },
   {
    "duration": 0,
    "start_time": "2025-01-30T16:23:52.574Z"
   },
   {
    "duration": 0,
    "start_time": "2025-01-30T16:23:52.576Z"
   },
   {
    "duration": 0,
    "start_time": "2025-01-30T16:23:52.578Z"
   },
   {
    "duration": 0,
    "start_time": "2025-01-30T16:23:52.579Z"
   },
   {
    "duration": 0,
    "start_time": "2025-01-30T16:23:52.581Z"
   },
   {
    "duration": 0,
    "start_time": "2025-01-30T16:23:52.582Z"
   },
   {
    "duration": 0,
    "start_time": "2025-01-30T16:23:52.583Z"
   },
   {
    "duration": 0,
    "start_time": "2025-01-30T16:23:52.584Z"
   },
   {
    "duration": 0,
    "start_time": "2025-01-30T16:23:52.586Z"
   },
   {
    "duration": 0,
    "start_time": "2025-01-30T16:23:52.587Z"
   },
   {
    "duration": 0,
    "start_time": "2025-01-30T16:23:52.588Z"
   },
   {
    "duration": 74,
    "start_time": "2025-01-30T16:25:01.168Z"
   },
   {
    "duration": 50,
    "start_time": "2025-01-30T16:25:34.710Z"
   },
   {
    "duration": 4,
    "start_time": "2025-01-30T16:25:47.415Z"
   },
   {
    "duration": 8,
    "start_time": "2025-01-30T16:25:47.421Z"
   },
   {
    "duration": 3,
    "start_time": "2025-01-30T16:25:47.431Z"
   },
   {
    "duration": 10,
    "start_time": "2025-01-30T16:25:47.436Z"
   },
   {
    "duration": 7,
    "start_time": "2025-01-30T16:25:47.448Z"
   },
   {
    "duration": 4,
    "start_time": "2025-01-30T16:25:47.457Z"
   },
   {
    "duration": 9,
    "start_time": "2025-01-30T16:25:47.462Z"
   },
   {
    "duration": 54,
    "start_time": "2025-01-30T16:25:47.473Z"
   },
   {
    "duration": 8,
    "start_time": "2025-01-30T16:25:47.531Z"
   },
   {
    "duration": 5,
    "start_time": "2025-01-30T16:25:47.541Z"
   },
   {
    "duration": 2686,
    "start_time": "2025-01-30T16:25:47.548Z"
   },
   {
    "duration": 4,
    "start_time": "2025-01-30T16:25:50.236Z"
   },
   {
    "duration": 9,
    "start_time": "2025-01-30T16:25:50.242Z"
   },
   {
    "duration": 4,
    "start_time": "2025-01-30T16:25:50.253Z"
   },
   {
    "duration": 4,
    "start_time": "2025-01-30T16:25:50.259Z"
   },
   {
    "duration": 4,
    "start_time": "2025-01-30T16:25:50.265Z"
   },
   {
    "duration": 4,
    "start_time": "2025-01-30T16:25:50.271Z"
   },
   {
    "duration": 47,
    "start_time": "2025-01-30T16:25:50.277Z"
   },
   {
    "duration": 9,
    "start_time": "2025-01-30T16:25:50.326Z"
   },
   {
    "duration": 12,
    "start_time": "2025-01-30T16:25:50.337Z"
   },
   {
    "duration": 14,
    "start_time": "2025-01-30T16:25:50.351Z"
   },
   {
    "duration": 21,
    "start_time": "2025-01-30T16:25:50.366Z"
   },
   {
    "duration": 46,
    "start_time": "2025-01-30T16:25:50.388Z"
   },
   {
    "duration": 5,
    "start_time": "2025-01-30T16:25:50.438Z"
   },
   {
    "duration": 3,
    "start_time": "2025-01-30T16:25:50.445Z"
   },
   {
    "duration": 6,
    "start_time": "2025-01-30T16:25:50.450Z"
   },
   {
    "duration": 5,
    "start_time": "2025-01-30T16:25:50.458Z"
   },
   {
    "duration": 4,
    "start_time": "2025-01-30T16:25:50.465Z"
   },
   {
    "duration": 3,
    "start_time": "2025-01-30T16:25:50.471Z"
   },
   {
    "duration": 55,
    "start_time": "2025-01-30T16:25:50.475Z"
   },
   {
    "duration": 45,
    "start_time": "2025-01-30T16:25:50.532Z"
   },
   {
    "duration": 46,
    "start_time": "2025-01-30T16:26:30.372Z"
   },
   {
    "duration": 561,
    "start_time": "2025-01-30T16:26:53.884Z"
   },
   {
    "duration": 139,
    "start_time": "2025-01-30T16:26:56.667Z"
   },
   {
    "duration": 165,
    "start_time": "2025-01-30T17:26:11.245Z"
   },
   {
    "duration": 2747,
    "start_time": "2025-01-30T17:26:32.814Z"
   },
   {
    "duration": 101,
    "start_time": "2025-01-30T17:26:40.810Z"
   },
   {
    "duration": 1016,
    "start_time": "2025-01-30T17:26:49.316Z"
   },
   {
    "duration": 14,
    "start_time": "2025-01-30T17:26:50.335Z"
   },
   {
    "duration": 3,
    "start_time": "2025-01-30T17:26:50.350Z"
   },
   {
    "duration": 10,
    "start_time": "2025-01-30T17:26:50.355Z"
   },
   {
    "duration": 8,
    "start_time": "2025-01-30T17:26:50.367Z"
   },
   {
    "duration": 3,
    "start_time": "2025-01-30T17:26:50.377Z"
   },
   {
    "duration": 8,
    "start_time": "2025-01-30T17:26:50.381Z"
   },
   {
    "duration": 16,
    "start_time": "2025-01-30T17:26:50.409Z"
   },
   {
    "duration": 5,
    "start_time": "2025-01-30T17:26:50.426Z"
   },
   {
    "duration": 5,
    "start_time": "2025-01-30T17:26:50.434Z"
   },
   {
    "duration": 2652,
    "start_time": "2025-01-30T17:26:50.441Z"
   },
   {
    "duration": 3,
    "start_time": "2025-01-30T17:26:53.095Z"
   },
   {
    "duration": 9,
    "start_time": "2025-01-30T17:26:53.099Z"
   },
   {
    "duration": 4,
    "start_time": "2025-01-30T17:26:53.109Z"
   },
   {
    "duration": 4,
    "start_time": "2025-01-30T17:26:53.114Z"
   },
   {
    "duration": 4,
    "start_time": "2025-01-30T17:26:53.120Z"
   },
   {
    "duration": 5,
    "start_time": "2025-01-30T17:26:53.125Z"
   },
   {
    "duration": 8,
    "start_time": "2025-01-30T17:26:53.131Z"
   },
   {
    "duration": 8,
    "start_time": "2025-01-30T17:26:53.140Z"
   },
   {
    "duration": 11,
    "start_time": "2025-01-30T17:26:53.150Z"
   },
   {
    "duration": 50,
    "start_time": "2025-01-30T17:26:53.162Z"
   },
   {
    "duration": 20,
    "start_time": "2025-01-30T17:26:53.214Z"
   },
   {
    "duration": 19,
    "start_time": "2025-01-30T17:26:53.236Z"
   },
   {
    "duration": 5,
    "start_time": "2025-01-30T17:26:53.256Z"
   },
   {
    "duration": 3,
    "start_time": "2025-01-30T17:26:53.263Z"
   },
   {
    "duration": 5,
    "start_time": "2025-01-30T17:26:53.268Z"
   },
   {
    "duration": 6,
    "start_time": "2025-01-30T17:26:53.308Z"
   },
   {
    "duration": 3,
    "start_time": "2025-01-30T17:26:53.319Z"
   },
   {
    "duration": 3,
    "start_time": "2025-01-30T17:26:53.323Z"
   },
   {
    "duration": 9,
    "start_time": "2025-01-30T17:26:53.329Z"
   },
   {
    "duration": 653,
    "start_time": "2025-01-30T17:26:53.339Z"
   },
   {
    "duration": 154,
    "start_time": "2025-01-30T17:26:53.994Z"
   },
   {
    "duration": 5,
    "start_time": "2025-01-30T17:26:54.150Z"
   },
   {
    "duration": 3,
    "start_time": "2025-01-30T17:26:54.156Z"
   },
   {
    "duration": 8,
    "start_time": "2025-01-30T17:26:54.161Z"
   },
   {
    "duration": 45,
    "start_time": "2025-01-30T17:26:54.170Z"
   },
   {
    "duration": 14,
    "start_time": "2025-01-30T17:26:54.218Z"
   },
   {
    "duration": 80,
    "start_time": "2025-01-30T17:26:54.234Z"
   },
   {
    "duration": 4,
    "start_time": "2025-01-30T17:26:54.316Z"
   },
   {
    "duration": 6,
    "start_time": "2025-01-30T17:26:54.322Z"
   },
   {
    "duration": 4,
    "start_time": "2025-01-30T17:26:54.332Z"
   },
   {
    "duration": 7,
    "start_time": "2025-01-30T17:26:54.408Z"
   },
   {
    "duration": 7,
    "start_time": "2025-01-30T17:26:54.418Z"
   },
   {
    "duration": 6,
    "start_time": "2025-01-30T17:26:54.426Z"
   },
   {
    "duration": 7,
    "start_time": "2025-01-30T17:26:54.509Z"
   },
   {
    "duration": 8,
    "start_time": "2025-01-30T17:26:54.518Z"
   },
   {
    "duration": 639,
    "start_time": "2025-01-30T17:28:48.646Z"
   },
   {
    "duration": 605,
    "start_time": "2025-01-30T17:30:51.274Z"
   },
   {
    "duration": 620,
    "start_time": "2025-01-30T17:31:09.232Z"
   },
   {
    "duration": 607,
    "start_time": "2025-01-30T17:31:23.810Z"
   },
   {
    "duration": 236,
    "start_time": "2025-01-30T17:36:40.811Z"
   },
   {
    "duration": 5,
    "start_time": "2025-01-30T17:37:07.493Z"
   },
   {
    "duration": 4,
    "start_time": "2025-01-30T17:37:24.126Z"
   },
   {
    "duration": 26,
    "start_time": "2025-01-30T17:37:38.094Z"
   },
   {
    "duration": 59,
    "start_time": "2025-01-30T17:38:28.452Z"
   },
   {
    "duration": 24,
    "start_time": "2025-01-30T17:39:14.397Z"
   },
   {
    "duration": 62,
    "start_time": "2025-01-30T17:39:34.752Z"
   },
   {
    "duration": 8,
    "start_time": "2025-01-30T17:40:00.623Z"
   },
   {
    "duration": 3,
    "start_time": "2025-01-30T17:43:34.492Z"
   },
   {
    "duration": 3,
    "start_time": "2025-01-30T17:43:39.220Z"
   },
   {
    "duration": 64,
    "start_time": "2025-01-30T17:43:41.454Z"
   },
   {
    "duration": 3,
    "start_time": "2025-01-30T17:44:22.680Z"
   },
   {
    "duration": 70,
    "start_time": "2025-01-30T17:44:24.046Z"
   },
   {
    "duration": 3,
    "start_time": "2025-01-30T17:44:56.607Z"
   },
   {
    "duration": 70,
    "start_time": "2025-01-30T17:44:58.140Z"
   },
   {
    "duration": 3,
    "start_time": "2025-01-30T17:45:37.853Z"
   },
   {
    "duration": 3,
    "start_time": "2025-01-30T17:45:56.875Z"
   },
   {
    "duration": 33,
    "start_time": "2025-01-30T17:45:58.592Z"
   },
   {
    "duration": 3,
    "start_time": "2025-01-30T17:47:11.582Z"
   },
   {
    "duration": 10,
    "start_time": "2025-01-30T17:47:13.373Z"
   },
   {
    "duration": 9,
    "start_time": "2025-01-30T17:47:19.935Z"
   },
   {
    "duration": 1005,
    "start_time": "2025-01-30T17:48:51.656Z"
   },
   {
    "duration": 7,
    "start_time": "2025-01-30T17:48:52.664Z"
   },
   {
    "duration": 3,
    "start_time": "2025-01-30T17:48:52.673Z"
   },
   {
    "duration": 10,
    "start_time": "2025-01-30T17:48:52.679Z"
   },
   {
    "duration": 9,
    "start_time": "2025-01-30T17:48:52.709Z"
   },
   {
    "duration": 3,
    "start_time": "2025-01-30T17:48:52.720Z"
   },
   {
    "duration": 8,
    "start_time": "2025-01-30T17:48:52.725Z"
   },
   {
    "duration": 16,
    "start_time": "2025-01-30T17:48:52.734Z"
   },
   {
    "duration": 5,
    "start_time": "2025-01-30T17:48:52.751Z"
   },
   {
    "duration": 5,
    "start_time": "2025-01-30T17:48:52.760Z"
   },
   {
    "duration": 2646,
    "start_time": "2025-01-30T17:48:52.767Z"
   },
   {
    "duration": 3,
    "start_time": "2025-01-30T17:48:55.415Z"
   },
   {
    "duration": 8,
    "start_time": "2025-01-30T17:48:55.419Z"
   },
   {
    "duration": 4,
    "start_time": "2025-01-30T17:48:55.429Z"
   },
   {
    "duration": 5,
    "start_time": "2025-01-30T17:48:55.435Z"
   },
   {
    "duration": 4,
    "start_time": "2025-01-30T17:48:55.441Z"
   },
   {
    "duration": 5,
    "start_time": "2025-01-30T17:48:55.446Z"
   },
   {
    "duration": 9,
    "start_time": "2025-01-30T17:48:55.452Z"
   },
   {
    "duration": 45,
    "start_time": "2025-01-30T17:48:55.463Z"
   },
   {
    "duration": 14,
    "start_time": "2025-01-30T17:48:55.510Z"
   },
   {
    "duration": 12,
    "start_time": "2025-01-30T17:48:55.525Z"
   },
   {
    "duration": 21,
    "start_time": "2025-01-30T17:48:55.538Z"
   },
   {
    "duration": 21,
    "start_time": "2025-01-30T17:48:55.560Z"
   },
   {
    "duration": 32,
    "start_time": "2025-01-30T17:48:55.583Z"
   },
   {
    "duration": 4,
    "start_time": "2025-01-30T17:48:55.616Z"
   },
   {
    "duration": 5,
    "start_time": "2025-01-30T17:48:55.621Z"
   },
   {
    "duration": 5,
    "start_time": "2025-01-30T17:48:55.628Z"
   },
   {
    "duration": 3,
    "start_time": "2025-01-30T17:48:55.637Z"
   },
   {
    "duration": 4,
    "start_time": "2025-01-30T17:48:55.641Z"
   },
   {
    "duration": 8,
    "start_time": "2025-01-30T17:48:55.647Z"
   },
   {
    "duration": 644,
    "start_time": "2025-01-30T17:48:55.657Z"
   },
   {
    "duration": 147,
    "start_time": "2025-01-30T17:48:56.303Z"
   },
   {
    "duration": 5,
    "start_time": "2025-01-30T17:48:56.452Z"
   },
   {
    "duration": 3,
    "start_time": "2025-01-30T17:48:56.459Z"
   },
   {
    "duration": 45,
    "start_time": "2025-01-30T17:48:56.464Z"
   },
   {
    "duration": 13,
    "start_time": "2025-01-30T17:48:56.513Z"
   },
   {
    "duration": 83,
    "start_time": "2025-01-30T17:48:56.527Z"
   },
   {
    "duration": 5,
    "start_time": "2025-01-30T17:48:56.613Z"
   },
   {
    "duration": 5,
    "start_time": "2025-01-30T17:48:56.620Z"
   },
   {
    "duration": 3,
    "start_time": "2025-01-30T17:48:56.627Z"
   },
   {
    "duration": 78,
    "start_time": "2025-01-30T17:48:56.632Z"
   },
   {
    "duration": 5,
    "start_time": "2025-01-30T17:48:56.712Z"
   },
   {
    "duration": 8,
    "start_time": "2025-01-30T17:48:56.718Z"
   },
   {
    "duration": 3,
    "start_time": "2025-01-30T17:48:56.728Z"
   },
   {
    "duration": 80,
    "start_time": "2025-01-30T17:48:56.733Z"
   },
   {
    "duration": 10,
    "start_time": "2025-01-30T17:48:56.815Z"
   },
   {
    "duration": 158,
    "start_time": "2025-01-31T20:00:21.037Z"
   },
   {
    "duration": 2809,
    "start_time": "2025-01-31T20:00:34.282Z"
   },
   {
    "duration": 12,
    "start_time": "2025-01-31T20:00:37.093Z"
   },
   {
    "duration": 3,
    "start_time": "2025-01-31T20:00:37.106Z"
   },
   {
    "duration": 10,
    "start_time": "2025-01-31T20:00:37.111Z"
   },
   {
    "duration": 9,
    "start_time": "2025-01-31T20:00:37.131Z"
   },
   {
    "duration": 3,
    "start_time": "2025-01-31T20:00:37.141Z"
   },
   {
    "duration": 8,
    "start_time": "2025-01-31T20:00:37.146Z"
   },
   {
    "duration": 15,
    "start_time": "2025-01-31T20:00:37.155Z"
   },
   {
    "duration": 5,
    "start_time": "2025-01-31T20:00:37.171Z"
   },
   {
    "duration": 5,
    "start_time": "2025-01-31T20:00:37.178Z"
   },
   {
    "duration": 2651,
    "start_time": "2025-01-31T20:00:37.185Z"
   },
   {
    "duration": 3,
    "start_time": "2025-01-31T20:00:39.837Z"
   },
   {
    "duration": 9,
    "start_time": "2025-01-31T20:00:39.841Z"
   },
   {
    "duration": 5,
    "start_time": "2025-01-31T20:00:39.853Z"
   },
   {
    "duration": 5,
    "start_time": "2025-01-31T20:00:39.859Z"
   },
   {
    "duration": 4,
    "start_time": "2025-01-31T20:00:39.865Z"
   },
   {
    "duration": 4,
    "start_time": "2025-01-31T20:00:39.871Z"
   },
   {
    "duration": 9,
    "start_time": "2025-01-31T20:00:39.876Z"
   },
   {
    "duration": 8,
    "start_time": "2025-01-31T20:00:39.887Z"
   },
   {
    "duration": 12,
    "start_time": "2025-01-31T20:00:39.931Z"
   },
   {
    "duration": 12,
    "start_time": "2025-01-31T20:00:39.945Z"
   },
   {
    "duration": 19,
    "start_time": "2025-01-31T20:00:39.958Z"
   },
   {
    "duration": 18,
    "start_time": "2025-01-31T20:00:39.979Z"
   },
   {
    "duration": 32,
    "start_time": "2025-01-31T20:00:39.998Z"
   },
   {
    "duration": 3,
    "start_time": "2025-01-31T20:00:40.032Z"
   },
   {
    "duration": 5,
    "start_time": "2025-01-31T20:00:40.037Z"
   },
   {
    "duration": 4,
    "start_time": "2025-01-31T20:00:40.045Z"
   },
   {
    "duration": 3,
    "start_time": "2025-01-31T20:00:40.051Z"
   },
   {
    "duration": 3,
    "start_time": "2025-01-31T20:00:40.055Z"
   },
   {
    "duration": 10,
    "start_time": "2025-01-31T20:00:40.059Z"
   },
   {
    "duration": 602,
    "start_time": "2025-01-31T20:00:40.071Z"
   },
   {
    "duration": 149,
    "start_time": "2025-01-31T20:00:40.675Z"
   },
   {
    "duration": 6,
    "start_time": "2025-01-31T20:00:40.826Z"
   },
   {
    "duration": 4,
    "start_time": "2025-01-31T20:00:40.833Z"
   },
   {
    "duration": 11,
    "start_time": "2025-01-31T20:00:40.839Z"
   },
   {
    "duration": 10,
    "start_time": "2025-01-31T20:00:40.851Z"
   },
   {
    "duration": 77,
    "start_time": "2025-01-31T20:00:40.862Z"
   },
   {
    "duration": 4,
    "start_time": "2025-01-31T20:00:40.941Z"
   },
   {
    "duration": 5,
    "start_time": "2025-01-31T20:00:40.947Z"
   },
   {
    "duration": 81,
    "start_time": "2025-01-31T20:00:40.953Z"
   },
   {
    "duration": 4,
    "start_time": "2025-01-31T20:00:41.040Z"
   },
   {
    "duration": 4,
    "start_time": "2025-01-31T20:00:41.045Z"
   },
   {
    "duration": 81,
    "start_time": "2025-01-31T20:00:41.051Z"
   },
   {
    "duration": 3,
    "start_time": "2025-01-31T20:00:41.134Z"
   },
   {
    "duration": 11,
    "start_time": "2025-01-31T20:00:41.139Z"
   },
   {
    "duration": 83,
    "start_time": "2025-01-31T20:00:41.152Z"
   },
   {
    "duration": 7,
    "start_time": "2025-01-31T20:00:41.237Z"
   },
   {
    "duration": 5,
    "start_time": "2025-01-31T20:08:07.974Z"
   },
   {
    "duration": 4,
    "start_time": "2025-01-31T20:08:25.823Z"
   },
   {
    "duration": 174,
    "start_time": "2025-02-01T03:03:03.226Z"
   },
   {
    "duration": 2773,
    "start_time": "2025-02-01T03:03:13.171Z"
   },
   {
    "duration": 13,
    "start_time": "2025-02-01T03:03:15.947Z"
   },
   {
    "duration": 2,
    "start_time": "2025-02-01T03:03:15.962Z"
   },
   {
    "duration": 10,
    "start_time": "2025-02-01T03:03:15.967Z"
   },
   {
    "duration": 15,
    "start_time": "2025-02-01T03:03:15.978Z"
   },
   {
    "duration": 3,
    "start_time": "2025-02-01T03:03:15.995Z"
   },
   {
    "duration": 9,
    "start_time": "2025-02-01T03:03:16.000Z"
   },
   {
    "duration": 20,
    "start_time": "2025-02-01T03:03:16.010Z"
   },
   {
    "duration": 5,
    "start_time": "2025-02-01T03:03:16.032Z"
   },
   {
    "duration": 4,
    "start_time": "2025-02-01T03:03:16.041Z"
   },
   {
    "duration": 2664,
    "start_time": "2025-02-01T03:03:16.047Z"
   },
   {
    "duration": 3,
    "start_time": "2025-02-01T03:03:18.713Z"
   },
   {
    "duration": 9,
    "start_time": "2025-02-01T03:03:18.717Z"
   },
   {
    "duration": 4,
    "start_time": "2025-02-01T03:03:18.727Z"
   },
   {
    "duration": 4,
    "start_time": "2025-02-01T03:03:18.732Z"
   },
   {
    "duration": 4,
    "start_time": "2025-02-01T03:03:18.738Z"
   },
   {
    "duration": 3,
    "start_time": "2025-02-01T03:03:18.744Z"
   },
   {
    "duration": 9,
    "start_time": "2025-02-01T03:03:18.749Z"
   },
   {
    "duration": 7,
    "start_time": "2025-02-01T03:03:18.759Z"
   },
   {
    "duration": 23,
    "start_time": "2025-02-01T03:03:18.768Z"
   },
   {
    "duration": 10,
    "start_time": "2025-02-01T03:03:18.793Z"
   },
   {
    "duration": 20,
    "start_time": "2025-02-01T03:03:18.805Z"
   },
   {
    "duration": 19,
    "start_time": "2025-02-01T03:03:18.826Z"
   },
   {
    "duration": 5,
    "start_time": "2025-02-01T03:03:18.848Z"
   },
   {
    "duration": 32,
    "start_time": "2025-02-01T03:03:18.854Z"
   },
   {
    "duration": 5,
    "start_time": "2025-02-01T03:03:18.888Z"
   },
   {
    "duration": 5,
    "start_time": "2025-02-01T03:03:18.895Z"
   },
   {
    "duration": 3,
    "start_time": "2025-02-01T03:03:18.904Z"
   },
   {
    "duration": 4,
    "start_time": "2025-02-01T03:03:18.908Z"
   },
   {
    "duration": 10,
    "start_time": "2025-02-01T03:03:18.913Z"
   },
   {
    "duration": 647,
    "start_time": "2025-02-01T03:03:18.924Z"
   },
   {
    "duration": 147,
    "start_time": "2025-02-01T03:03:19.573Z"
   },
   {
    "duration": 4,
    "start_time": "2025-02-01T03:03:19.722Z"
   },
   {
    "duration": 4,
    "start_time": "2025-02-01T03:03:19.727Z"
   },
   {
    "duration": 10,
    "start_time": "2025-02-01T03:03:19.733Z"
   },
   {
    "duration": 13,
    "start_time": "2025-02-01T03:03:19.787Z"
   },
   {
    "duration": 86,
    "start_time": "2025-02-01T03:03:19.803Z"
   },
   {
    "duration": 4,
    "start_time": "2025-02-01T03:03:19.892Z"
   },
   {
    "duration": 5,
    "start_time": "2025-02-01T03:03:19.898Z"
   },
   {
    "duration": 5,
    "start_time": "2025-02-01T03:03:19.904Z"
   },
   {
    "duration": 3,
    "start_time": "2025-02-01T03:03:19.911Z"
   },
   {
    "duration": 4,
    "start_time": "2025-02-01T03:03:19.987Z"
   },
   {
    "duration": 9,
    "start_time": "2025-02-01T03:03:19.992Z"
   },
   {
    "duration": 84,
    "start_time": "2025-02-01T03:03:20.004Z"
   },
   {
    "duration": 5,
    "start_time": "2025-02-01T03:03:20.092Z"
   },
   {
    "duration": 6,
    "start_time": "2025-02-01T03:03:20.099Z"
   },
   {
    "duration": 5,
    "start_time": "2025-02-01T03:03:20.107Z"
   },
   {
    "duration": 2723,
    "start_time": "2025-02-01T14:12:43.537Z"
   },
   {
    "duration": 15,
    "start_time": "2025-02-01T14:12:46.262Z"
   },
   {
    "duration": 3,
    "start_time": "2025-02-01T14:12:46.278Z"
   },
   {
    "duration": 10,
    "start_time": "2025-02-01T14:12:46.283Z"
   },
   {
    "duration": 8,
    "start_time": "2025-02-01T14:12:46.295Z"
   },
   {
    "duration": 20,
    "start_time": "2025-02-01T14:12:46.305Z"
   },
   {
    "duration": 8,
    "start_time": "2025-02-01T14:12:46.327Z"
   },
   {
    "duration": 15,
    "start_time": "2025-02-01T14:12:46.337Z"
   },
   {
    "duration": 5,
    "start_time": "2025-02-01T14:12:46.353Z"
   },
   {
    "duration": 5,
    "start_time": "2025-02-01T14:12:46.361Z"
   },
   {
    "duration": 2545,
    "start_time": "2025-02-01T14:12:46.368Z"
   },
   {
    "duration": 2,
    "start_time": "2025-02-01T14:12:48.915Z"
   },
   {
    "duration": 8,
    "start_time": "2025-02-01T14:12:48.919Z"
   },
   {
    "duration": 4,
    "start_time": "2025-02-01T14:12:48.929Z"
   },
   {
    "duration": 4,
    "start_time": "2025-02-01T14:12:48.935Z"
   },
   {
    "duration": 4,
    "start_time": "2025-02-01T14:12:48.941Z"
   },
   {
    "duration": 4,
    "start_time": "2025-02-01T14:12:48.947Z"
   },
   {
    "duration": 10,
    "start_time": "2025-02-01T14:12:48.952Z"
   },
   {
    "duration": 8,
    "start_time": "2025-02-01T14:12:48.963Z"
   },
   {
    "duration": 11,
    "start_time": "2025-02-01T14:12:48.973Z"
   },
   {
    "duration": 46,
    "start_time": "2025-02-01T14:12:48.986Z"
   },
   {
    "duration": 19,
    "start_time": "2025-02-01T14:12:49.034Z"
   },
   {
    "duration": 19,
    "start_time": "2025-02-01T14:12:49.056Z"
   },
   {
    "duration": 4,
    "start_time": "2025-02-01T14:12:49.077Z"
   },
   {
    "duration": 3,
    "start_time": "2025-02-01T14:12:49.083Z"
   },
   {
    "duration": 5,
    "start_time": "2025-02-01T14:12:49.088Z"
   },
   {
    "duration": 5,
    "start_time": "2025-02-01T14:12:49.124Z"
   },
   {
    "duration": 3,
    "start_time": "2025-02-01T14:12:49.133Z"
   },
   {
    "duration": 3,
    "start_time": "2025-02-01T14:12:49.137Z"
   },
   {
    "duration": 9,
    "start_time": "2025-02-01T14:12:49.142Z"
   },
   {
    "duration": 593,
    "start_time": "2025-02-01T14:12:49.153Z"
   },
   {
    "duration": 154,
    "start_time": "2025-02-01T14:12:49.747Z"
   },
   {
    "duration": 4,
    "start_time": "2025-02-01T14:12:49.902Z"
   },
   {
    "duration": 3,
    "start_time": "2025-02-01T14:12:49.909Z"
   },
   {
    "duration": 8,
    "start_time": "2025-02-01T14:12:49.925Z"
   },
   {
    "duration": 11,
    "start_time": "2025-02-01T14:12:49.935Z"
   },
   {
    "duration": 81,
    "start_time": "2025-02-01T14:12:49.947Z"
   },
   {
    "duration": 4,
    "start_time": "2025-02-01T14:12:50.030Z"
   },
   {
    "duration": 5,
    "start_time": "2025-02-01T14:12:50.036Z"
   },
   {
    "duration": 5,
    "start_time": "2025-02-01T14:12:50.042Z"
   },
   {
    "duration": 79,
    "start_time": "2025-02-01T14:12:50.048Z"
   },
   {
    "duration": 4,
    "start_time": "2025-02-01T14:12:50.128Z"
   },
   {
    "duration": 205,
    "start_time": "2025-02-01T14:12:50.136Z"
   },
   {
    "duration": 4,
    "start_time": "2025-02-01T14:12:50.343Z"
   },
   {
    "duration": 4,
    "start_time": "2025-02-01T14:12:50.348Z"
   },
   {
    "duration": 7,
    "start_time": "2025-02-01T14:12:50.354Z"
   },
   {
    "duration": 6,
    "start_time": "2025-02-01T14:12:50.363Z"
   },
   {
    "duration": 3,
    "start_time": "2025-02-01T14:17:07.416Z"
   },
   {
    "duration": 159,
    "start_time": "2025-02-01T18:41:13.308Z"
   },
   {
    "duration": 2685,
    "start_time": "2025-02-01T18:41:21.465Z"
   },
   {
    "duration": 13,
    "start_time": "2025-02-01T18:41:24.152Z"
   },
   {
    "duration": 3,
    "start_time": "2025-02-01T18:41:24.166Z"
   },
   {
    "duration": 13,
    "start_time": "2025-02-01T18:41:24.172Z"
   },
   {
    "duration": 7,
    "start_time": "2025-02-01T18:41:24.188Z"
   },
   {
    "duration": 3,
    "start_time": "2025-02-01T18:41:24.197Z"
   },
   {
    "duration": 8,
    "start_time": "2025-02-01T18:41:24.201Z"
   },
   {
    "duration": 15,
    "start_time": "2025-02-01T18:41:24.211Z"
   },
   {
    "duration": 5,
    "start_time": "2025-02-01T18:41:24.229Z"
   },
   {
    "duration": 6,
    "start_time": "2025-02-01T18:41:24.271Z"
   },
   {
    "duration": 2560,
    "start_time": "2025-02-01T18:41:24.279Z"
   },
   {
    "duration": 2,
    "start_time": "2025-02-01T18:41:26.841Z"
   },
   {
    "duration": 8,
    "start_time": "2025-02-01T18:41:26.845Z"
   },
   {
    "duration": 4,
    "start_time": "2025-02-01T18:41:26.854Z"
   },
   {
    "duration": 10,
    "start_time": "2025-02-01T18:41:26.860Z"
   },
   {
    "duration": 4,
    "start_time": "2025-02-01T18:41:26.871Z"
   },
   {
    "duration": 78,
    "start_time": "2025-02-01T18:41:26.877Z"
   },
   {
    "duration": 21,
    "start_time": "2025-02-01T18:41:26.957Z"
   },
   {
    "duration": 9,
    "start_time": "2025-02-01T18:41:26.980Z"
   },
   {
    "duration": 11,
    "start_time": "2025-02-01T18:41:26.992Z"
   },
   {
    "duration": 11,
    "start_time": "2025-02-01T18:41:27.005Z"
   },
   {
    "duration": 19,
    "start_time": "2025-02-01T18:41:27.018Z"
   },
   {
    "duration": 53,
    "start_time": "2025-02-01T18:41:27.038Z"
   },
   {
    "duration": 4,
    "start_time": "2025-02-01T18:41:27.092Z"
   },
   {
    "duration": 3,
    "start_time": "2025-02-01T18:41:27.098Z"
   },
   {
    "duration": 5,
    "start_time": "2025-02-01T18:41:27.103Z"
   },
   {
    "duration": 4,
    "start_time": "2025-02-01T18:41:27.110Z"
   },
   {
    "duration": 2,
    "start_time": "2025-02-01T18:41:27.119Z"
   },
   {
    "duration": 3,
    "start_time": "2025-02-01T18:41:27.123Z"
   },
   {
    "duration": 63,
    "start_time": "2025-02-01T18:41:27.127Z"
   },
   {
    "duration": 592,
    "start_time": "2025-02-01T18:41:27.192Z"
   },
   {
    "duration": 145,
    "start_time": "2025-02-01T18:41:27.785Z"
   },
   {
    "duration": 5,
    "start_time": "2025-02-01T18:41:27.932Z"
   },
   {
    "duration": 3,
    "start_time": "2025-02-01T18:41:27.939Z"
   },
   {
    "duration": 27,
    "start_time": "2025-02-01T18:41:27.944Z"
   },
   {
    "duration": 14,
    "start_time": "2025-02-01T18:41:27.972Z"
   },
   {
    "duration": 90,
    "start_time": "2025-02-01T18:41:27.989Z"
   },
   {
    "duration": 4,
    "start_time": "2025-02-01T18:41:28.083Z"
   },
   {
    "duration": 5,
    "start_time": "2025-02-01T18:41:28.089Z"
   },
   {
    "duration": 4,
    "start_time": "2025-02-01T18:41:28.095Z"
   },
   {
    "duration": 7,
    "start_time": "2025-02-01T18:41:28.171Z"
   },
   {
    "duration": 4,
    "start_time": "2025-02-01T18:41:28.181Z"
   },
   {
    "duration": 5,
    "start_time": "2025-02-01T18:41:28.186Z"
   },
   {
    "duration": 80,
    "start_time": "2025-02-01T18:41:28.192Z"
   },
   {
    "duration": 5,
    "start_time": "2025-02-01T18:41:28.274Z"
   },
   {
    "duration": 12,
    "start_time": "2025-02-01T18:41:28.280Z"
   },
   {
    "duration": 80,
    "start_time": "2025-02-01T18:41:28.298Z"
   },
   {
    "duration": 2720,
    "start_time": "2025-02-02T03:19:35.380Z"
   },
   {
    "duration": 12,
    "start_time": "2025-02-02T03:19:38.103Z"
   },
   {
    "duration": 3,
    "start_time": "2025-02-02T03:19:38.117Z"
   },
   {
    "duration": 21,
    "start_time": "2025-02-02T03:19:38.122Z"
   },
   {
    "duration": 8,
    "start_time": "2025-02-02T03:19:38.145Z"
   },
   {
    "duration": 2,
    "start_time": "2025-02-02T03:19:38.155Z"
   },
   {
    "duration": 8,
    "start_time": "2025-02-02T03:19:38.159Z"
   },
   {
    "duration": 16,
    "start_time": "2025-02-02T03:19:38.168Z"
   },
   {
    "duration": 5,
    "start_time": "2025-02-02T03:19:38.186Z"
   },
   {
    "duration": 5,
    "start_time": "2025-02-02T03:19:38.194Z"
   },
   {
    "duration": 2590,
    "start_time": "2025-02-02T03:19:38.201Z"
   },
   {
    "duration": 3,
    "start_time": "2025-02-02T03:19:40.793Z"
   },
   {
    "duration": 9,
    "start_time": "2025-02-02T03:19:40.798Z"
   },
   {
    "duration": 4,
    "start_time": "2025-02-02T03:19:40.808Z"
   },
   {
    "duration": 5,
    "start_time": "2025-02-02T03:19:40.813Z"
   },
   {
    "duration": 4,
    "start_time": "2025-02-02T03:19:40.820Z"
   },
   {
    "duration": 94,
    "start_time": "2025-02-02T03:19:40.825Z"
   },
   {
    "duration": 9,
    "start_time": "2025-02-02T03:19:40.920Z"
   },
   {
    "duration": 19,
    "start_time": "2025-02-02T03:19:40.931Z"
   },
   {
    "duration": 13,
    "start_time": "2025-02-02T03:19:40.952Z"
   },
   {
    "duration": 12,
    "start_time": "2025-02-02T03:19:40.966Z"
   },
   {
    "duration": 19,
    "start_time": "2025-02-02T03:19:40.979Z"
   },
   {
    "duration": 45,
    "start_time": "2025-02-02T03:19:41.000Z"
   },
   {
    "duration": 5,
    "start_time": "2025-02-02T03:19:41.046Z"
   },
   {
    "duration": 3,
    "start_time": "2025-02-02T03:19:41.055Z"
   },
   {
    "duration": 6,
    "start_time": "2025-02-02T03:19:41.061Z"
   },
   {
    "duration": 6,
    "start_time": "2025-02-02T03:19:41.069Z"
   },
   {
    "duration": 2,
    "start_time": "2025-02-02T03:19:41.079Z"
   },
   {
    "duration": 4,
    "start_time": "2025-02-02T03:19:41.082Z"
   },
   {
    "duration": 21,
    "start_time": "2025-02-02T03:19:41.087Z"
   },
   {
    "duration": 607,
    "start_time": "2025-02-02T03:19:41.109Z"
   },
   {
    "duration": 152,
    "start_time": "2025-02-02T03:19:41.718Z"
   },
   {
    "duration": 6,
    "start_time": "2025-02-02T03:19:41.873Z"
   },
   {
    "duration": 5,
    "start_time": "2025-02-02T03:19:41.881Z"
   },
   {
    "duration": 13,
    "start_time": "2025-02-02T03:19:41.893Z"
   },
   {
    "duration": 37,
    "start_time": "2025-02-02T03:19:41.908Z"
   },
   {
    "duration": 12,
    "start_time": "2025-02-02T03:24:34.046Z"
   },
   {
    "duration": 5,
    "start_time": "2025-02-02T03:24:35.864Z"
   },
   {
    "duration": 10,
    "start_time": "2025-02-02T03:26:04.803Z"
   },
   {
    "duration": 161,
    "start_time": "2025-02-02T18:07:37.489Z"
   },
   {
    "duration": 2825,
    "start_time": "2025-02-02T18:07:59.558Z"
   },
   {
    "duration": 13,
    "start_time": "2025-02-02T18:08:02.386Z"
   },
   {
    "duration": 3,
    "start_time": "2025-02-02T18:08:02.402Z"
   },
   {
    "duration": 15,
    "start_time": "2025-02-02T18:08:02.406Z"
   },
   {
    "duration": 10,
    "start_time": "2025-02-02T18:08:02.424Z"
   },
   {
    "duration": 4,
    "start_time": "2025-02-02T18:08:02.435Z"
   },
   {
    "duration": 9,
    "start_time": "2025-02-02T18:08:02.440Z"
   },
   {
    "duration": 16,
    "start_time": "2025-02-02T18:08:02.451Z"
   },
   {
    "duration": 6,
    "start_time": "2025-02-02T18:08:02.477Z"
   },
   {
    "duration": 6,
    "start_time": "2025-02-02T18:08:02.512Z"
   },
   {
    "duration": 2560,
    "start_time": "2025-02-02T18:08:02.520Z"
   },
   {
    "duration": 3,
    "start_time": "2025-02-02T18:08:05.082Z"
   },
   {
    "duration": 8,
    "start_time": "2025-02-02T18:08:05.086Z"
   },
   {
    "duration": 4,
    "start_time": "2025-02-02T18:08:05.098Z"
   },
   {
    "duration": 4,
    "start_time": "2025-02-02T18:08:05.111Z"
   },
   {
    "duration": 6,
    "start_time": "2025-02-02T18:08:05.117Z"
   },
   {
    "duration": 4,
    "start_time": "2025-02-02T18:08:05.126Z"
   },
   {
    "duration": 9,
    "start_time": "2025-02-02T18:08:05.132Z"
   },
   {
    "duration": 8,
    "start_time": "2025-02-02T18:08:05.143Z"
   },
   {
    "duration": 12,
    "start_time": "2025-02-02T18:08:05.153Z"
   },
   {
    "duration": 50,
    "start_time": "2025-02-02T18:08:05.166Z"
   },
   {
    "duration": 21,
    "start_time": "2025-02-02T18:08:05.218Z"
   },
   {
    "duration": 20,
    "start_time": "2025-02-02T18:08:05.240Z"
   },
   {
    "duration": 5,
    "start_time": "2025-02-02T18:08:05.261Z"
   },
   {
    "duration": 3,
    "start_time": "2025-02-02T18:08:05.267Z"
   },
   {
    "duration": 5,
    "start_time": "2025-02-02T18:08:05.272Z"
   },
   {
    "duration": 36,
    "start_time": "2025-02-02T18:08:05.279Z"
   },
   {
    "duration": 4,
    "start_time": "2025-02-02T18:08:05.317Z"
   },
   {
    "duration": 7,
    "start_time": "2025-02-02T18:08:05.323Z"
   },
   {
    "duration": 21,
    "start_time": "2025-02-02T18:08:05.331Z"
   },
   {
    "duration": 288,
    "start_time": "2025-02-02T18:08:05.353Z"
   },
   {
    "duration": 0,
    "start_time": "2025-02-02T18:08:05.643Z"
   },
   {
    "duration": 0,
    "start_time": "2025-02-02T18:08:05.647Z"
   },
   {
    "duration": 0,
    "start_time": "2025-02-02T18:08:05.648Z"
   },
   {
    "duration": 0,
    "start_time": "2025-02-02T18:08:05.649Z"
   },
   {
    "duration": 0,
    "start_time": "2025-02-02T18:08:05.651Z"
   },
   {
    "duration": 0,
    "start_time": "2025-02-02T18:08:05.652Z"
   },
   {
    "duration": 0,
    "start_time": "2025-02-02T18:08:05.653Z"
   },
   {
    "duration": 0,
    "start_time": "2025-02-02T18:08:05.654Z"
   },
   {
    "duration": 0,
    "start_time": "2025-02-02T18:08:05.656Z"
   },
   {
    "duration": 0,
    "start_time": "2025-02-02T18:08:05.657Z"
   },
   {
    "duration": 0,
    "start_time": "2025-02-02T18:08:05.658Z"
   },
   {
    "duration": 0,
    "start_time": "2025-02-02T18:08:05.659Z"
   },
   {
    "duration": 0,
    "start_time": "2025-02-02T18:08:05.661Z"
   },
   {
    "duration": 0,
    "start_time": "2025-02-02T18:08:05.662Z"
   },
   {
    "duration": 0,
    "start_time": "2025-02-02T18:08:05.663Z"
   },
   {
    "duration": 0,
    "start_time": "2025-02-02T18:08:05.664Z"
   },
   {
    "duration": 51,
    "start_time": "2025-02-02T18:21:00.574Z"
   },
   {
    "duration": 605,
    "start_time": "2025-02-02T18:21:08.379Z"
   },
   {
    "duration": 131,
    "start_time": "2025-02-02T18:21:11.917Z"
   },
   {
    "duration": 6,
    "start_time": "2025-02-02T18:22:04.346Z"
   },
   {
    "duration": 3,
    "start_time": "2025-02-02T18:22:06.402Z"
   },
   {
    "duration": 16,
    "start_time": "2025-02-02T18:22:08.889Z"
   },
   {
    "duration": 9,
    "start_time": "2025-02-02T18:22:12.132Z"
   },
   {
    "duration": 13,
    "start_time": "2025-02-02T18:22:24.872Z"
   },
   {
    "duration": 5,
    "start_time": "2025-02-02T18:22:27.746Z"
   },
   {
    "duration": 5,
    "start_time": "2025-02-02T18:22:29.933Z"
   },
   {
    "duration": 7,
    "start_time": "2025-02-02T18:22:31.793Z"
   },
   {
    "duration": 4,
    "start_time": "2025-02-02T18:22:36.750Z"
   },
   {
    "duration": 5,
    "start_time": "2025-02-02T18:22:39.333Z"
   },
   {
    "duration": 10,
    "start_time": "2025-02-02T18:22:41.593Z"
   },
   {
    "duration": 3,
    "start_time": "2025-02-02T18:22:47.439Z"
   },
   {
    "duration": 4,
    "start_time": "2025-02-02T18:22:49.208Z"
   },
   {
    "duration": 8,
    "start_time": "2025-02-02T18:22:50.800Z"
   },
   {
    "duration": 9,
    "start_time": "2025-02-02T18:22:53.201Z"
   },
   {
    "duration": 160,
    "start_time": "2025-02-02T21:55:33.816Z"
   },
   {
    "duration": 2695,
    "start_time": "2025-02-02T21:55:41.708Z"
   },
   {
    "duration": 10,
    "start_time": "2025-02-02T21:55:44.406Z"
   },
   {
    "duration": 3,
    "start_time": "2025-02-02T21:55:44.418Z"
   },
   {
    "duration": 10,
    "start_time": "2025-02-02T21:55:44.423Z"
   },
   {
    "duration": 9,
    "start_time": "2025-02-02T21:55:44.435Z"
   },
   {
    "duration": 3,
    "start_time": "2025-02-02T21:55:44.445Z"
   },
   {
    "duration": 7,
    "start_time": "2025-02-02T21:55:44.450Z"
   },
   {
    "duration": 16,
    "start_time": "2025-02-02T21:55:44.459Z"
   },
   {
    "duration": 5,
    "start_time": "2025-02-02T21:55:44.508Z"
   },
   {
    "duration": 5,
    "start_time": "2025-02-02T21:55:44.516Z"
   },
   {
    "duration": 2536,
    "start_time": "2025-02-02T21:55:44.522Z"
   },
   {
    "duration": 5,
    "start_time": "2025-02-02T21:55:47.060Z"
   },
   {
    "duration": 10,
    "start_time": "2025-02-02T21:55:47.068Z"
   },
   {
    "duration": 4,
    "start_time": "2025-02-02T21:55:47.080Z"
   },
   {
    "duration": 7,
    "start_time": "2025-02-02T21:55:47.087Z"
   },
   {
    "duration": 13,
    "start_time": "2025-02-02T21:55:47.096Z"
   },
   {
    "duration": 102,
    "start_time": "2025-02-02T21:55:47.111Z"
   },
   {
    "duration": 16,
    "start_time": "2025-02-02T21:55:47.216Z"
   },
   {
    "duration": 11,
    "start_time": "2025-02-02T21:55:47.236Z"
   },
   {
    "duration": 13,
    "start_time": "2025-02-02T21:55:47.249Z"
   },
   {
    "duration": 18,
    "start_time": "2025-02-02T21:55:47.264Z"
   },
   {
    "duration": 43,
    "start_time": "2025-02-02T21:55:47.283Z"
   },
   {
    "duration": 20,
    "start_time": "2025-02-02T21:55:47.328Z"
   },
   {
    "duration": 5,
    "start_time": "2025-02-02T21:55:47.349Z"
   },
   {
    "duration": 4,
    "start_time": "2025-02-02T21:55:47.356Z"
   },
   {
    "duration": 7,
    "start_time": "2025-02-02T21:55:47.361Z"
   },
   {
    "duration": 8,
    "start_time": "2025-02-02T21:55:47.369Z"
   },
   {
    "duration": 3,
    "start_time": "2025-02-02T21:55:47.409Z"
   },
   {
    "duration": 3,
    "start_time": "2025-02-02T21:55:47.414Z"
   },
   {
    "duration": 21,
    "start_time": "2025-02-02T21:55:47.419Z"
   },
   {
    "duration": 253,
    "start_time": "2025-02-02T21:55:47.442Z"
   },
   {
    "duration": 0,
    "start_time": "2025-02-02T21:55:47.698Z"
   },
   {
    "duration": 0,
    "start_time": "2025-02-02T21:55:47.699Z"
   },
   {
    "duration": 0,
    "start_time": "2025-02-02T21:55:47.699Z"
   },
   {
    "duration": 0,
    "start_time": "2025-02-02T21:55:47.709Z"
   },
   {
    "duration": 0,
    "start_time": "2025-02-02T21:55:47.709Z"
   },
   {
    "duration": 0,
    "start_time": "2025-02-02T21:55:47.710Z"
   },
   {
    "duration": 0,
    "start_time": "2025-02-02T21:55:47.711Z"
   },
   {
    "duration": 0,
    "start_time": "2025-02-02T21:55:47.713Z"
   },
   {
    "duration": 0,
    "start_time": "2025-02-02T21:55:47.714Z"
   },
   {
    "duration": 0,
    "start_time": "2025-02-02T21:55:47.717Z"
   },
   {
    "duration": 0,
    "start_time": "2025-02-02T21:55:47.718Z"
   },
   {
    "duration": 0,
    "start_time": "2025-02-02T21:55:47.719Z"
   },
   {
    "duration": 0,
    "start_time": "2025-02-02T21:55:47.720Z"
   },
   {
    "duration": 0,
    "start_time": "2025-02-02T21:55:47.721Z"
   },
   {
    "duration": 0,
    "start_time": "2025-02-02T21:55:47.723Z"
   },
   {
    "duration": 0,
    "start_time": "2025-02-02T21:55:47.724Z"
   },
   {
    "duration": 619,
    "start_time": "2025-02-02T21:56:59.990Z"
   },
   {
    "duration": 137,
    "start_time": "2025-02-02T21:57:02.153Z"
   },
   {
    "duration": 3,
    "start_time": "2025-02-02T21:57:13.195Z"
   },
   {
    "duration": 3,
    "start_time": "2025-02-02T21:57:14.903Z"
   },
   {
    "duration": 19,
    "start_time": "2025-02-02T21:57:16.637Z"
   },
   {
    "duration": 7,
    "start_time": "2025-02-02T21:57:32.240Z"
   },
   {
    "duration": 7,
    "start_time": "2025-02-02T21:57:35.172Z"
   },
   {
    "duration": 8,
    "start_time": "2025-02-02T21:58:15.478Z"
   },
   {
    "duration": 10,
    "start_time": "2025-02-02T21:58:24.668Z"
   },
   {
    "duration": 5,
    "start_time": "2025-02-02T21:58:26.697Z"
   },
   {
    "duration": 5,
    "start_time": "2025-02-02T21:58:28.611Z"
   },
   {
    "duration": 8,
    "start_time": "2025-02-02T21:58:33.130Z"
   },
   {
    "duration": 4,
    "start_time": "2025-02-02T21:58:37.403Z"
   },
   {
    "duration": 4,
    "start_time": "2025-02-02T21:58:39.484Z"
   },
   {
    "duration": 7,
    "start_time": "2025-02-02T21:58:41.592Z"
   },
   {
    "duration": 3,
    "start_time": "2025-02-02T21:58:47.001Z"
   },
   {
    "duration": 4,
    "start_time": "2025-02-02T21:58:48.088Z"
   },
   {
    "duration": 10,
    "start_time": "2025-02-02T21:58:50.023Z"
   },
   {
    "duration": 7,
    "start_time": "2025-02-02T21:58:51.994Z"
   },
   {
    "duration": 10,
    "start_time": "2025-02-02T22:17:44.233Z"
   },
   {
    "duration": 5,
    "start_time": "2025-02-02T22:22:26.147Z"
   },
   {
    "duration": 2666,
    "start_time": "2025-02-03T02:48:10.928Z"
   },
   {
    "duration": 12,
    "start_time": "2025-02-03T02:48:13.596Z"
   },
   {
    "duration": 3,
    "start_time": "2025-02-03T02:48:13.610Z"
   },
   {
    "duration": 11,
    "start_time": "2025-02-03T02:48:13.614Z"
   },
   {
    "duration": 8,
    "start_time": "2025-02-03T02:48:13.628Z"
   },
   {
    "duration": 3,
    "start_time": "2025-02-03T02:48:13.638Z"
   },
   {
    "duration": 28,
    "start_time": "2025-02-03T02:48:13.643Z"
   },
   {
    "duration": 16,
    "start_time": "2025-02-03T02:48:13.673Z"
   },
   {
    "duration": 4,
    "start_time": "2025-02-03T02:48:13.691Z"
   },
   {
    "duration": 5,
    "start_time": "2025-02-03T02:48:13.697Z"
   },
   {
    "duration": 2519,
    "start_time": "2025-02-03T02:48:13.703Z"
   },
   {
    "duration": 2,
    "start_time": "2025-02-03T02:48:16.225Z"
   },
   {
    "duration": 9,
    "start_time": "2025-02-03T02:48:16.229Z"
   },
   {
    "duration": 88,
    "start_time": "2025-02-03T02:48:16.241Z"
   },
   {
    "duration": 9,
    "start_time": "2025-02-03T02:48:16.335Z"
   },
   {
    "duration": 8,
    "start_time": "2025-02-03T02:48:16.346Z"
   },
   {
    "duration": 4,
    "start_time": "2025-02-03T02:48:16.356Z"
   },
   {
    "duration": 11,
    "start_time": "2025-02-03T02:48:16.370Z"
   },
   {
    "duration": 10,
    "start_time": "2025-02-03T02:48:16.382Z"
   },
   {
    "duration": 12,
    "start_time": "2025-02-03T02:48:16.393Z"
   },
   {
    "duration": 11,
    "start_time": "2025-02-03T02:48:16.407Z"
   },
   {
    "duration": 19,
    "start_time": "2025-02-03T02:48:16.420Z"
   },
   {
    "duration": 48,
    "start_time": "2025-02-03T02:48:16.440Z"
   },
   {
    "duration": 5,
    "start_time": "2025-02-03T02:48:16.489Z"
   },
   {
    "duration": 3,
    "start_time": "2025-02-03T02:48:16.496Z"
   },
   {
    "duration": 6,
    "start_time": "2025-02-03T02:48:16.501Z"
   },
   {
    "duration": 5,
    "start_time": "2025-02-03T02:48:16.508Z"
   },
   {
    "duration": 3,
    "start_time": "2025-02-03T02:48:16.515Z"
   },
   {
    "duration": 4,
    "start_time": "2025-02-03T02:48:16.519Z"
   },
   {
    "duration": 52,
    "start_time": "2025-02-03T02:48:16.524Z"
   },
   {
    "duration": 573,
    "start_time": "2025-02-03T02:48:16.578Z"
   },
   {
    "duration": 156,
    "start_time": "2025-02-03T02:48:17.153Z"
   },
   {
    "duration": 4,
    "start_time": "2025-02-03T02:48:17.311Z"
   },
   {
    "duration": 4,
    "start_time": "2025-02-03T02:48:17.317Z"
   },
   {
    "duration": 8,
    "start_time": "2025-02-03T02:48:17.322Z"
   },
   {
    "duration": 44,
    "start_time": "2025-02-03T02:48:17.331Z"
   },
   {
    "duration": 12,
    "start_time": "2025-02-03T02:48:17.378Z"
   },
   {
    "duration": 79,
    "start_time": "2025-02-03T02:48:17.391Z"
   },
   {
    "duration": 5,
    "start_time": "2025-02-03T02:48:17.472Z"
   },
   {
    "duration": 5,
    "start_time": "2025-02-03T02:48:17.478Z"
   },
   {
    "duration": 7,
    "start_time": "2025-02-03T02:48:17.488Z"
   },
   {
    "duration": 7,
    "start_time": "2025-02-03T02:48:17.571Z"
   },
   {
    "duration": 7,
    "start_time": "2025-02-03T02:48:17.580Z"
   },
   {
    "duration": 4,
    "start_time": "2025-02-03T02:48:17.590Z"
   },
   {
    "duration": 5,
    "start_time": "2025-02-03T02:48:17.670Z"
   },
   {
    "duration": 8,
    "start_time": "2025-02-03T02:48:17.678Z"
   },
   {
    "duration": 79,
    "start_time": "2025-02-03T02:48:17.691Z"
   },
   {
    "duration": 158,
    "start_time": "2025-02-03T14:53:45.665Z"
   },
   {
    "duration": 2679,
    "start_time": "2025-02-03T14:54:13.779Z"
   },
   {
    "duration": 13,
    "start_time": "2025-02-03T14:54:16.460Z"
   },
   {
    "duration": 3,
    "start_time": "2025-02-03T14:54:16.474Z"
   },
   {
    "duration": 10,
    "start_time": "2025-02-03T14:54:16.479Z"
   },
   {
    "duration": 8,
    "start_time": "2025-02-03T14:54:16.493Z"
   },
   {
    "duration": 3,
    "start_time": "2025-02-03T14:54:16.503Z"
   },
   {
    "duration": 8,
    "start_time": "2025-02-03T14:54:16.507Z"
   },
   {
    "duration": 39,
    "start_time": "2025-02-03T14:54:16.517Z"
   },
   {
    "duration": 5,
    "start_time": "2025-02-03T14:54:16.558Z"
   },
   {
    "duration": 5,
    "start_time": "2025-02-03T14:54:16.565Z"
   },
   {
    "duration": 2543,
    "start_time": "2025-02-03T14:54:16.572Z"
   },
   {
    "duration": 2,
    "start_time": "2025-02-03T14:54:19.119Z"
   },
   {
    "duration": 9,
    "start_time": "2025-02-03T14:54:19.123Z"
   },
   {
    "duration": 4,
    "start_time": "2025-02-03T14:54:19.136Z"
   },
   {
    "duration": 4,
    "start_time": "2025-02-03T14:54:19.142Z"
   },
   {
    "duration": 3,
    "start_time": "2025-02-03T14:54:19.148Z"
   },
   {
    "duration": 4,
    "start_time": "2025-02-03T14:54:19.153Z"
   },
   {
    "duration": 9,
    "start_time": "2025-02-03T14:54:19.159Z"
   },
   {
    "duration": 7,
    "start_time": "2025-02-03T14:54:19.170Z"
   },
   {
    "duration": 12,
    "start_time": "2025-02-03T14:54:19.178Z"
   },
   {
    "duration": 11,
    "start_time": "2025-02-03T14:54:19.191Z"
   },
   {
    "duration": 55,
    "start_time": "2025-02-03T14:54:19.205Z"
   },
   {
    "duration": 20,
    "start_time": "2025-02-03T14:54:19.261Z"
   },
   {
    "duration": 4,
    "start_time": "2025-02-03T14:54:19.282Z"
   },
   {
    "duration": 3,
    "start_time": "2025-02-03T14:54:19.288Z"
   },
   {
    "duration": 6,
    "start_time": "2025-02-03T14:54:19.293Z"
   },
   {
    "duration": 4,
    "start_time": "2025-02-03T14:54:19.301Z"
   },
   {
    "duration": 36,
    "start_time": "2025-02-03T14:54:19.307Z"
   },
   {
    "duration": 3,
    "start_time": "2025-02-03T14:54:19.346Z"
   },
   {
    "duration": 10,
    "start_time": "2025-02-03T14:54:19.351Z"
   },
   {
    "duration": 571,
    "start_time": "2025-02-03T14:54:19.363Z"
   },
   {
    "duration": 146,
    "start_time": "2025-02-03T14:54:19.936Z"
   },
   {
    "duration": 4,
    "start_time": "2025-02-03T14:54:20.084Z"
   },
   {
    "duration": 4,
    "start_time": "2025-02-03T14:54:20.090Z"
   },
   {
    "duration": 7,
    "start_time": "2025-02-03T14:54:20.096Z"
   },
   {
    "duration": 41,
    "start_time": "2025-02-03T14:54:20.104Z"
   },
   {
    "duration": 12,
    "start_time": "2025-02-03T14:54:20.146Z"
   },
   {
    "duration": 4,
    "start_time": "2025-02-03T14:54:20.160Z"
   },
   {
    "duration": 80,
    "start_time": "2025-02-03T14:54:20.165Z"
   },
   {
    "duration": 7,
    "start_time": "2025-02-03T14:54:20.247Z"
   },
   {
    "duration": 5,
    "start_time": "2025-02-03T14:54:20.262Z"
   },
   {
    "duration": 6,
    "start_time": "2025-02-03T14:54:20.270Z"
   },
   {
    "duration": 6,
    "start_time": "2025-02-03T14:54:20.345Z"
   },
   {
    "duration": 8,
    "start_time": "2025-02-03T14:54:20.353Z"
   },
   {
    "duration": 82,
    "start_time": "2025-02-03T14:54:20.364Z"
   },
   {
    "duration": 7,
    "start_time": "2025-02-03T14:54:20.448Z"
   },
   {
    "duration": 90,
    "start_time": "2025-02-03T14:54:20.457Z"
   },
   {
    "duration": 13,
    "start_time": "2025-02-03T14:54:20.549Z"
   },
   {
    "duration": 4,
    "start_time": "2025-02-03T14:55:01.846Z"
   },
   {
    "duration": 1002,
    "start_time": "2025-02-03T15:26:12.245Z"
   },
   {
    "duration": 7,
    "start_time": "2025-02-03T15:26:13.249Z"
   },
   {
    "duration": 3,
    "start_time": "2025-02-03T15:26:13.258Z"
   },
   {
    "duration": 10,
    "start_time": "2025-02-03T15:26:13.263Z"
   },
   {
    "duration": 9,
    "start_time": "2025-02-03T15:26:13.274Z"
   },
   {
    "duration": 3,
    "start_time": "2025-02-03T15:26:13.284Z"
   },
   {
    "duration": 8,
    "start_time": "2025-02-03T15:26:13.288Z"
   },
   {
    "duration": 52,
    "start_time": "2025-02-03T15:26:13.298Z"
   },
   {
    "duration": 5,
    "start_time": "2025-02-03T15:26:13.351Z"
   },
   {
    "duration": 4,
    "start_time": "2025-02-03T15:26:13.359Z"
   },
   {
    "duration": 2582,
    "start_time": "2025-02-03T15:26:13.365Z"
   },
   {
    "duration": 2,
    "start_time": "2025-02-03T15:26:15.949Z"
   },
   {
    "duration": 8,
    "start_time": "2025-02-03T15:26:15.953Z"
   },
   {
    "duration": 3,
    "start_time": "2025-02-03T15:26:15.963Z"
   },
   {
    "duration": 3,
    "start_time": "2025-02-03T15:26:15.968Z"
   },
   {
    "duration": 5,
    "start_time": "2025-02-03T15:26:15.973Z"
   },
   {
    "duration": 4,
    "start_time": "2025-02-03T15:26:15.980Z"
   },
   {
    "duration": 7,
    "start_time": "2025-02-03T15:26:15.986Z"
   },
   {
    "duration": 8,
    "start_time": "2025-02-03T15:26:15.995Z"
   },
   {
    "duration": 48,
    "start_time": "2025-02-03T15:26:16.005Z"
   },
   {
    "duration": 12,
    "start_time": "2025-02-03T15:26:16.054Z"
   },
   {
    "duration": 19,
    "start_time": "2025-02-03T15:26:16.067Z"
   },
   {
    "duration": 20,
    "start_time": "2025-02-03T15:26:16.087Z"
   },
   {
    "duration": 35,
    "start_time": "2025-02-03T15:26:16.108Z"
   },
   {
    "duration": 3,
    "start_time": "2025-02-03T15:26:16.145Z"
   },
   {
    "duration": 5,
    "start_time": "2025-02-03T15:26:16.149Z"
   },
   {
    "duration": 5,
    "start_time": "2025-02-03T15:26:16.156Z"
   },
   {
    "duration": 3,
    "start_time": "2025-02-03T15:26:16.165Z"
   },
   {
    "duration": 5,
    "start_time": "2025-02-03T15:26:16.169Z"
   },
   {
    "duration": 9,
    "start_time": "2025-02-03T15:26:16.175Z"
   },
   {
    "duration": 610,
    "start_time": "2025-02-03T15:26:16.185Z"
   },
   {
    "duration": 163,
    "start_time": "2025-02-03T15:26:16.797Z"
   },
   {
    "duration": 5,
    "start_time": "2025-02-03T15:26:16.961Z"
   },
   {
    "duration": 3,
    "start_time": "2025-02-03T15:26:16.968Z"
   },
   {
    "duration": 13,
    "start_time": "2025-02-03T15:26:16.972Z"
   },
   {
    "duration": 60,
    "start_time": "2025-02-03T15:26:16.986Z"
   },
   {
    "duration": 11,
    "start_time": "2025-02-03T15:26:17.048Z"
   },
   {
    "duration": 4,
    "start_time": "2025-02-03T15:26:17.060Z"
   },
   {
    "duration": 80,
    "start_time": "2025-02-03T15:26:17.066Z"
   },
   {
    "duration": 4,
    "start_time": "2025-02-03T15:26:17.148Z"
   },
   {
    "duration": 6,
    "start_time": "2025-02-03T15:26:17.155Z"
   },
   {
    "duration": 5,
    "start_time": "2025-02-03T15:26:17.162Z"
   },
   {
    "duration": 78,
    "start_time": "2025-02-03T15:26:17.169Z"
   },
   {
    "duration": 9,
    "start_time": "2025-02-03T15:26:17.248Z"
   },
   {
    "duration": 4,
    "start_time": "2025-02-03T15:26:17.259Z"
   },
   {
    "duration": 82,
    "start_time": "2025-02-03T15:26:17.265Z"
   },
   {
    "duration": 8,
    "start_time": "2025-02-03T15:26:17.349Z"
   },
   {
    "duration": 957,
    "start_time": "2025-02-03T15:30:55.512Z"
   },
   {
    "duration": 7,
    "start_time": "2025-02-03T15:30:56.472Z"
   },
   {
    "duration": 3,
    "start_time": "2025-02-03T15:30:56.480Z"
   },
   {
    "duration": 10,
    "start_time": "2025-02-03T15:30:56.485Z"
   },
   {
    "duration": 9,
    "start_time": "2025-02-03T15:30:56.496Z"
   },
   {
    "duration": 3,
    "start_time": "2025-02-03T15:30:56.506Z"
   },
   {
    "duration": 32,
    "start_time": "2025-02-03T15:30:56.511Z"
   },
   {
    "duration": 17,
    "start_time": "2025-02-03T15:30:56.544Z"
   },
   {
    "duration": 5,
    "start_time": "2025-02-03T15:30:56.562Z"
   },
   {
    "duration": 6,
    "start_time": "2025-02-03T15:30:56.572Z"
   },
   {
    "duration": 2544,
    "start_time": "2025-02-03T15:30:56.579Z"
   },
   {
    "duration": 3,
    "start_time": "2025-02-03T15:30:59.125Z"
   },
   {
    "duration": 8,
    "start_time": "2025-02-03T15:30:59.130Z"
   },
   {
    "duration": 4,
    "start_time": "2025-02-03T15:30:59.140Z"
   },
   {
    "duration": 4,
    "start_time": "2025-02-03T15:30:59.145Z"
   },
   {
    "duration": 4,
    "start_time": "2025-02-03T15:30:59.150Z"
   },
   {
    "duration": 4,
    "start_time": "2025-02-03T15:30:59.157Z"
   },
   {
    "duration": 9,
    "start_time": "2025-02-03T15:30:59.163Z"
   },
   {
    "duration": 8,
    "start_time": "2025-02-03T15:30:59.174Z"
   },
   {
    "duration": 11,
    "start_time": "2025-02-03T15:30:59.184Z"
   },
   {
    "duration": 46,
    "start_time": "2025-02-03T15:30:59.197Z"
   },
   {
    "duration": 20,
    "start_time": "2025-02-03T15:30:59.244Z"
   },
   {
    "duration": 20,
    "start_time": "2025-02-03T15:30:59.265Z"
   },
   {
    "duration": 5,
    "start_time": "2025-02-03T15:30:59.286Z"
   },
   {
    "duration": 3,
    "start_time": "2025-02-03T15:30:59.293Z"
   },
   {
    "duration": 5,
    "start_time": "2025-02-03T15:30:59.297Z"
   },
   {
    "duration": 4,
    "start_time": "2025-02-03T15:30:59.304Z"
   },
   {
    "duration": 3,
    "start_time": "2025-02-03T15:30:59.346Z"
   },
   {
    "duration": 3,
    "start_time": "2025-02-03T15:30:59.351Z"
   },
   {
    "duration": 9,
    "start_time": "2025-02-03T15:30:59.355Z"
   },
   {
    "duration": 572,
    "start_time": "2025-02-03T15:30:59.366Z"
   },
   {
    "duration": 148,
    "start_time": "2025-02-03T15:30:59.939Z"
   },
   {
    "duration": 4,
    "start_time": "2025-02-03T15:31:00.089Z"
   },
   {
    "duration": 4,
    "start_time": "2025-02-03T15:31:00.095Z"
   },
   {
    "duration": 11,
    "start_time": "2025-02-03T15:31:00.101Z"
   },
   {
    "duration": 7,
    "start_time": "2025-02-03T15:31:00.144Z"
   },
   {
    "duration": 11,
    "start_time": "2025-02-03T15:31:00.153Z"
   },
   {
    "duration": 76,
    "start_time": "2025-02-03T15:31:00.168Z"
   },
   {
    "duration": 4,
    "start_time": "2025-02-03T15:31:00.246Z"
   },
   {
    "duration": 8,
    "start_time": "2025-02-03T15:31:00.252Z"
   },
   {
    "duration": 7,
    "start_time": "2025-02-03T15:31:00.263Z"
   },
   {
    "duration": 73,
    "start_time": "2025-02-03T15:31:00.272Z"
   },
   {
    "duration": 5,
    "start_time": "2025-02-03T15:31:00.347Z"
   },
   {
    "duration": 7,
    "start_time": "2025-02-03T15:31:00.354Z"
   },
   {
    "duration": 81,
    "start_time": "2025-02-03T15:31:00.362Z"
   },
   {
    "duration": 8,
    "start_time": "2025-02-03T15:31:00.445Z"
   },
   {
    "duration": 6,
    "start_time": "2025-02-03T15:31:00.455Z"
   }
  ],
  "kernelspec": {
   "display_name": "Python 3 (ipykernel)",
   "language": "python",
   "name": "python3"
  },
  "language_info": {
   "codemirror_mode": {
    "name": "ipython",
    "version": 3
   },
   "file_extension": ".py",
   "mimetype": "text/x-python",
   "name": "python",
   "nbconvert_exporter": "python",
   "pygments_lexer": "ipython3",
   "version": "3.9.19"
  },
  "toc": {
   "base_numbering": 1,
   "nav_menu": {},
   "number_sections": true,
   "sideBar": true,
   "skip_h1_title": true,
   "title_cell": "Table of Contents",
   "title_sidebar": "Contents",
   "toc_cell": false,
   "toc_position": {
    "height": "calc(100% - 180px)",
    "left": "10px",
    "top": "150px",
    "width": "218px"
   },
   "toc_section_display": true,
   "toc_window_display": true
  }
 },
 "nbformat": 4,
 "nbformat_minor": 4
}
